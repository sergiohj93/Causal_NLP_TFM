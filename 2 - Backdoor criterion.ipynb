{
 "cells": [
  {
   "cell_type": "code",
   "execution_count": 1,
   "id": "7850183b-336e-42cf-a04f-a6f30a9121fa",
   "metadata": {
    "tags": []
   },
   "outputs": [],
   "source": [
    "from transformers import AutoTokenizer, AutoModel, TFAutoModel, AutoModelForSequenceClassification, TFAutoModelForSequenceClassification, BertModel, BertForSequenceClassification, BertTokenizer\n",
    "from tensorflow.keras.models import Model, Sequential\n",
    "from tensorflow.keras.layers import Dense, Flatten, Concatenate, GlobalAveragePooling1D\n",
    "import torch\n",
    "from sentence_transformers import SentenceTransformer, util\n",
    "from models.tarnet import TARNetTrainer\n",
    "from sklearn.model_selection import train_test_split\n",
    "from torchsummary import summary\n",
    "import tensorflow as tf\n",
    "import datasets\n",
    "import numpy as np\n",
    "import pandas as pd\n",
    "import matplotlib.pyplot as plt\n",
    "from scipy.special import softmax\n",
    "from sklearn import metrics\n",
    "from sklearn.utils.class_weight import compute_class_weight\n",
    "from time import time\n",
    "import gc"
   ]
  },
  {
   "cell_type": "markdown",
   "id": "147c1332-a962-46d4-b303-396e4f68f252",
   "metadata": {},
   "source": [
    "# S-Learner"
   ]
  },
  {
   "cell_type": "markdown",
   "id": "14a91182-d677-4842-aa67-fdcc0802cce9",
   "metadata": {},
   "source": [
    "## Offense module"
   ]
  },
  {
   "cell_type": "code",
   "execution_count": 2,
   "id": "17ce72e7-47f5-4e80-a8e0-4aa65fdf4a26",
   "metadata": {
    "colab": {
     "base_uri": "https://localhost:8080/",
     "height": 580,
     "referenced_widgets": [
      "25d10e1b089f4622a9ff8061f7fa2dc1",
      "b0c8e56800b9475f9af282e1c4a15edb",
      "e27c4ef4abaf40c2b07b5af4d541bc3f",
      "0c0b10068a374e7e91048528a83a67ba",
      "53c938c9d8894062963015fc8c34ccd5",
      "9741ed78934c4298a2034a7ec7365148",
      "f8970e3c49144308809264350121230b",
      "c49a1bc3b6534ab09da19c16fa3569e4",
      "e4081f4f68634ad5b63ef590594566f2",
      "9c71be3221174cb7bb0e189f345b28d9",
      "1f575ffa7bd144caa09c01c1b0ae5954",
      "d1eeb8e55938403093083455a633b45a",
      "9c0d494c3b66400dbb73992139f46098",
      "f84583fe125e4bcca143ff4ac47bf35e",
      "f584fa16b1ba48fc8ff6d4c4ff8b9dbd",
      "c94b65298dd946a48513680ee2f7d51b",
      "fd8d30cbdcc1416bb322284af4ed38fd",
      "1762b922710e42bd8e326eac2cef3b67",
      "2302c713309f4c3fa71b517321a62356",
      "2e1af413cfb048d3bd738f0a2d56d5c2",
      "7c4ff144e1ec4fa7801584bdab170860",
      "47be54d96a3f4661932853c10d75608c",
      "71f0bbb111974222ad529d45a376760c",
      "13314386851f4744b4f72ff8437eed63",
      "4884ad737f6b44d3880454f7f2211986",
      "e5bc5e7f0a5e411c8df37659a67a07a0",
      "e78e660f05ac4d6798124ec8e34f3477",
      "0558b0ed50734e44b609099168047b78",
      "348b3597ffe74f3686af60078f166c67",
      "3e9452f9aa754444a4070f2d8074cdc4",
      "0f64f111ead3448ba01a285cfdfdfbc0",
      "a8ef9d5768834aca9163503da575c31e",
      "a0d8645b72804cb48ce5be6a17095b2f",
      "36ae4ed40dc14c668e1bd4b1be22b377",
      "80632368dcbc4e7c9df13677020d6bfe",
      "88119943611e42cc941b9a2c0ad3aaca",
      "7eeabaf6d2294f78ba25024c4c025222",
      "7a4c4bd7ff3f4283a519f54189e63345",
      "47184205021b4764a19048fa29f31fc4",
      "d9e4b06d0ce84d3dbc0ce308ca91c87d",
      "ae2b27727f834fa89a535760e750e2c9",
      "71bd4a6b79df4352a3c3dc0314f3cb6a",
      "107ccf5cc7334b8b8bc9b684d58d116d",
      "3c7bd57877c041e385120fdd35f4e946",
      "9c4dd747532a42c5ba7fd15ba1f8d867",
      "6fa4b0b2b84942e8835a7a1aac1719f0",
      "1b4801b125c045f5964ae26f748356ad",
      "097731e7177e4c379d94dc873e6f2cfb",
      "bb4f0e5976e44126846f833b7c625f04",
      "e0818f0301bf484a93e0c100fbd4532c",
      "4c2864afe996469cbc21a02e70d052e7",
      "b9927b1560b64f99b476d9d6a348450d",
      "aa119beb93a2460997327b0718bc23b2",
      "54c64693f7094824b6f8464461afd741",
      "5c9bf5a6a48b46ae83bef0e7365262d2",
      "0515986ebac9487e87cc11507fb9ed23",
      "8fac088734b84efa967ebe5b6cd9e7a1",
      "42f48728b1fb4e3aa9428b23208c9fa3",
      "e7460a5a65b34bd28ffefbc8c8c17b79",
      "73a210ccae5347c08bff5b756e6ad935",
      "69c3798eb1c64560b27ec43cfd9147a3",
      "773270defbfd42e4a1284281bf9fc528",
      "fd4b212ac7d94f5fb1f1d92a27f65a01",
      "2519e3fb886149a097a89e867d8f4577",
      "1ead8799c33e40dc94b9fc0db592579f",
      "a1bdc584870c4feb9142d25fff2f42ed",
      "7ade5986f8eb43d298f2f80a410e88f4",
      "8b74eb2e3ad5402ba998263b43ed7221",
      "0e3d20c7cf384d60b15b9d4494fd76da",
      "bb143befcde24ea9a23603167220d146",
      "a4d7313eb964445d9bdc2799a703e5f9",
      "67d51db274314a808b2eff100eabd69d",
      "a6f1ba2ab1274c26816f4070d355a996",
      "1652de29860646f9a6b6a2f072dc3d81",
      "4a557d4a52a7473aab9faa75f441af5b",
      "eaaa06fde1f1413dbcf7a4887c2c68f7",
      "506aaed4a06943e999eaeb7fc0739007",
      "316d1d3c54df4b19a1a57e9d2508b462",
      "06de1f297b2e43f19dd105dc8e75d457",
      "f187fec9a45744cdaf9a805e7648a95b",
      "9f268b0b6b0e4fcd8fb497200501657e",
      "99137314159f482494398c83a08af801",
      "1958d2d371d64959a9dc25f54e676d10",
      "bd0557bac9d5452f87b259bc6dec8cd2",
      "4b11cd49b28a4194bbd494ee8e7d0461",
      "e5ea1d94c8ca40aaa1d9565be143eca2",
      "291d8a08fcad4e9994e13dab3e486087",
      "e6d225c5ce5e4ef3aabd109001e9f86d",
      "d3e3a6557cf3498bbb6654c3a4fa6582",
      "7015ce22ed23485fbbb69008e43b54b5",
      "61901e9df7054796a6a34be9548813ea",
      "1b9a780788ee4b60a488604ce41f4856",
      "84a0d6b56e0c427e9968a1d36cdc2757",
      "3eb333fe243c4d9f918e7f9009ac07d9",
      "930c90c973954c05a1c020523c62ddb0",
      "ce17653680e442bb9f9c65f4bfd6bf64",
      "aa44ef44dd3647f3a1a2a33e27731f7f",
      "a95a061a749a4738973ff8e037064e45",
      "95c0b6d3e81c40aeb219f2482894976a"
     ]
    },
    "id": "HOUgVPGNv79P",
    "outputId": "6221fe39-99cb-4302-f9b5-0bd87687adb1"
   },
   "outputs": [],
   "source": [
    "#roBERTa model\n",
    "off_MOD = f\"cardiffnlp/twitter-roberta-base-offensive\"\n",
    "\n",
    "#Load tokenizer and model\n",
    "tokenizer = AutoTokenizer.from_pretrained(off_MOD)\n",
    "off_class_mod = AutoModelForSequenceClassification.from_pretrained(off_MOD)\n",
    "off_class_mod.eval();"
   ]
  },
  {
   "cell_type": "code",
   "execution_count": 3,
   "id": "c3fd56b7-a71a-4224-a66e-51d72e2820fe",
   "metadata": {
    "id": "0KzywtJWoTAL"
   },
   "outputs": [],
   "source": [
    "def Compute_Offense(tokenizer,off_mod,texts,batch_size):\n",
    "  # Split texts into batches\n",
    "  batches = [texts[i:i + batch_size] for i in range(0, len(texts), batch_size)]\n",
    "  batch_out_1 = []\n",
    "\n",
    "  with torch.no_grad():\n",
    "      for batch in batches:\n",
    "          encoded_inputs = tokenizer(batch,padding=True,return_tensors='pt')\n",
    "\n",
    "          # Compute the outputs of the module as a numpy array.\n",
    "          emb_1 = off_mod(**encoded_inputs)[0]\n",
    "          scores_1 = []\n",
    "          for i in range(emb_1.shape[0]):\n",
    "                scores_1.append(softmax(emb_1[i].detach().numpy()))\n",
    "          scores_1 = np.array(scores_1)\n",
    "          batch_out_1.append(scores_1)\n",
    "\n",
    "          encoded_inputs = None\n",
    "          emb_1 = None\n",
    "          gc.collect() \n",
    "    \n",
    "  outs_off = np.concatenate(batch_out_1,axis=0)  \n",
    "\n",
    "  return outs_off"
   ]
  },
  {
   "cell_type": "markdown",
   "id": "eb18d064-650e-433b-90c4-b09921d17aad",
   "metadata": {},
   "source": [
    "### Loading the texts and labels of the training data"
   ]
  },
  {
   "cell_type": "code",
   "execution_count": 4,
   "id": "fde7a7fd-1df8-47ae-8af7-a2bf479c734b",
   "metadata": {},
   "outputs": [],
   "source": [
    "def get_texts(df):\n",
    "    np_array = df[\"text\"].to_numpy()\n",
    "    texts = []\n",
    "    for i in range(len(np_array)):\n",
    "        texts.append(np_array[i])\n",
    "    return texts"
   ]
  },
  {
   "cell_type": "code",
   "execution_count": 5,
   "id": "0ef136f4-e592-4b70-a0f7-9963a63bfd09",
   "metadata": {},
   "outputs": [],
   "source": [
    "def truncate(texts,max_length):\n",
    "    for i in range(len(texts)):\n",
    "      if len(texts[i]) > max_length:\n",
    "        texts[i] = texts[i][:max_length]\n",
    "    return texts"
   ]
  },
  {
   "cell_type": "code",
   "execution_count": 6,
   "id": "982de965-e4e6-4024-95e5-d98f8739ff0e",
   "metadata": {},
   "outputs": [],
   "source": [
    "max_length = 150"
   ]
  },
  {
   "cell_type": "code",
   "execution_count": 7,
   "id": "56113473-e592-4fa8-bf53-4d85b1c61861",
   "metadata": {},
   "outputs": [],
   "source": [
    "df_train = pd.read_csv('data/frenk_train.tsv',sep='\\t')\n",
    "frenk_train = get_texts(df_train)\n",
    "frenk_train = truncate(frenk_train,max_length)\n",
    "frenk_label_train = df_train[\"label\"].to_numpy()"
   ]
  },
  {
   "cell_type": "code",
   "execution_count": 8,
   "id": "f7915e3c-48da-493c-8bcb-6f422998da38",
   "metadata": {},
   "outputs": [],
   "source": [
    "df_train = pd.read_csv('data/try_train.tsv',sep='\\t')\n",
    "try_train = get_texts(df_train)\n",
    "try_train = truncate(try_train,max_length)\n",
    "try_label_train = df_train['label'].to_numpy()"
   ]
  },
  {
   "cell_type": "markdown",
   "id": "27247771-e474-4f45-84b0-202287d34ad4",
   "metadata": {},
   "source": [
    "### Computing the offensivity of the training data (If it's already saved you can skip this step)"
   ]
  },
  {
   "cell_type": "code",
   "execution_count": null,
   "id": "130b28f3-96f1-497e-b309-31d8a786278e",
   "metadata": {},
   "outputs": [],
   "source": [
    "batch_size = 32"
   ]
  },
  {
   "cell_type": "code",
   "execution_count": null,
   "id": "6d17de63-f661-4f17-840f-aaa57808f414",
   "metadata": {},
   "outputs": [],
   "source": [
    "t = time()\n",
    "outs_off = Compute_Offense(tokenizer,off_class_mod,frenk_train,batch_size)\n",
    "print(\"Elapsed time:\",time()-t)\n",
    "\n",
    "class_off = []\n",
    "for i in range(len(frenk_train)):\n",
    "    class_off.append(outs_off[i].argmax()) \n",
    "\n",
    "np.save('outs/frenk/class_off_train_outs.npy',class_off)"
   ]
  },
  {
   "cell_type": "code",
   "execution_count": 11,
   "id": "e4129016-e573-484c-afb8-f16ac72b3a73",
   "metadata": {},
   "outputs": [
    {
     "name": "stdout",
     "output_type": "stream",
     "text": [
      "Elapsed time: 553.1745927333832\n"
     ]
    }
   ],
   "source": [
    "t = time()\n",
    "outs_off = Compute_Offense(tokenizer,off_class_mod,try_train,batch_size)\n",
    "print(\"Elapsed time:\",time()-t)\n",
    "\n",
    "class_off = []\n",
    "for i in range(len(try_train)):\n",
    "    class_off.append(outs_off[i].argmax())   \n",
    "    \n",
    "np.save('outs/try/class_off_train_outs.npy',class_off)"
   ]
  },
  {
   "cell_type": "markdown",
   "id": "79d6a1ff-1aae-4d26-a6db-47e36584e6bf",
   "metadata": {},
   "source": [
    "## Training inputs"
   ]
  },
  {
   "cell_type": "markdown",
   "id": "70e3d277-4053-48f4-aea4-bfc8075f5616",
   "metadata": {},
   "source": [
    "### Embeddings and binary offense"
   ]
  },
  {
   "cell_type": "code",
   "execution_count": 9,
   "id": "255512eb-b3ba-47f8-9965-7ae565c8dfff",
   "metadata": {},
   "outputs": [],
   "source": [
    "frenk_sent_train = np.load('outs/frenk/sent_train_outs.npy')\n",
    "frenk_c_off_train = np.load('outs/frenk/class_off_train_outs.npy')\n",
    "frenk_gen_train = np.load('outs/frenk/gen_train_outs.npy')"
   ]
  },
  {
   "cell_type": "code",
   "execution_count": 10,
   "id": "4f8ea04d-0e6e-48c3-906e-cfd29499a1dc",
   "metadata": {},
   "outputs": [],
   "source": [
    "try_sent_train = np.load('outs/try/sent_train_outs.npy')\n",
    "try_c_off_train = np.load('outs/try/class_off_train_outs.npy')\n",
    "try_gen_train = np.load('outs/try/gen_train_outs.npy')"
   ]
  },
  {
   "cell_type": "code",
   "execution_count": 11,
   "id": "cc2c4070-a6eb-40ac-8a0d-76253a9f5b96",
   "metadata": {},
   "outputs": [],
   "source": [
    "sent_train = np.concatenate([frenk_sent_train,try_sent_train],axis=0)\n",
    "c_off_train = np.concatenate([frenk_c_off_train,try_c_off_train],axis=0)\n",
    "gen_train = np.concatenate([frenk_gen_train,try_gen_train],axis=0)"
   ]
  },
  {
   "cell_type": "code",
   "execution_count": 12,
   "id": "c06670be-cd12-48b5-b10e-7dc407838fd2",
   "metadata": {},
   "outputs": [],
   "source": [
    "c_off_train = c_off_train.reshape(len(c_off_train),1)\n",
    "conc_train = np.concatenate([sent_train,gen_train,c_off_train],axis=1)"
   ]
  },
  {
   "cell_type": "markdown",
   "id": "b5468315-962d-445f-ac4d-c3aa2eeb934e",
   "metadata": {},
   "source": [
    "### Labels"
   ]
  },
  {
   "cell_type": "code",
   "execution_count": 13,
   "id": "50422cef-12af-42d6-84f0-7d2472fdfb1e",
   "metadata": {},
   "outputs": [],
   "source": [
    "label_train = np.concatenate([frenk_label_train,try_label_train])"
   ]
  },
  {
   "cell_type": "code",
   "execution_count": 14,
   "id": "49ece42c-4287-44df-a9c7-1ba174044221",
   "metadata": {},
   "outputs": [],
   "source": [
    "c_weights = compute_class_weight('balanced', classes=np.unique(label_train), y=label_train)\n",
    "c_weights = {0:c_weights[0], 1:c_weights[1]}"
   ]
  },
  {
   "cell_type": "markdown",
   "id": "a619ee71-76bf-4184-8db1-6d368bd63cf1",
   "metadata": {},
   "source": [
    "### Training and Validation splits"
   ]
  },
  {
   "cell_type": "code",
   "execution_count": 16,
   "id": "63ba1743-50f9-4caf-adc8-9a12c8e89a53",
   "metadata": {},
   "outputs": [],
   "source": [
    "conc_train,conc_val,label_train,label_val = train_test_split(conc_train,label_train,test_size=0.1,random_state=42)"
   ]
  },
  {
   "cell_type": "markdown",
   "id": "91dbcd9d-fc9a-4fce-a6ce-aecc3887a329",
   "metadata": {},
   "source": [
    "## Factual inputs"
   ]
  },
  {
   "cell_type": "code",
   "execution_count": 18,
   "id": "3634ff43-875b-466c-ac52-d48342ac7824",
   "metadata": {},
   "outputs": [],
   "source": [
    "sent_fact_outs = np.load('outs/counterfactuals/sent_fact_outs.npy')\n",
    "factual_off = np.load('outs/counterfactuals/factual_off.npy')\n",
    "gen_fact_outs = np.load('outs/counterfactuals/gen_fact_outs.npy')"
   ]
  },
  {
   "cell_type": "code",
   "execution_count": 19,
   "id": "44c25882-57c5-4260-8016-14693bea9a5b",
   "metadata": {},
   "outputs": [],
   "source": [
    "factual_off = factual_off.reshape(len(factual_off),1)\n",
    "conc_fact = np.concatenate([sent_fact_outs,gen_fact_outs,factual_off],axis=1)"
   ]
  },
  {
   "cell_type": "markdown",
   "id": "6e3c4545-3bf8-48e6-99b3-f43a28d8d8f9",
   "metadata": {},
   "source": [
    "## Factual labels"
   ]
  },
  {
   "cell_type": "code",
   "execution_count": 20,
   "id": "ac8985a8-ad67-4706-b9bd-488670ebcd4f",
   "metadata": {},
   "outputs": [],
   "source": [
    "df_factuals = pd.read_csv('data/factuals.tsv',sep='\\t')\n",
    "labels_factuals = df_factuals[\"label\"].to_numpy()"
   ]
  },
  {
   "cell_type": "markdown",
   "id": "54d452d7-f063-4de1-843a-647dd03c5b22",
   "metadata": {},
   "source": [
    "## Counterfactual inputs (with offense intervention at the feature level)"
   ]
  },
  {
   "cell_type": "code",
   "execution_count": 21,
   "id": "ca04f30c-8c4e-4545-a01d-0a600b0e1821",
   "metadata": {},
   "outputs": [],
   "source": [
    "# Offense intervention\n",
    "cf_off = []\n",
    "for i in range(len(factual_off)):\n",
    "    if factual_off[i][0] == 0:\n",
    "        cf_off.append([1])\n",
    "    else:\n",
    "        cf_off.append([0])\n",
    "cf_off = np.array(cf_off)"
   ]
  },
  {
   "cell_type": "code",
   "execution_count": 22,
   "id": "754a2c3d-773f-497e-acda-f9fda4636cdc",
   "metadata": {},
   "outputs": [],
   "source": [
    "conc_cf = np.concatenate([sent_fact_outs,gen_fact_outs,cf_off],axis=1)"
   ]
  },
  {
   "cell_type": "markdown",
   "id": "67d5c096-a79a-4e9e-b86a-82aab932b524",
   "metadata": {},
   "source": [
    "## PEACE model"
   ]
  },
  {
   "cell_type": "code",
   "execution_count": 23,
   "id": "cadbbea6-9187-4b38-a3bb-ded52738d614",
   "metadata": {},
   "outputs": [],
   "source": [
    "n_runs = 20"
   ]
  },
  {
   "cell_type": "code",
   "execution_count": 24,
   "id": "65d4f0a8-33d1-4e60-9ac6-9a1330119ba8",
   "metadata": {
    "tags": []
   },
   "outputs": [
    {
     "name": "stdout",
     "output_type": "stream",
     "text": [
      "Epoch 1/10\n",
      "517/517 [==============================] - 2s 2ms/step - loss: 0.5525 - accuracy: 0.7008\n",
      "Epoch 2/10\n",
      "517/517 [==============================] - 1s 2ms/step - loss: 0.5206 - accuracy: 0.7233\n",
      "Epoch 3/10\n",
      "517/517 [==============================] - 1s 2ms/step - loss: 0.5101 - accuracy: 0.7248\n",
      "Epoch 4/10\n",
      "517/517 [==============================] - 1s 2ms/step - loss: 0.4947 - accuracy: 0.7315\n",
      "Epoch 5/10\n",
      "517/517 [==============================] - 1s 2ms/step - loss: 0.4817 - accuracy: 0.7451\n",
      "Epoch 6/10\n",
      "517/517 [==============================] - 1s 2ms/step - loss: 0.4708 - accuracy: 0.7449\n",
      "Epoch 7/10\n",
      "517/517 [==============================] - 1s 2ms/step - loss: 0.4598 - accuracy: 0.7578\n",
      "Epoch 8/10\n",
      "517/517 [==============================] - 1s 2ms/step - loss: 0.4413 - accuracy: 0.7648\n",
      "Epoch 9/10\n",
      "517/517 [==============================] - 1s 2ms/step - loss: 0.4291 - accuracy: 0.7755\n",
      "Epoch 10/10\n",
      "517/517 [==============================] - 1s 2ms/step - loss: 0.4175 - accuracy: 0.7787\n",
      "58/58 [==============================] - 0s 1ms/step\n",
      "Epoch 1/10\n",
      "517/517 [==============================] - 1s 2ms/step - loss: 0.5554 - accuracy: 0.6961\n",
      "Epoch 2/10\n",
      "517/517 [==============================] - 1s 2ms/step - loss: 0.5217 - accuracy: 0.7180\n",
      "Epoch 3/10\n",
      "517/517 [==============================] - 1s 2ms/step - loss: 0.5095 - accuracy: 0.7268\n",
      "Epoch 4/10\n",
      "517/517 [==============================] - 1s 2ms/step - loss: 0.4956 - accuracy: 0.7329\n",
      "Epoch 5/10\n",
      "517/517 [==============================] - 1s 2ms/step - loss: 0.4819 - accuracy: 0.7427\n",
      "Epoch 6/10\n",
      "517/517 [==============================] - 1s 2ms/step - loss: 0.4686 - accuracy: 0.7515\n",
      "Epoch 7/10\n",
      "517/517 [==============================] - 1s 2ms/step - loss: 0.4552 - accuracy: 0.7611\n",
      "Epoch 8/10\n",
      "517/517 [==============================] - 1s 2ms/step - loss: 0.4379 - accuracy: 0.7667\n",
      "Epoch 9/10\n",
      "517/517 [==============================] - 1s 2ms/step - loss: 0.4273 - accuracy: 0.7726\n",
      "Epoch 10/10\n",
      "517/517 [==============================] - 1s 2ms/step - loss: 0.4108 - accuracy: 0.7810\n",
      "58/58 [==============================] - 0s 1ms/step\n",
      "Epoch 1/10\n",
      "517/517 [==============================] - 1s 2ms/step - loss: 0.5525 - accuracy: 0.7001\n",
      "Epoch 2/10\n",
      "517/517 [==============================] - 1s 2ms/step - loss: 0.5201 - accuracy: 0.7205\n",
      "Epoch 3/10\n",
      "517/517 [==============================] - 1s 2ms/step - loss: 0.5059 - accuracy: 0.7287\n",
      "Epoch 4/10\n",
      "517/517 [==============================] - 1s 2ms/step - loss: 0.4969 - accuracy: 0.7342\n",
      "Epoch 5/10\n",
      "517/517 [==============================] - 1s 2ms/step - loss: 0.4855 - accuracy: 0.7384\n",
      "Epoch 6/10\n",
      "517/517 [==============================] - 1s 2ms/step - loss: 0.4714 - accuracy: 0.7476\n",
      "Epoch 7/10\n",
      "517/517 [==============================] - 1s 2ms/step - loss: 0.4633 - accuracy: 0.7486\n",
      "Epoch 8/10\n",
      "517/517 [==============================] - 1s 2ms/step - loss: 0.4493 - accuracy: 0.7561\n",
      "Epoch 9/10\n",
      "517/517 [==============================] - 1s 2ms/step - loss: 0.4383 - accuracy: 0.7672\n",
      "Epoch 10/10\n",
      "517/517 [==============================] - 1s 2ms/step - loss: 0.4265 - accuracy: 0.7736\n",
      "58/58 [==============================] - 0s 2ms/step\n",
      "Epoch 1/10\n",
      "517/517 [==============================] - 1s 2ms/step - loss: 0.5531 - accuracy: 0.7020\n",
      "Epoch 2/10\n",
      "517/517 [==============================] - 1s 2ms/step - loss: 0.5216 - accuracy: 0.7252\n",
      "Epoch 3/10\n",
      "517/517 [==============================] - 1s 2ms/step - loss: 0.5076 - accuracy: 0.7326\n",
      "Epoch 4/10\n",
      "517/517 [==============================] - 1s 2ms/step - loss: 0.4975 - accuracy: 0.7370\n",
      "Epoch 5/10\n",
      "517/517 [==============================] - 1s 2ms/step - loss: 0.4833 - accuracy: 0.7438\n",
      "Epoch 6/10\n",
      "517/517 [==============================] - 1s 2ms/step - loss: 0.4673 - accuracy: 0.7555\n",
      "Epoch 7/10\n",
      "517/517 [==============================] - 1s 2ms/step - loss: 0.4598 - accuracy: 0.7581\n",
      "Epoch 8/10\n",
      "517/517 [==============================] - 1s 2ms/step - loss: 0.4417 - accuracy: 0.7698\n",
      "Epoch 9/10\n",
      "517/517 [==============================] - 1s 2ms/step - loss: 0.4320 - accuracy: 0.7750\n",
      "Epoch 10/10\n",
      "517/517 [==============================] - 1s 2ms/step - loss: 0.4146 - accuracy: 0.7846\n",
      "58/58 [==============================] - 0s 1ms/step\n",
      "Epoch 1/10\n",
      "517/517 [==============================] - 1s 2ms/step - loss: 0.5503 - accuracy: 0.6994\n",
      "Epoch 2/10\n",
      "517/517 [==============================] - 1s 2ms/step - loss: 0.5222 - accuracy: 0.7232\n",
      "Epoch 3/10\n",
      "517/517 [==============================] - 1s 3ms/step - loss: 0.5087 - accuracy: 0.7326\n",
      "Epoch 4/10\n",
      "517/517 [==============================] - 2s 3ms/step - loss: 0.4989 - accuracy: 0.7348\n",
      "Epoch 5/10\n",
      "517/517 [==============================] - 1s 3ms/step - loss: 0.4836 - accuracy: 0.7429\n",
      "Epoch 6/10\n",
      "517/517 [==============================] - 1s 2ms/step - loss: 0.4729 - accuracy: 0.7511\n",
      "Epoch 7/10\n",
      "517/517 [==============================] - 1s 2ms/step - loss: 0.4634 - accuracy: 0.7513\n",
      "Epoch 8/10\n",
      "517/517 [==============================] - 1s 2ms/step - loss: 0.4472 - accuracy: 0.7601\n",
      "Epoch 9/10\n",
      "517/517 [==============================] - 1s 2ms/step - loss: 0.4378 - accuracy: 0.7684\n",
      "Epoch 10/10\n",
      "517/517 [==============================] - 1s 2ms/step - loss: 0.4203 - accuracy: 0.7779\n",
      "58/58 [==============================] - 0s 1ms/step\n",
      "Epoch 1/10\n",
      "517/517 [==============================] - 1s 2ms/step - loss: 0.5512 - accuracy: 0.7024\n",
      "Epoch 2/10\n",
      "517/517 [==============================] - 1s 2ms/step - loss: 0.5207 - accuracy: 0.7220\n",
      "Epoch 3/10\n",
      "517/517 [==============================] - 1s 2ms/step - loss: 0.5084 - accuracy: 0.7291\n",
      "Epoch 4/10\n",
      "517/517 [==============================] - 1s 2ms/step - loss: 0.4955 - accuracy: 0.7351\n",
      "Epoch 5/10\n",
      "517/517 [==============================] - 1s 2ms/step - loss: 0.4834 - accuracy: 0.7395\n",
      "Epoch 6/10\n",
      "517/517 [==============================] - 1s 2ms/step - loss: 0.4751 - accuracy: 0.7425\n",
      "Epoch 7/10\n",
      "517/517 [==============================] - 1s 2ms/step - loss: 0.4589 - accuracy: 0.7570\n",
      "Epoch 8/10\n",
      "517/517 [==============================] - 1s 3ms/step - loss: 0.4462 - accuracy: 0.7591\n",
      "Epoch 9/10\n",
      "517/517 [==============================] - 1s 3ms/step - loss: 0.4346 - accuracy: 0.7639\n",
      "Epoch 10/10\n",
      "517/517 [==============================] - 1s 3ms/step - loss: 0.4210 - accuracy: 0.7760\n",
      "58/58 [==============================] - 0s 2ms/step\n",
      "Epoch 1/10\n",
      "517/517 [==============================] - 1s 2ms/step - loss: 0.5534 - accuracy: 0.7017\n",
      "Epoch 2/10\n",
      "517/517 [==============================] - 1s 2ms/step - loss: 0.5229 - accuracy: 0.7206\n",
      "Epoch 3/10\n",
      "517/517 [==============================] - 1s 2ms/step - loss: 0.5067 - accuracy: 0.7282\n",
      "Epoch 4/10\n",
      "517/517 [==============================] - 1s 2ms/step - loss: 0.4937 - accuracy: 0.7361\n",
      "Epoch 5/10\n",
      "517/517 [==============================] - 1s 2ms/step - loss: 0.4888 - accuracy: 0.7374\n",
      "Epoch 6/10\n",
      "517/517 [==============================] - 1s 2ms/step - loss: 0.4732 - accuracy: 0.7483\n",
      "Epoch 7/10\n",
      "517/517 [==============================] - 1s 2ms/step - loss: 0.4637 - accuracy: 0.7484\n",
      "Epoch 8/10\n",
      "517/517 [==============================] - 1s 2ms/step - loss: 0.4525 - accuracy: 0.7567\n",
      "Epoch 9/10\n",
      "517/517 [==============================] - 1s 2ms/step - loss: 0.4427 - accuracy: 0.7633\n",
      "Epoch 10/10\n",
      "517/517 [==============================] - 1s 2ms/step - loss: 0.4261 - accuracy: 0.7721\n",
      "58/58 [==============================] - 0s 1ms/step\n",
      "Epoch 1/10\n",
      "517/517 [==============================] - 1s 2ms/step - loss: 0.5532 - accuracy: 0.7038\n",
      "Epoch 2/10\n",
      "517/517 [==============================] - 1s 2ms/step - loss: 0.5229 - accuracy: 0.7207\n",
      "Epoch 3/10\n",
      "517/517 [==============================] - 2s 3ms/step - loss: 0.5115 - accuracy: 0.7266\n",
      "Epoch 4/10\n",
      "517/517 [==============================] - 2s 3ms/step - loss: 0.4990 - accuracy: 0.7323\n",
      "Epoch 5/10\n",
      "517/517 [==============================] - 1s 2ms/step - loss: 0.4884 - accuracy: 0.7367\n",
      "Epoch 6/10\n",
      "517/517 [==============================] - 1s 2ms/step - loss: 0.4773 - accuracy: 0.7444\n",
      "Epoch 7/10\n",
      "517/517 [==============================] - 1s 2ms/step - loss: 0.4636 - accuracy: 0.7501\n",
      "Epoch 8/10\n",
      "517/517 [==============================] - 1s 2ms/step - loss: 0.4492 - accuracy: 0.7620\n",
      "Epoch 9/10\n",
      "517/517 [==============================] - 1s 2ms/step - loss: 0.4380 - accuracy: 0.7643\n",
      "Epoch 10/10\n",
      "517/517 [==============================] - 1s 2ms/step - loss: 0.4204 - accuracy: 0.7792\n",
      "58/58 [==============================] - 0s 1ms/step\n",
      "Epoch 1/10\n",
      "517/517 [==============================] - 1s 2ms/step - loss: 0.5507 - accuracy: 0.7029\n",
      "Epoch 2/10\n",
      "517/517 [==============================] - 1s 2ms/step - loss: 0.5236 - accuracy: 0.7182\n",
      "Epoch 3/10\n",
      "517/517 [==============================] - 1s 2ms/step - loss: 0.5084 - accuracy: 0.7279\n",
      "Epoch 4/10\n",
      "517/517 [==============================] - 1s 2ms/step - loss: 0.4966 - accuracy: 0.7334\n",
      "Epoch 5/10\n",
      "517/517 [==============================] - 1s 2ms/step - loss: 0.4853 - accuracy: 0.7400\n",
      "Epoch 6/10\n",
      "517/517 [==============================] - 1s 2ms/step - loss: 0.4714 - accuracy: 0.7481\n",
      "Epoch 7/10\n",
      "517/517 [==============================] - 1s 3ms/step - loss: 0.4583 - accuracy: 0.7571\n",
      "Epoch 8/10\n",
      "517/517 [==============================] - 2s 3ms/step - loss: 0.4482 - accuracy: 0.7615\n",
      "Epoch 9/10\n",
      "517/517 [==============================] - 1s 3ms/step - loss: 0.4361 - accuracy: 0.7691\n",
      "Epoch 10/10\n",
      "517/517 [==============================] - 1s 2ms/step - loss: 0.4203 - accuracy: 0.7795\n",
      "58/58 [==============================] - 0s 1ms/step\n",
      "Epoch 1/10\n",
      "517/517 [==============================] - 1s 2ms/step - loss: 0.5522 - accuracy: 0.7022\n",
      "Epoch 2/10\n",
      "517/517 [==============================] - 1s 2ms/step - loss: 0.5244 - accuracy: 0.7190\n",
      "Epoch 3/10\n",
      "517/517 [==============================] - 1s 2ms/step - loss: 0.5063 - accuracy: 0.7316\n",
      "Epoch 4/10\n",
      "517/517 [==============================] - 1s 2ms/step - loss: 0.4959 - accuracy: 0.7409\n",
      "Epoch 5/10\n",
      "517/517 [==============================] - 1s 2ms/step - loss: 0.4869 - accuracy: 0.7428\n",
      "Epoch 6/10\n",
      "517/517 [==============================] - 1s 2ms/step - loss: 0.4738 - accuracy: 0.7454\n",
      "Epoch 7/10\n",
      "517/517 [==============================] - 1s 2ms/step - loss: 0.4615 - accuracy: 0.7540\n",
      "Epoch 8/10\n",
      "517/517 [==============================] - 1s 2ms/step - loss: 0.4452 - accuracy: 0.7645\n",
      "Epoch 9/10\n",
      "517/517 [==============================] - 1s 2ms/step - loss: 0.4328 - accuracy: 0.7718\n",
      "Epoch 10/10\n",
      "517/517 [==============================] - 1s 2ms/step - loss: 0.4196 - accuracy: 0.7776\n",
      "58/58 [==============================] - 0s 1ms/step\n",
      "Epoch 1/10\n",
      "517/517 [==============================] - 2s 2ms/step - loss: 0.5514 - accuracy: 0.7024\n",
      "Epoch 2/10\n",
      "517/517 [==============================] - 1s 3ms/step - loss: 0.5204 - accuracy: 0.7212\n",
      "Epoch 3/10\n",
      "517/517 [==============================] - 1s 3ms/step - loss: 0.5091 - accuracy: 0.7269\n",
      "Epoch 4/10\n",
      "517/517 [==============================] - 1s 2ms/step - loss: 0.4933 - accuracy: 0.7342\n",
      "Epoch 5/10\n",
      "517/517 [==============================] - 1s 2ms/step - loss: 0.4827 - accuracy: 0.7448\n",
      "Epoch 6/10\n",
      "517/517 [==============================] - 1s 2ms/step - loss: 0.4708 - accuracy: 0.7503\n",
      "Epoch 7/10\n",
      "517/517 [==============================] - 1s 2ms/step - loss: 0.4547 - accuracy: 0.7564\n",
      "Epoch 8/10\n",
      "517/517 [==============================] - 1s 2ms/step - loss: 0.4402 - accuracy: 0.7614\n",
      "Epoch 9/10\n",
      "517/517 [==============================] - 1s 2ms/step - loss: 0.4273 - accuracy: 0.7728\n",
      "Epoch 10/10\n",
      "517/517 [==============================] - 1s 2ms/step - loss: 0.4159 - accuracy: 0.7796\n",
      "58/58 [==============================] - 0s 1ms/step\n",
      "Epoch 1/10\n",
      "517/517 [==============================] - 1s 2ms/step - loss: 0.5544 - accuracy: 0.6971\n",
      "Epoch 2/10\n",
      "517/517 [==============================] - 1s 2ms/step - loss: 0.5221 - accuracy: 0.7219\n",
      "Epoch 3/10\n",
      "517/517 [==============================] - 1s 2ms/step - loss: 0.5075 - accuracy: 0.7289\n",
      "Epoch 4/10\n",
      "517/517 [==============================] - 1s 2ms/step - loss: 0.4974 - accuracy: 0.7330\n",
      "Epoch 5/10\n",
      "517/517 [==============================] - 1s 2ms/step - loss: 0.4825 - accuracy: 0.7401\n",
      "Epoch 6/10\n",
      "517/517 [==============================] - 1s 2ms/step - loss: 0.4756 - accuracy: 0.7460\n",
      "Epoch 7/10\n",
      "517/517 [==============================] - 1s 2ms/step - loss: 0.4578 - accuracy: 0.7540\n",
      "Epoch 8/10\n",
      "517/517 [==============================] - 1s 2ms/step - loss: 0.4479 - accuracy: 0.7596\n",
      "Epoch 9/10\n",
      "517/517 [==============================] - 1s 2ms/step - loss: 0.4322 - accuracy: 0.7696\n",
      "Epoch 10/10\n",
      "517/517 [==============================] - 1s 3ms/step - loss: 0.4194 - accuracy: 0.7754\n",
      "58/58 [==============================] - 0s 1ms/step\n",
      "Epoch 1/10\n",
      "517/517 [==============================] - 1s 2ms/step - loss: 0.5508 - accuracy: 0.7035\n",
      "Epoch 2/10\n",
      "517/517 [==============================] - 1s 2ms/step - loss: 0.5193 - accuracy: 0.7227\n",
      "Epoch 3/10\n",
      "517/517 [==============================] - 1s 2ms/step - loss: 0.5092 - accuracy: 0.7299\n",
      "Epoch 4/10\n",
      "517/517 [==============================] - 1s 2ms/step - loss: 0.4963 - accuracy: 0.7348\n",
      "Epoch 5/10\n",
      "517/517 [==============================] - 1s 2ms/step - loss: 0.4856 - accuracy: 0.7398\n",
      "Epoch 6/10\n",
      "517/517 [==============================] - 1s 2ms/step - loss: 0.4749 - accuracy: 0.7432\n",
      "Epoch 7/10\n",
      "517/517 [==============================] - 1s 2ms/step - loss: 0.4585 - accuracy: 0.7522\n",
      "Epoch 8/10\n",
      "517/517 [==============================] - 1s 2ms/step - loss: 0.4488 - accuracy: 0.7603\n",
      "Epoch 9/10\n",
      "517/517 [==============================] - 1s 2ms/step - loss: 0.4376 - accuracy: 0.7660\n",
      "Epoch 10/10\n",
      "517/517 [==============================] - 1s 2ms/step - loss: 0.4192 - accuracy: 0.7755\n",
      "58/58 [==============================] - 0s 1ms/step\n",
      "Epoch 1/10\n",
      "517/517 [==============================] - 1s 2ms/step - loss: 0.5556 - accuracy: 0.6978\n",
      "Epoch 2/10\n",
      "517/517 [==============================] - 1s 2ms/step - loss: 0.5202 - accuracy: 0.7179\n",
      "Epoch 3/10\n",
      "517/517 [==============================] - 1s 2ms/step - loss: 0.5084 - accuracy: 0.7298\n",
      "Epoch 4/10\n",
      "517/517 [==============================] - 1s 3ms/step - loss: 0.4974 - accuracy: 0.7328\n",
      "Epoch 5/10\n",
      "517/517 [==============================] - 2s 3ms/step - loss: 0.4808 - accuracy: 0.7447\n",
      "Epoch 6/10\n",
      "517/517 [==============================] - 1s 2ms/step - loss: 0.4720 - accuracy: 0.7467\n",
      "Epoch 7/10\n",
      "517/517 [==============================] - 1s 2ms/step - loss: 0.4564 - accuracy: 0.7591\n",
      "Epoch 8/10\n",
      "517/517 [==============================] - 1s 2ms/step - loss: 0.4423 - accuracy: 0.7624\n",
      "Epoch 9/10\n",
      "517/517 [==============================] - 1s 2ms/step - loss: 0.4301 - accuracy: 0.7744\n",
      "Epoch 10/10\n",
      "517/517 [==============================] - 1s 2ms/step - loss: 0.4153 - accuracy: 0.7784\n",
      "58/58 [==============================] - 0s 934us/step\n",
      "Epoch 1/10\n",
      "517/517 [==============================] - 1s 2ms/step - loss: 0.5527 - accuracy: 0.6998\n",
      "Epoch 2/10\n",
      "517/517 [==============================] - 1s 2ms/step - loss: 0.5187 - accuracy: 0.7233\n",
      "Epoch 3/10\n",
      "517/517 [==============================] - 1s 2ms/step - loss: 0.5092 - accuracy: 0.7247\n",
      "Epoch 4/10\n",
      "517/517 [==============================] - 1s 2ms/step - loss: 0.4963 - accuracy: 0.7370\n",
      "Epoch 5/10\n",
      "517/517 [==============================] - 1s 2ms/step - loss: 0.4854 - accuracy: 0.7412\n",
      "Epoch 6/10\n",
      "517/517 [==============================] - 1s 2ms/step - loss: 0.4715 - accuracy: 0.7464\n",
      "Epoch 7/10\n",
      "517/517 [==============================] - 1s 2ms/step - loss: 0.4596 - accuracy: 0.7545\n",
      "Epoch 8/10\n",
      "517/517 [==============================] - 1s 2ms/step - loss: 0.4469 - accuracy: 0.7602\n",
      "Epoch 9/10\n",
      "517/517 [==============================] - 1s 2ms/step - loss: 0.4359 - accuracy: 0.7666\n",
      "Epoch 10/10\n",
      "517/517 [==============================] - 1s 3ms/step - loss: 0.4204 - accuracy: 0.7745\n",
      "58/58 [==============================] - 0s 1ms/step\n",
      "Epoch 1/10\n",
      "517/517 [==============================] - 3s 2ms/step - loss: 0.5498 - accuracy: 0.7024\n",
      "Epoch 2/10\n",
      "517/517 [==============================] - 1s 2ms/step - loss: 0.5198 - accuracy: 0.7199\n",
      "Epoch 3/10\n",
      "517/517 [==============================] - 1s 2ms/step - loss: 0.5054 - accuracy: 0.7314\n",
      "Epoch 4/10\n",
      "517/517 [==============================] - 1s 2ms/step - loss: 0.4920 - accuracy: 0.7380\n",
      "Epoch 5/10\n",
      "517/517 [==============================] - 1s 2ms/step - loss: 0.4828 - accuracy: 0.7401\n",
      "Epoch 6/10\n",
      "517/517 [==============================] - 1s 2ms/step - loss: 0.4705 - accuracy: 0.7489\n",
      "Epoch 7/10\n",
      "517/517 [==============================] - 1s 2ms/step - loss: 0.4602 - accuracy: 0.7525\n",
      "Epoch 8/10\n",
      "517/517 [==============================] - 1s 2ms/step - loss: 0.4450 - accuracy: 0.7591\n",
      "Epoch 9/10\n",
      "517/517 [==============================] - 1s 2ms/step - loss: 0.4370 - accuracy: 0.7674\n",
      "Epoch 10/10\n",
      "517/517 [==============================] - 2s 3ms/step - loss: 0.4208 - accuracy: 0.7769\n",
      "58/58 [==============================] - 0s 2ms/step\n",
      "Epoch 1/10\n",
      "517/517 [==============================] - 2s 3ms/step - loss: 0.5486 - accuracy: 0.7084\n",
      "Epoch 2/10\n",
      "517/517 [==============================] - 1s 2ms/step - loss: 0.5268 - accuracy: 0.7161\n",
      "Epoch 3/10\n",
      "517/517 [==============================] - 1s 2ms/step - loss: 0.5074 - accuracy: 0.7296\n",
      "Epoch 4/10\n",
      "517/517 [==============================] - 1s 2ms/step - loss: 0.4950 - accuracy: 0.7314\n",
      "Epoch 5/10\n",
      "517/517 [==============================] - 1s 2ms/step - loss: 0.4815 - accuracy: 0.7458\n",
      "Epoch 6/10\n",
      "517/517 [==============================] - 1s 2ms/step - loss: 0.4686 - accuracy: 0.7498\n",
      "Epoch 7/10\n",
      "517/517 [==============================] - 1s 2ms/step - loss: 0.4574 - accuracy: 0.7553\n",
      "Epoch 8/10\n",
      "517/517 [==============================] - 1s 2ms/step - loss: 0.4446 - accuracy: 0.7610\n",
      "Epoch 9/10\n",
      "517/517 [==============================] - 1s 2ms/step - loss: 0.4302 - accuracy: 0.7690\n",
      "Epoch 10/10\n",
      "517/517 [==============================] - 1s 2ms/step - loss: 0.4144 - accuracy: 0.7782\n",
      "58/58 [==============================] - 0s 1ms/step\n",
      "Epoch 1/10\n",
      "517/517 [==============================] - 1s 2ms/step - loss: 0.5525 - accuracy: 0.7002\n",
      "Epoch 2/10\n",
      "517/517 [==============================] - 1s 2ms/step - loss: 0.5225 - accuracy: 0.7250\n",
      "Epoch 3/10\n",
      "517/517 [==============================] - 1s 2ms/step - loss: 0.5082 - accuracy: 0.7334\n",
      "Epoch 4/10\n",
      "517/517 [==============================] - 1s 2ms/step - loss: 0.4994 - accuracy: 0.7377\n",
      "Epoch 5/10\n",
      "517/517 [==============================] - 2s 3ms/step - loss: 0.4853 - accuracy: 0.7374\n",
      "Epoch 6/10\n",
      "517/517 [==============================] - 1s 3ms/step - loss: 0.4738 - accuracy: 0.7475\n",
      "Epoch 7/10\n",
      "517/517 [==============================] - 1s 2ms/step - loss: 0.4641 - accuracy: 0.7493\n",
      "Epoch 8/10\n",
      "517/517 [==============================] - 1s 2ms/step - loss: 0.4512 - accuracy: 0.7569\n",
      "Epoch 9/10\n",
      "517/517 [==============================] - 1s 2ms/step - loss: 0.4379 - accuracy: 0.7668\n",
      "Epoch 10/10\n",
      "517/517 [==============================] - 1s 2ms/step - loss: 0.4246 - accuracy: 0.7721\n",
      "58/58 [==============================] - 0s 1ms/step\n",
      "Epoch 1/10\n",
      "517/517 [==============================] - 1s 2ms/step - loss: 0.5544 - accuracy: 0.6991\n",
      "Epoch 2/10\n",
      "517/517 [==============================] - 1s 2ms/step - loss: 0.5231 - accuracy: 0.7207\n",
      "Epoch 3/10\n",
      "517/517 [==============================] - 1s 2ms/step - loss: 0.5112 - accuracy: 0.7283\n",
      "Epoch 4/10\n",
      "517/517 [==============================] - 1s 2ms/step - loss: 0.4951 - accuracy: 0.7355\n",
      "Epoch 5/10\n",
      "517/517 [==============================] - 1s 2ms/step - loss: 0.4837 - accuracy: 0.7416\n",
      "Epoch 6/10\n",
      "517/517 [==============================] - 1s 2ms/step - loss: 0.4755 - accuracy: 0.7476\n",
      "Epoch 7/10\n",
      "517/517 [==============================] - 1s 2ms/step - loss: 0.4634 - accuracy: 0.7528\n",
      "Epoch 8/10\n",
      "517/517 [==============================] - 1s 2ms/step - loss: 0.4482 - accuracy: 0.7581\n",
      "Epoch 9/10\n",
      "517/517 [==============================] - 2s 3ms/step - loss: 0.4315 - accuracy: 0.7725\n",
      "Epoch 10/10\n",
      "517/517 [==============================] - 2s 3ms/step - loss: 0.4186 - accuracy: 0.7795\n",
      "58/58 [==============================] - 0s 2ms/step\n",
      "Epoch 1/10\n",
      "517/517 [==============================] - 1s 2ms/step - loss: 0.5521 - accuracy: 0.7004\n",
      "Epoch 2/10\n",
      "517/517 [==============================] - 1s 2ms/step - loss: 0.5210 - accuracy: 0.7228\n",
      "Epoch 3/10\n",
      "517/517 [==============================] - 1s 2ms/step - loss: 0.5069 - accuracy: 0.7261\n",
      "Epoch 4/10\n",
      "517/517 [==============================] - 1s 2ms/step - loss: 0.4943 - accuracy: 0.7358\n",
      "Epoch 5/10\n",
      "517/517 [==============================] - 1s 2ms/step - loss: 0.4820 - accuracy: 0.7431\n",
      "Epoch 6/10\n",
      "517/517 [==============================] - 1s 2ms/step - loss: 0.4742 - accuracy: 0.7442\n",
      "Epoch 7/10\n",
      "517/517 [==============================] - 1s 2ms/step - loss: 0.4584 - accuracy: 0.7581\n",
      "Epoch 8/10\n",
      "517/517 [==============================] - 1s 2ms/step - loss: 0.4462 - accuracy: 0.7587\n",
      "Epoch 9/10\n",
      "517/517 [==============================] - 1s 2ms/step - loss: 0.4283 - accuracy: 0.7735\n",
      "Epoch 10/10\n",
      "517/517 [==============================] - 1s 2ms/step - loss: 0.4152 - accuracy: 0.7825\n",
      "58/58 [==============================] - 0s 1ms/step\n"
     ]
    }
   ],
   "source": [
    "best_f1_val = 0\n",
    "best_model = None\n",
    "for i in range(n_runs):\n",
    "    hate_model = Sequential([\n",
    "          Flatten(),\n",
    "          Dense(128, activation='relu'),\n",
    "          Dense(128, activation='relu'),\n",
    "          Dense(1, activation='sigmoid')\n",
    "      ])\n",
    "    hate_model.compile(optimizer='adam', loss='binary_crossentropy', metrics=['accuracy'])\n",
    "    hate_model.fit(conc_train, label_train, class_weight=c_weights, epochs=10, batch_size=32)\n",
    "    \n",
    "    #Selecting the model with best f1 score in the validation set\n",
    "    f_hate = np.squeeze(hate_model.predict(conc_val))\n",
    "    preds = (f_hate > 0.5).astype(int)\n",
    "    f1_val = metrics.f1_score(preds,label_val,zero_division=1)\n",
    "    if f1_val > best_f1_val:\n",
    "        best_f1_val = f1_val\n",
    "        best_model = hate_model"
   ]
  },
  {
   "cell_type": "code",
   "execution_count": 25,
   "id": "a3ec18a7-aee7-4e3f-a07f-150abad31573",
   "metadata": {},
   "outputs": [
    {
     "name": "stdout",
     "output_type": "stream",
     "text": [
      "96/96 [==============================] - 0s 976us/step\n",
      "96/96 [==============================] - 0s 916us/step\n"
     ]
    }
   ],
   "source": [
    "f_hate = np.squeeze(best_model.predict(conc_fact))\n",
    "cf_hate = np.squeeze(best_model.predict(conc_cf))"
   ]
  },
  {
   "cell_type": "markdown",
   "id": "966361a5-ff79-4121-97ec-6ea246c9bd9e",
   "metadata": {},
   "source": [
    "## Classification metrics of the factuals"
   ]
  },
  {
   "cell_type": "code",
   "execution_count": 26,
   "id": "969d4a0c-b3e9-4bd8-8b18-64af58ad6b41",
   "metadata": {},
   "outputs": [
    {
     "name": "stdout",
     "output_type": "stream",
     "text": [
      "Accuracy: 0.7055937193326791\n",
      "F1 score: 0.647335423197492\n"
     ]
    }
   ],
   "source": [
    "preds = (f_hate > 0.5).astype(int)\n",
    "acc_test = metrics.accuracy_score(preds,labels_factuals)\n",
    "f1_test = metrics.f1_score(preds,labels_factuals,zero_division=1)\n",
    "\n",
    "print(\"Accuracy:\",acc_test)\n",
    "print(\"F1 score:\",f1_test)"
   ]
  },
  {
   "cell_type": "markdown",
   "id": "7cc845ad-098b-452a-bd11-7d998d9c00b2",
   "metadata": {},
   "source": [
    "## Computing the ITE"
   ]
  },
  {
   "cell_type": "code",
   "execution_count": 27,
   "id": "6544ec56-8d9d-42f2-8a67-325a2dfc8cf2",
   "metadata": {},
   "outputs": [],
   "source": [
    "ITE_peace = []\n",
    "for i in range(len(f_hate)):\n",
    "    if factual_off[i][0]:\n",
    "        ITE_peace.append(f_hate[i] - cf_hate[i])\n",
    "    else:\n",
    "        ITE_peace.append(cf_hate[i] - f_hate[i])"
   ]
  },
  {
   "cell_type": "markdown",
   "id": "5934693a-4847-4633-987b-a0e2b6d87dd9",
   "metadata": {},
   "source": [
    "# ATE"
   ]
  },
  {
   "cell_type": "code",
   "execution_count": 28,
   "id": "e2a89f55-eb58-43b3-89ce-e584b3e4d3bf",
   "metadata": {},
   "outputs": [
    {
     "name": "stdout",
     "output_type": "stream",
     "text": [
      "ATE: 0.04321015\n"
     ]
    }
   ],
   "source": [
    "print(\"ATE:\",np.mean(ITE_peace))"
   ]
  },
  {
   "cell_type": "code",
   "execution_count": 56,
   "id": "c6246875-c9a8-46d7-9afd-86ec5bb13065",
   "metadata": {},
   "outputs": [
    {
     "data": {
      "image/png": "[encoded data removed]",
      "text/plain": [
       "<Figure size 640x480 with 1 Axes>"
      ]
     },
     "metadata": {},
     "output_type": "display_data"
    }
   ],
   "source": [
    "#Histogram of ITE\n",
    "fig, ax = plt.subplots()\n",
    "counts, bins, patches = ax.hist(x=ITE_peace, color='red',rwidth=0.85)\n",
    "ax.set_xlabel('ITE')\n",
    "ax.set_ylabel('Frequency')\n",
    "plt.show()"
   ]
  },
  {
   "cell_type": "code",
   "execution_count": 47,
   "id": "8c8fad25-090c-4ef4-b473-c701c3e861bc",
   "metadata": {},
   "outputs": [
    {
     "name": "stdout",
     "output_type": "stream",
     "text": [
      "Max. ITE: 0.29485983\n",
      "Min. ITE: 8.479255e-12\n"
     ]
    }
   ],
   "source": [
    "print(\"Max. ITE:\",np.max(ITE_peace))\n",
    "print(\"Min. ITE:\",np.min(ITE_peace))"
   ]
  },
  {
   "cell_type": "markdown",
   "id": "9e21344e-4e40-48b4-b110-4c8a4d1618d2",
   "metadata": {},
   "source": [
    "# TARNet"
   ]
  },
  {
   "cell_type": "markdown",
   "id": "fb6a6c37-295a-4209-843c-666cb56da8d5",
   "metadata": {},
   "source": [
    "## Inputs and labels of TARNet and DragonNET"
   ]
  },
  {
   "cell_type": "code",
   "execution_count": 31,
   "id": "8acbde00-04a6-4280-a477-7a013f3ed822",
   "metadata": {},
   "outputs": [],
   "source": [
    "X_train = conc_train[:,0:-1]\n",
    "T_train = conc_train[:,-1]\n",
    "Y_train = label_train\n",
    "\n",
    "X_val = conc_val[:,0:-1]\n",
    "T_val = conc_val[:,-1]\n",
    "Y_val = label_val\n",
    "\n",
    "X_test = np.concatenate([sent_fact_outs,gen_fact_outs],axis=1)\n",
    "T_test = np.squeeze(factual_off)\n",
    "Y_test = labels_factuals"
   ]
  },
  {
   "cell_type": "markdown",
   "id": "fb2966c9-3326-4147-a931-171dc307e0e9",
   "metadata": {},
   "source": [
    "## Training the model"
   ]
  },
  {
   "cell_type": "code",
   "execution_count": 32,
   "id": "fe2b8ca3-ed62-4f53-b5a7-88d2a7d7ccd4",
   "metadata": {},
   "outputs": [],
   "source": [
    "n_runs = 20"
   ]
  },
  {
   "cell_type": "code",
   "execution_count": 33,
   "id": "e39f9e66-2a46-40e7-85b1-488fd7034e5a",
   "metadata": {},
   "outputs": [
    {
     "name": "stdout",
     "output_type": "stream",
     "text": [
      "Elapsed time: 178.80783772468567\n",
      "0.5856031128404668\n",
      "Elapsed time: 187.90226006507874\n",
      "0.5705882352941176\n",
      "Elapsed time: 158.60697531700134\n",
      "0.6005560704355885\n",
      "Elapsed time: 152.41577124595642\n",
      "0.48539325842696635\n",
      "Elapsed time: 171.18013167381287\n",
      "0.5761078998073217\n",
      "Elapsed time: 204.94431567192078\n",
      "0.576735092864125\n",
      "Elapsed time: 191.36433482170105\n",
      "0.5899419729206963\n",
      "Elapsed time: 177.18637323379517\n",
      "0.6086142322097378\n",
      "Elapsed time: 169.81835865974426\n",
      "0.5478348439073515\n",
      "Elapsed time: 154.87337446212769\n",
      "0.5855018587360595\n",
      "Elapsed time: 236.03051924705505\n",
      "0.5645472061657033\n",
      "Elapsed time: 176.3423933982849\n",
      "0.5753424657534246\n",
      "Elapsed time: 211.3288013935089\n",
      "0.5827937095282146\n",
      "Elapsed time: 193.28947615623474\n",
      "0.5914972273567467\n",
      "Elapsed time: 171.8769495487213\n",
      "0.5760000000000001\n",
      "Elapsed time: 176.75407457351685\n",
      "0.554639175257732\n",
      "Elapsed time: 179.59723377227783\n",
      "0.5669291338582677\n",
      "Elapsed time: 166.80043196678162\n",
      "0.5673624288425047\n",
      "Elapsed time: 189.24833250045776\n",
      "0.5566801619433198\n",
      "Elapsed time: 153.93956804275513\n",
      "0.5249734325185972\n"
     ]
    }
   ],
   "source": [
    "best_f1_val = 0\n",
    "best_model = None\n",
    "for i in range(n_runs):\n",
    "    model = TARNetTrainer(X_train, T_train, Y_train)\n",
    "    t = time()\n",
    "    model.train()\n",
    "    print(\"Elapsed time:\",time()-t)\n",
    "    \n",
    "    #Selecting the model with best f1 score\n",
    "    probs = model.predict(X_val)\n",
    "    f_hate = np.array([x[0] if t == 0 else x[1] for x, t in zip(probs, T_val)])\n",
    "    preds = (f_hate > 0.5).astype(int)\n",
    "    f1_val = metrics.f1_score(preds,Y_val,zero_division=1)\n",
    "    print(f1_val)\n",
    "    if f1_val > best_f1_val:\n",
    "        best_f1_val = f1_val\n",
    "        best_model = model"
   ]
  },
  {
   "cell_type": "markdown",
   "id": "1b4998ee-d6fe-486e-a4a9-d6456cb248be",
   "metadata": {},
   "source": [
    "## Obtaining the hate of the factuals"
   ]
  },
  {
   "cell_type": "code",
   "execution_count": 35,
   "id": "bb8c05f1-53f6-4114-86af-c0603e1b5807",
   "metadata": {},
   "outputs": [],
   "source": [
    "probs = best_model.predict(X_test)\n",
    "f_hate = np.array([x[0] if t == 0 else x[1] for x, t in zip(probs, T_test)])"
   ]
  },
  {
   "cell_type": "markdown",
   "id": "51c5df35-4759-4f20-ab07-13c91c079767",
   "metadata": {},
   "source": [
    "## Classification metrics of the factuals"
   ]
  },
  {
   "cell_type": "code",
   "execution_count": 36,
   "id": "b9060e4c-abc2-4067-9204-14e124a2f8ac",
   "metadata": {},
   "outputs": [
    {
     "name": "stdout",
     "output_type": "stream",
     "text": [
      "Accuracy: 0.7638207392868825\n",
      "F1 score: 0.608884073672806\n"
     ]
    }
   ],
   "source": [
    "preds = (f_hate > 0.5).astype(int)\n",
    "acc_test = metrics.accuracy_score(preds,Y_test)\n",
    "f1_test = metrics.f1_score(preds,Y_test,zero_division=1)\n",
    "\n",
    "print(\"Accuracy:\",acc_test)\n",
    "print(\"F1 score:\",f1_test)"
   ]
  },
  {
   "cell_type": "markdown",
   "id": "85b12d8c-29ca-4a4f-804c-8fe276541a63",
   "metadata": {},
   "source": [
    "## Computing the ITE"
   ]
  },
  {
   "cell_type": "code",
   "execution_count": 37,
   "id": "531198c9-71ec-43e1-adca-dca6f7385cdd",
   "metadata": {},
   "outputs": [],
   "source": [
    "def predict_model_nn(model, X_test, T_test):\n",
    "\n",
    "    pred = model.predict(X_test)\n",
    "    final_pred = [x[0] if t == 0 else x[1] for x, t in zip(pred, T_test)]\n",
    "    ite_pred = [x[1] - x[0] for x in pred]\n",
    "    \n",
    "    hate_bin = []\n",
    "    for i in range(len(pred)):\n",
    "        hate_t_0 = 1 if pred[i][0] > 0.5 else 0\n",
    "        hate_t_1 = 1 if pred[i][1] > 0.5 else 0\n",
    "        hate_bin.append([hate_t_0,hate_t_1])\n",
    "    ite_pred_hate_bin = [x[1] - x[0] for x in hate_bin]\n",
    "\n",
    "    return final_pred, ite_pred, pred[:, 2], ite_pred_hate_bin"
   ]
  },
  {
   "cell_type": "code",
   "execution_count": 38,
   "id": "91b7892e-6a49-47bf-bfc9-129c99d1f125",
   "metadata": {},
   "outputs": [],
   "source": [
    "_, ite, _,ite_hate_bin = predict_model_nn(model, X_test, T_test)"
   ]
  },
  {
   "cell_type": "markdown",
   "id": "fb5c1630-80a3-4ef1-b959-730108808713",
   "metadata": {},
   "source": [
    "## ATE"
   ]
  },
  {
   "cell_type": "code",
   "execution_count": 50,
   "id": "f8719dae-5c4a-4105-aaf0-f974dfbd6b21",
   "metadata": {},
   "outputs": [
    {
     "name": "stdout",
     "output_type": "stream",
     "text": [
      "ATE: 0.096342124\n"
     ]
    }
   ],
   "source": [
    "print(\"ATE:\",np.mean(ite))"
   ]
  },
  {
   "cell_type": "code",
   "execution_count": 54,
   "id": "208a6be9-2414-4f01-996e-2dd3d9538ff0",
   "metadata": {},
   "outputs": [
    {
     "data": {
      "image/png": "[encoded data removed]",
      "text/plain": [
       "<Figure size 640x480 with 1 Axes>"
      ]
     },
     "metadata": {},
     "output_type": "display_data"
    }
   ],
   "source": [
    "#Histogram of ITE\n",
    "fig, ax = plt.subplots()\n",
    "counts, bins, patches = ax.hist(x=ite, color='blue',rwidth=0.85)\n",
    "ax.set_xlabel('ITE')\n",
    "ax.set_ylabel('Frequency')\n",
    "plt.show()"
   ]
  },
  {
   "cell_type": "code",
   "execution_count": 40,
   "id": "746815b9-8e85-4749-936a-d700f37d4aad",
   "metadata": {},
   "outputs": [],
   "source": [
    "np.save('outs/backdoor/ITE_tarnet.npy',np.array(ite))"
   ]
  },
  {
   "cell_type": "markdown",
   "id": "9016beca-a8b6-4660-a6d4-c5055fbf24e0",
   "metadata": {},
   "source": [
    "# ITE backdoor vs ITE counterfactuals"
   ]
  },
  {
   "cell_type": "code",
   "execution_count": 2,
   "id": "374f2f7c-e91f-41c4-801a-5bf2b5225869",
   "metadata": {},
   "outputs": [],
   "source": [
    "ITE_back = np.load('outs/backdoor/ITE_tarnet.npy')"
   ]
  },
  {
   "cell_type": "markdown",
   "id": "5b8904ab-6e13-45f9-a159-206092db171a",
   "metadata": {},
   "source": [
    "## ITE tarnet vs ITE PEACE"
   ]
  },
  {
   "cell_type": "code",
   "execution_count": 3,
   "id": "2e559932-a442-469e-a2aa-35f46c7f55d0",
   "metadata": {},
   "outputs": [],
   "source": [
    "ITE_cf_all = np.load('outs/counterfactuals/ITE_peace.npy')"
   ]
  },
  {
   "cell_type": "code",
   "execution_count": 4,
   "id": "e6c57c21-d062-4f30-bdd1-39c87ca59376",
   "metadata": {
    "tags": []
   },
   "outputs": [],
   "source": [
    "# For each factual we select the counterfactuals ITE that is more similar to the ITE backdoor one\n",
    "n_cf = 5\n",
    "ITE_cf = []\n",
    "i = 0\n",
    "for j in range(0,len(ITE_cf_all),n_cf):\n",
    "    best_diff = np.inf\n",
    "    best_ite = 0\n",
    "    for k in range(n_cf):\n",
    "        diff = np.abs(ITE_cf_all[j+k] - ITE_back[i])\n",
    "        if diff < best_diff:\n",
    "            best_diff = diff\n",
    "            best_ite = ITE_cf_all[j+k]\n",
    "    ITE_cf.append(best_ite)\n",
    "    i+=1\n",
    "ITE_cf = np.array(ITE_cf)"
   ]
  },
  {
   "cell_type": "code",
   "execution_count": 5,
   "id": "bb4270f2-8d97-40f6-9651-c975f19d87b3",
   "metadata": {},
   "outputs": [
    {
     "data": {
      "image/png": "[encoded data removed]",
      "text/plain": [
       "<Figure size 640x480 with 1 Axes>"
      ]
     },
     "metadata": {},
     "output_type": "display_data"
    }
   ],
   "source": [
    "fig, ax = plt.subplots()\n",
    "ax.scatter(ITE_back, ITE_cf, color='red')\n",
    "ax.set_xlim(-1, 1)\n",
    "ax.set_ylim(-1, 1)\n",
    "ax.set_xlabel('ITE TARNet')\n",
    "ax.set_ylabel('ITE PEACE (LLM counterfactuals)')\n",
    "plt.show()"
   ]
  },
  {
   "cell_type": "markdown",
   "id": "71bde017-3b4d-4073-80af-715fa22e9326",
   "metadata": {},
   "source": [
    "## ITE tarnet vs ITE HateBERT"
   ]
  },
  {
   "cell_type": "code",
   "execution_count": 105,
   "id": "d8f808fd-6038-4e4e-a61d-59b880536e85",
   "metadata": {},
   "outputs": [],
   "source": [
    "ITE_cf_all = np.load('outs/counterfactuals/ITE_hatebert.npy')"
   ]
  },
  {
   "cell_type": "code",
   "execution_count": 106,
   "id": "60e9c5ce-2202-4355-b13c-cb669b7c9790",
   "metadata": {
    "tags": []
   },
   "outputs": [],
   "source": [
    "# For each factual we select the counterfactuals ITE that is more similar to the ITE backdoor one\n",
    "n_cf = 5\n",
    "ITE_cf = []\n",
    "i = 0\n",
    "for j in range(0,len(ITE_cf_all),n_cf):\n",
    "    best_diff = np.inf\n",
    "    best_ite = 0\n",
    "    for k in range(n_cf):\n",
    "        diff = np.abs(ITE_cf_all[j+k] - ITE_back[i])\n",
    "        if diff < best_diff:\n",
    "            best_diff = diff\n",
    "            best_ite = ITE_cf_all[j+k]\n",
    "    ITE_cf.append(best_ite)\n",
    "    i+=1\n",
    "ITE_cf = np.array(ITE_cf)"
   ]
  },
  {
   "cell_type": "code",
   "execution_count": 107,
   "id": "299914e4-6dea-40a1-8496-5556e164037c",
   "metadata": {},
   "outputs": [
    {
     "data": {
      "image/png": "[encoded data removed]",
      "text/plain": [
       "<Figure size 640x480 with 1 Axes>"
      ]
     },
     "metadata": {},
     "output_type": "display_data"
    }
   ],
   "source": [
    "fig, ax = plt.subplots()\n",
    "ax.scatter(ITE_back, ITE_cf, color='blue')\n",
    "ax.set_xlim(-1, 1)\n",
    "ax.set_ylim(-1, 1)\n",
    "ax.set_xlabel('ITE TARNet')\n",
    "ax.set_ylabel('ITE HateBERT')\n",
    "plt.show()"
   ]
  },
  {
   "cell_type": "markdown",
   "id": "b4a3ca34-7f20-4d3a-b008-99c544c247e8",
   "metadata": {},
   "source": [
    "## ITE tarnet vs ITE Roberta Hate"
   ]
  },
  {
   "cell_type": "code",
   "execution_count": 108,
   "id": "e22ea5c9-3de9-4485-aaa0-7597c2733724",
   "metadata": {},
   "outputs": [],
   "source": [
    "ITE_cf_all = np.load('outs/counterfactuals/ITE_roberta_hate.npy')"
   ]
  },
  {
   "cell_type": "code",
   "execution_count": 109,
   "id": "ae502763-8442-4d77-ad77-c442b30d9ebe",
   "metadata": {
    "tags": []
   },
   "outputs": [],
   "source": [
    "# For each factual we select the counterfactuals ITE that is more similar to the ITE backdoor one\n",
    "n_cf = 5\n",
    "ITE_cf = []\n",
    "i = 0\n",
    "for j in range(0,len(ITE_cf_all),n_cf):\n",
    "    best_diff = np.inf\n",
    "    best_ite = 0\n",
    "    for k in range(n_cf):\n",
    "        diff = np.abs(ITE_cf_all[j+k] - ITE_back[i])\n",
    "        if diff < best_diff:\n",
    "            best_diff = diff\n",
    "            best_ite = ITE_cf_all[j+k]\n",
    "    ITE_cf.append(best_ite)\n",
    "    i+=1\n",
    "ITE_cf = np.array(ITE_cf)"
   ]
  },
  {
   "cell_type": "code",
   "execution_count": 110,
   "id": "c0b61dbd-857f-4d37-91d8-d1cde13be243",
   "metadata": {},
   "outputs": [
    {
     "data": {
      "image/png": "[encoded data removed]",
      "text/plain": [
       "<Figure size 640x480 with 1 Axes>"
      ]
     },
     "metadata": {},
     "output_type": "display_data"
    }
   ],
   "source": [
    "fig, ax = plt.subplots()\n",
    "ax.scatter(ITE_back, ITE_cf, color='yellow')\n",
    "ax.set_xlim(-1, 1)\n",
    "ax.set_ylim(-1, 1)\n",
    "ax.set_xlabel('ITE TARNet')\n",
    "ax.set_ylabel('ITE RoBERTa hate')\n",
    "plt.show()"
   ]
  },
  {
   "cell_type": "markdown",
   "id": "deccc25c-e7f7-4ca7-b05b-5df94263ee2f",
   "metadata": {},
   "source": [
    "## ITE tarnet vs ITE Roberta Hate with our classifier"
   ]
  },
  {
   "cell_type": "code",
   "execution_count": 111,
   "id": "3bb22faa-a733-42fb-bf96-5ab412a1c587",
   "metadata": {},
   "outputs": [],
   "source": [
    "ITE_cf_all = np.load('outs/counterfactuals/ITE_roberta_hate_clf.npy')"
   ]
  },
  {
   "cell_type": "code",
   "execution_count": 112,
   "id": "a9b21211-f020-4adb-b924-3d942b78c3e9",
   "metadata": {
    "tags": []
   },
   "outputs": [],
   "source": [
    "# For each factual we select the counterfactuals ITE that is more similar to the ITE backdoor one\n",
    "n_cf = 5\n",
    "ITE_cf = []\n",
    "i = 0\n",
    "for j in range(0,len(ITE_cf_all),n_cf):\n",
    "    best_diff = np.inf\n",
    "    best_ite = 0\n",
    "    for k in range(n_cf):\n",
    "        diff = np.abs(ITE_cf_all[j+k] - ITE_back[i])\n",
    "        if diff < best_diff:\n",
    "            best_diff = diff\n",
    "            best_ite = ITE_cf_all[j+k]\n",
    "    ITE_cf.append(best_ite)\n",
    "    i+=1\n",
    "ITE_cf = np.array(ITE_cf)"
   ]
  },
  {
   "cell_type": "code",
   "execution_count": 113,
   "id": "1c21816f-d3f3-4578-80c8-6c12bd51c258",
   "metadata": {},
   "outputs": [
    {
     "data": {
      "image/png": "[encoded data removed]",
      "text/plain": [
       "<Figure size 640x480 with 1 Axes>"
      ]
     },
     "metadata": {},
     "output_type": "display_data"
    }
   ],
   "source": [
    "fig, ax = plt.subplots()\n",
    "ax.scatter(ITE_back, ITE_cf, color='green')\n",
    "ax.set_xlim(-1, 1)\n",
    "ax.set_ylim(-1, 1)\n",
    "ax.set_xlabel('ITE TARNet')\n",
    "ax.set_ylabel('ITE RoBERTa hate w/ our clf')\n",
    "plt.show()"
   ]
  }
 ],
 "metadata": {
  "kernelspec": {
   "display_name": "Python 3 (ipykernel)",
   "language": "python",
   "name": "python3"
  },
  "language_info": {
   "codemirror_mode": {
    "name": "ipython",
    "version": 3
   },
   "file_extension": ".py",
   "mimetype": "text/x-python",
   "name": "python",
   "nbconvert_exporter": "python",
   "pygments_lexer": "ipython3",
   "version": "3.9.16"
  }
 },
 "nbformat": 4,
 "nbformat_minor": 5
}
