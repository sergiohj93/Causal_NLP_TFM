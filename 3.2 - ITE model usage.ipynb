{
 "cells": [
  {
   "cell_type": "code",
   "execution_count": 1,
   "id": "b7796bcd-82c5-43a8-b2c0-f97625a5bd60",
   "metadata": {},
   "outputs": [],
   "source": [
    "from models.ITE_model.ITE_model import ITE_model"
   ]
  },
  {
   "cell_type": "code",
   "execution_count": 2,
   "id": "ad3b47fd-c158-4a65-a728-bf109769828e",
   "metadata": {},
   "outputs": [
    {
     "name": "stderr",
     "output_type": "stream",
     "text": [
      "All model checkpoint layers were used when initializing TFRobertaModel.\n",
      "\n",
      "All the layers of TFRobertaModel were initialized from the model checkpoint at cardiffnlp/twitter-roberta-base-sentiment-latest.\n",
      "If your task is similar to the task the model of the checkpoint was trained on, you can already use TFRobertaModel for predictions without further training.\n",
      "Some weights of the PyTorch model were not used when initializing the TF 2.0 model TFRobertaModel: ['lm_head.layer_norm.weight', 'roberta.embeddings.position_ids', 'lm_head.dense.weight', 'lm_head.layer_norm.bias', 'lm_head.dense.bias', 'lm_head.bias']\n",
      "- This IS expected if you are initializing TFRobertaModel from a PyTorch model trained on another task or with another architecture (e.g. initializing a TFBertForSequenceClassification model from a BertForPreTraining model).\n",
      "- This IS NOT expected if you are initializing TFRobertaModel from a PyTorch model that you expect to be exactly identical (e.g. initializing a TFBertForSequenceClassification model from a BertForSequenceClassification model).\n",
      "Some weights or buffers of the TF 2.0 model TFRobertaModel were not initialized from the PyTorch model and are newly initialized: ['roberta.pooler.dense.weight', 'roberta.pooler.dense.bias']\n",
      "You should probably TRAIN this model on a down-stream task to be able to use it for predictions and inference.\n"
     ]
    }
   ],
   "source": [
    "model = ITE_model()"
   ]
  },
  {
   "cell_type": "code",
   "execution_count": 3,
   "id": "9eaa309f-f5d5-4cfd-b52e-98eefa82743d",
   "metadata": {},
   "outputs": [
    {
     "name": "stdout",
     "output_type": "stream",
     "text": [
      "1/1 [==============================] - 0s 199ms/step\n",
      "1/1 [==============================] - 0s 98ms/step\n"
     ]
    }
   ],
   "source": [
    "texts = [\"Trump is an idiot\",\"Let's go!\",\"Read the article. Its not segregation its a safety issue.\",\"Trust me, Mr Jackson, with this attitude, it is not \"\"your\"\" country.\",\"I hate Islam and its brainwashed followers\"]\n",
    "\n",
    "ite = model.ITE(texts)\n",
    "offense = model.Offense(texts)\n",
    "hate = model.Hate(texts)"
   ]
  },
  {
   "cell_type": "code",
   "execution_count": 4,
   "id": "c8147810-f89b-4e02-93a2-6765007c8036",
   "metadata": {},
   "outputs": [
    {
     "name": "stdout",
     "output_type": "stream",
     "text": [
      "Text: Trump is an idiot\n",
      "ITE: 0.2864709\n",
      "Offense: 1\n",
      "\n",
      "Text: Let's go!\n",
      "ITE: 0.5287172\n",
      "Offense: 0\n",
      "\n",
      "Text: Read the article. Its not segregation its a safety issue.\n",
      "ITE: 0.700069\n",
      "Offense: 0\n",
      "\n",
      "Text: Trust me, Mr Jackson, with this attitude, it is not your country.\n",
      "ITE: 0.18269476\n",
      "Offense: 0\n",
      "\n",
      "Text: I hate Islam and its brainwashed followers\n",
      "ITE: 0.6668817\n",
      "Offense: 1\n",
      "\n"
     ]
    }
   ],
   "source": [
    "for i in range(len(texts)):\n",
    "    print(\"Text:\",texts[i])\n",
    "    print(\"ITE:\",ite[i])\n",
    "    print(\"Offense:\",offense[i])\n",
    "    #print(\"Hate:\",hate[i])\n",
    "    print()\n",
    "    "
   ]
  }
 ],
 "metadata": {
  "kernelspec": {
   "display_name": "Python 3 (ipykernel)",
   "language": "python",
   "name": "python3"
  },
  "language_info": {
   "codemirror_mode": {
    "name": "ipython",
    "version": 3
   },
   "file_extension": ".py",
   "mimetype": "text/x-python",
   "name": "python",
   "nbconvert_exporter": "python",
   "pygments_lexer": "ipython3",
   "version": "3.9.16"
  }
 },
 "nbformat": 4,
 "nbformat_minor": 5
}
