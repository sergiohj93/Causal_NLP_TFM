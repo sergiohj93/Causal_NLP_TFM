{
 "cells": [
  {
   "cell_type": "code",
   "execution_count": 3,
   "id": "2e5c2331-4a44-4883-87f3-277451ded5cf",
   "metadata": {},
   "outputs": [],
   "source": [
    "#!pip install gdown\n",
    "import gdown"
   ]
  },
  {
   "cell_type": "markdown",
   "id": "f018058c-ca75-4c95-9db9-4faac74dbedb",
   "metadata": {},
   "source": [
    "Run the two following cells to download the data and the HateBERT model:"
   ]
  },
  {
   "cell_type": "code",
   "execution_count": 4,
   "id": "12de3d7f-a508-408a-9f99-367ae08e6dea",
   "metadata": {},
   "outputs": [
    {
     "data": {
      "text/plain": [
       "['C:\\\\Users\\\\Hp\\\\UB\\\\Fundamental Principles of Data Science\\\\2nd course\\\\2on semestre\\\\TFM\\\\Code\\\\data\\\\cf_off.tsv',\n",
       " 'C:\\\\Users\\\\Hp\\\\UB\\\\Fundamental Principles of Data Science\\\\2nd course\\\\2on semestre\\\\TFM\\\\Code\\\\data\\\\factuals.tsv',\n",
       " 'C:\\\\Users\\\\Hp\\\\UB\\\\Fundamental Principles of Data Science\\\\2nd course\\\\2on semestre\\\\TFM\\\\Code\\\\data\\\\frenk_test.tsv',\n",
       " 'C:\\\\Users\\\\Hp\\\\UB\\\\Fundamental Principles of Data Science\\\\2nd course\\\\2on semestre\\\\TFM\\\\Code\\\\data\\\\frenk_train.tsv',\n",
       " 'C:\\\\Users\\\\Hp\\\\UB\\\\Fundamental Principles of Data Science\\\\2nd course\\\\2on semestre\\\\TFM\\\\Code\\\\data\\\\ghc_test_2301.tsv',\n",
       " 'C:\\\\Users\\\\Hp\\\\UB\\\\Fundamental Principles of Data Science\\\\2nd course\\\\2on semestre\\\\TFM\\\\Code\\\\data\\\\ghc_train_8404.tsv',\n",
       " 'C:\\\\Users\\\\Hp\\\\UB\\\\Fundamental Principles of Data Science\\\\2nd course\\\\2on semestre\\\\TFM\\\\Code\\\\data\\\\try_test_2301.tsv',\n",
       " 'C:\\\\Users\\\\Hp\\\\UB\\\\Fundamental Principles of Data Science\\\\2nd course\\\\2on semestre\\\\TFM\\\\Code\\\\data\\\\try_train_8404.tsv']"
      ]
     },
     "execution_count": 4,
     "metadata": {},
     "output_type": "execute_result"
    }
   ],
   "source": [
    "#### Data ####\n",
    "gdown.download_folder(\"https://drive.google.com/drive/folders/1iwB-TNZGpf7j-2P7vqAYnGMRiJC0VrVT?usp=drive_link\",quiet=True,use_cookies=False)"
   ]
  },
  {
   "cell_type": "code",
   "execution_count": null,
   "id": "1f9bab18-17d5-4d16-b042-0a947f6726e0",
   "metadata": {},
   "outputs": [],
   "source": [
    "#### HateBERT model ####\n",
    "gdown.download_folder(\"https://drive.google.com/drive/folders/1u8nHlnWG1MSW5U_WqdLvIWJUNCPY4X0y?usp=drive_link\",quiet=True,use_cookies=False)"
   ]
  },
  {
   "cell_type": "markdown",
   "id": "b42869aa-4ae5-40b8-af59-a058f89b6d24",
   "metadata": {},
   "source": [
    "And run the next cells if you also want to download the intermediate outputs (which are the ones that take the longest to be computed) and the ITE model:"
   ]
  },
  {
   "cell_type": "code",
   "execution_count": null,
   "id": "11ed19a8-69b4-4876-b811-8469b74c6333",
   "metadata": {},
   "outputs": [],
   "source": [
    "#### Intermediate outputs ####\n",
    "gdown.download_folder(\"https://drive.google.com/drive/folders/1clJoec6oFF9wLn4rHWhjU_yt6bkvCGUm?usp=drive_link\",quiet=True,use_cookies=False)"
   ]
  },
  {
   "cell_type": "code",
   "execution_count": null,
   "id": "a65f8c30-a610-4355-9da2-2acfdfa54373",
   "metadata": {},
   "outputs": [],
   "source": [
    "#### ITE model ####\n",
    "gdown.download_folder(\"https://drive.google.com/drive/folders/1o3t7WD2824B7BaRIt0hexKxwLldV4vLo?usp=drive_link\",quiet=True,use_cookies=False)"
   ]
  }
 ],
 "metadata": {
  "kernelspec": {
   "display_name": "Python 3 (ipykernel)",
   "language": "python",
   "name": "python3"
  },
  "language_info": {
   "codemirror_mode": {
    "name": "ipython",
    "version": 3
   },
   "file_extension": ".py",
   "mimetype": "text/x-python",
   "name": "python",
   "nbconvert_exporter": "python",
   "pygments_lexer": "ipython3",
   "version": "3.9.16"
  }
 },
 "nbformat": 4,
 "nbformat_minor": 5
}
