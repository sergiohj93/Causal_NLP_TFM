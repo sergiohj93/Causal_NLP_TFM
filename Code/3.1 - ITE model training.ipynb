{
 "cells": [
  {
   "cell_type": "code",
   "execution_count": 1,
   "id": "c0088923-9667-4588-860b-7776ca55856a",
   "metadata": {},
   "outputs": [],
   "source": [
    "from transformers import AutoTokenizer, AutoModel, TFAutoModel, AutoModelForSequenceClassification, TFAutoModelForSequenceClassification, BertModel, BertForSequenceClassification, BertTokenizer\n",
    "from tensorflow.keras.models import Model, Sequential, load_model\n",
    "from tensorflow.keras.layers import Dense, Flatten, Concatenate, GlobalAveragePooling1D\n",
    "from keras import backend as K\n",
    "import torch\n",
    "from torchsummary import summary\n",
    "import tensorflow as tf\n",
    "import datasets\n",
    "import numpy as np\n",
    "import pandas as pd\n",
    "from scipy.special import softmax\n",
    "from sklearn import metrics\n",
    "from sklearn.utils.class_weight import compute_class_weight\n",
    "from sklearn.model_selection import train_test_split\n",
    "from time import time\n",
    "import copy\n",
    "import gc"
   ]
  },
  {
   "cell_type": "markdown",
   "id": "fd9ddeff-cef7-4935-950e-bdc838804930",
   "metadata": {},
   "source": [
    "# Training of the ITE model"
   ]
  },
  {
   "cell_type": "markdown",
   "id": "3138e16f-736b-4128-805c-8875a1868bea",
   "metadata": {},
   "source": [
    "## Loading the embeddings as the inputs and the ITE as the target"
   ]
  },
  {
   "cell_type": "code",
   "execution_count": 2,
   "id": "8a15ba54-4b5a-4588-987c-573067a1aea2",
   "metadata": {},
   "outputs": [],
   "source": [
    "sent_fact_outs = np.load('outs/counterfactuals/sent_fact_outs.npy')\n",
    "gen_fact_outs = np.load('outs/counterfactuals/gen_fact_outs.npy')\n",
    "conc_fact = np.concatenate([sent_fact_outs,gen_fact_outs],axis=1)\n",
    "\n",
    "#Copying the factuals in order to have one for each counterfactual.\n",
    "n_cf = 5\n",
    "fact_n_cf = [] \n",
    "for i in range(len(conc_fact)):\n",
    "    for j in range(n_cf):\n",
    "        fact_n_cf.append(conc_fact[i])\n",
    "fact_n_cf = np.array(fact_n_cf)"
   ]
  },
  {
   "cell_type": "code",
   "execution_count": 3,
   "id": "55b543b2-2f32-41b5-8e0f-cde7c0a03afb",
   "metadata": {},
   "outputs": [],
   "source": [
    "ITE_peace = np.load('outs/counterfactuals/ITE_peace.npy')"
   ]
  },
  {
   "cell_type": "code",
   "execution_count": 4,
   "id": "da0bffaf-6db8-4247-b53a-5d86c9223ebb",
   "metadata": {},
   "outputs": [],
   "source": [
    "fact_train,fact_test,ITE_train,ITE_test = train_test_split(fact_n_cf,ITE_peace,test_size=0.3,random_state=42)"
   ]
  },
  {
   "cell_type": "code",
   "execution_count": 5,
   "id": "9a13346b-fd74-4185-a47e-d2e1c51b3329",
   "metadata": {},
   "outputs": [
    {
     "name": "stdout",
     "output_type": "stream",
     "text": [
      "(15635, 1536)\n",
      "(10944, 1536)\n",
      "(4691, 1536)\n"
     ]
    }
   ],
   "source": [
    "print(fact_n_cf.shape)\n",
    "print(fact_train.shape)\n",
    "print(fact_test.shape)"
   ]
  },
  {
   "cell_type": "markdown",
   "id": "77c8027b-7ac4-4bea-81cd-2537440aae0c",
   "metadata": {},
   "source": [
    "## Model training"
   ]
  },
  {
   "cell_type": "code",
   "execution_count": 6,
   "id": "379a7dbd-68d5-4444-8f34-1bf29ebaf8f7",
   "metadata": {},
   "outputs": [],
   "source": [
    "ITE_model = Sequential([\n",
    "          Flatten(),\n",
    "          Dense(128, activation='relu'),\n",
    "          Dense(64, activation='relu'),\n",
    "          Dense(1, activation='tanh')\n",
    "      ])"
   ]
  },
  {
   "cell_type": "code",
   "execution_count": 7,
   "id": "11ae1ab6-c190-4563-b539-21df5f1f699a",
   "metadata": {},
   "outputs": [
    {
     "name": "stdout",
     "output_type": "stream",
     "text": [
      "Epoch 1/25\n",
      "308/308 [==============================] - 1s 2ms/step - loss: 0.0721 - val_loss: 0.0614\n",
      "Epoch 2/25\n",
      "308/308 [==============================] - 0s 2ms/step - loss: 0.0539 - val_loss: 0.0566\n",
      "Epoch 3/25\n",
      "308/308 [==============================] - 0s 2ms/step - loss: 0.0483 - val_loss: 0.0471\n",
      "Epoch 4/25\n",
      "308/308 [==============================] - 0s 2ms/step - loss: 0.0433 - val_loss: 0.0439\n",
      "Epoch 5/25\n",
      "308/308 [==============================] - 0s 2ms/step - loss: 0.0398 - val_loss: 0.0423\n",
      "Epoch 6/25\n",
      "308/308 [==============================] - 0s 2ms/step - loss: 0.0371 - val_loss: 0.0406\n",
      "Epoch 7/25\n",
      "308/308 [==============================] - 0s 2ms/step - loss: 0.0360 - val_loss: 0.0407\n",
      "Epoch 8/25\n",
      "308/308 [==============================] - 0s 2ms/step - loss: 0.0339 - val_loss: 0.0413\n",
      "Epoch 9/25\n",
      "308/308 [==============================] - 0s 2ms/step - loss: 0.0325 - val_loss: 0.0434\n",
      "Epoch 10/25\n",
      "308/308 [==============================] - 0s 2ms/step - loss: 0.0312 - val_loss: 0.0386\n",
      "Epoch 11/25\n",
      "308/308 [==============================] - 1s 2ms/step - loss: 0.0306 - val_loss: 0.0413\n",
      "Epoch 12/25\n",
      "308/308 [==============================] - 1s 2ms/step - loss: 0.0309 - val_loss: 0.0381\n",
      "Epoch 13/25\n",
      "308/308 [==============================] - 1s 2ms/step - loss: 0.0287 - val_loss: 0.0378\n",
      "Epoch 14/25\n",
      "308/308 [==============================] - 1s 2ms/step - loss: 0.0281 - val_loss: 0.0408\n",
      "Epoch 15/25\n",
      "308/308 [==============================] - 1s 2ms/step - loss: 0.0281 - val_loss: 0.0374\n",
      "Epoch 16/25\n",
      "308/308 [==============================] - 1s 2ms/step - loss: 0.0278 - val_loss: 0.0394\n",
      "Epoch 17/25\n",
      "308/308 [==============================] - 1s 2ms/step - loss: 0.0276 - val_loss: 0.0385\n",
      "Epoch 18/25\n",
      "308/308 [==============================] - 1s 2ms/step - loss: 0.0271 - val_loss: 0.0359\n",
      "Epoch 19/25\n",
      "308/308 [==============================] - 1s 2ms/step - loss: 0.0262 - val_loss: 0.0346\n",
      "Epoch 20/25\n",
      "308/308 [==============================] - 1s 2ms/step - loss: 0.0262 - val_loss: 0.0360\n",
      "Epoch 21/25\n",
      "308/308 [==============================] - 0s 2ms/step - loss: 0.0258 - val_loss: 0.0364\n",
      "Epoch 22/25\n",
      "308/308 [==============================] - 0s 2ms/step - loss: 0.0256 - val_loss: 0.0341\n",
      "Epoch 23/25\n",
      "308/308 [==============================] - 1s 2ms/step - loss: 0.0257 - val_loss: 0.0348\n",
      "Epoch 24/25\n",
      "308/308 [==============================] - 0s 2ms/step - loss: 0.0256 - val_loss: 0.0363\n",
      "Epoch 25/25\n",
      "308/308 [==============================] - 1s 2ms/step - loss: 0.0252 - val_loss: 0.0360\n"
     ]
    },
    {
     "data": {
      "text/plain": [
       "<keras.callbacks.History at 0x19e7f12e190>"
      ]
     },
     "execution_count": 7,
     "metadata": {},
     "output_type": "execute_result"
    }
   ],
   "source": [
    "def rmse_keras(y_true, y_pred):\n",
    "        return K.sqrt(K.mean(K.square(y_true - y_pred)))\n",
    "\n",
    "ITE_model.compile(optimizer='adam', loss=\"mean_squared_error\")\n",
    "ITE_model.fit(fact_train,ITE_train,epochs=25,batch_size=32,validation_split=0.1)"
   ]
  },
  {
   "cell_type": "markdown",
   "id": "ea206154-1be5-4cd2-b0f2-81dc1c6e1ebe",
   "metadata": {},
   "source": [
    "## Evaluation of the regression "
   ]
  },
  {
   "cell_type": "code",
   "execution_count": 8,
   "id": "3b962dd9-1e0f-45af-952b-debb74e97283",
   "metadata": {},
   "outputs": [
    {
     "name": "stdout",
     "output_type": "stream",
     "text": [
      "342/342 [==============================] - 0s 834us/step\n",
      "147/147 [==============================] - 0s 833us/step\n"
     ]
    }
   ],
   "source": [
    "ITE_pred_train = ITE_model.predict(fact_train)\n",
    "ITE_pred_test = ITE_model.predict(fact_test)"
   ]
  },
  {
   "cell_type": "code",
   "execution_count": 9,
   "id": "1a762766-16cb-4bd0-a94f-cdb0abbf1b33",
   "metadata": {},
   "outputs": [
    {
     "name": "stdout",
     "output_type": "stream",
     "text": [
      "-0.4538578\n"
     ]
    }
   ],
   "source": [
    "print(np.min(ITE_pred_test))"
   ]
  },
  {
   "cell_type": "code",
   "execution_count": 10,
   "id": "c8ce859d-a7c3-41d1-af01-cd2892b57d86",
   "metadata": {},
   "outputs": [],
   "source": [
    "def mse(y_true, y_pred):\n",
    "        return np.mean(np.square(y_true - y_pred))"
   ]
  },
  {
   "cell_type": "code",
   "execution_count": 11,
   "id": "45c24308-3489-41d0-af9b-f1ae8f0f38ef",
   "metadata": {},
   "outputs": [
    {
     "name": "stdout",
     "output_type": "stream",
     "text": [
      "MSE train: 0.12817082\n",
      "MSE test: 0.12680241\n"
     ]
    }
   ],
   "source": [
    "print(\"MSE train:\",mse(ITE_train,ITE_pred_train))\n",
    "print(\"MSE test:\",mse(ITE_test,ITE_pred_test))"
   ]
  },
  {
   "cell_type": "markdown",
   "id": "05ca39ea-7d87-43cd-9368-16850b277d89",
   "metadata": {},
   "source": [
    "## Training the model with all the data (train and test sets)"
   ]
  },
  {
   "cell_type": "code",
   "execution_count": 12,
   "id": "e8f9812d-00e2-486d-b5b9-c9c22a499867",
   "metadata": {},
   "outputs": [],
   "source": [
    "ITE_model = Sequential([\n",
    "          Flatten(),\n",
    "          Dense(128, activation='relu'),\n",
    "          Dense(64, activation='relu'),\n",
    "          Dense(1, activation='tanh')\n",
    "      ])"
   ]
  },
  {
   "cell_type": "code",
   "execution_count": 13,
   "id": "c430c78f-da52-4a35-874e-4ded671c30c1",
   "metadata": {},
   "outputs": [
    {
     "name": "stdout",
     "output_type": "stream",
     "text": [
      "Epoch 1/25\n",
      "440/440 [==============================] - 1s 2ms/step - loss: 0.0662 - val_loss: 0.0617\n",
      "Epoch 2/25\n",
      "440/440 [==============================] - 1s 2ms/step - loss: 0.0519 - val_loss: 0.0639\n",
      "Epoch 3/25\n",
      "440/440 [==============================] - 1s 2ms/step - loss: 0.0460 - val_loss: 0.0610\n",
      "Epoch 4/25\n",
      "440/440 [==============================] - 1s 2ms/step - loss: 0.0425 - val_loss: 0.0621\n",
      "Epoch 5/25\n",
      "440/440 [==============================] - 1s 2ms/step - loss: 0.0385 - val_loss: 0.0583\n",
      "Epoch 6/25\n",
      "440/440 [==============================] - 1s 1ms/step - loss: 0.0361 - val_loss: 0.0642\n",
      "Epoch 7/25\n",
      "440/440 [==============================] - 1s 1ms/step - loss: 0.0343 - val_loss: 0.0674\n",
      "Epoch 8/25\n",
      "440/440 [==============================] - 1s 2ms/step - loss: 0.0332 - val_loss: 0.0590\n",
      "Epoch 9/25\n",
      "440/440 [==============================] - 1s 2ms/step - loss: 0.0320 - val_loss: 0.0620\n",
      "Epoch 10/25\n",
      "440/440 [==============================] - 1s 2ms/step - loss: 0.0312 - val_loss: 0.0618\n",
      "Epoch 11/25\n",
      "440/440 [==============================] - 1s 2ms/step - loss: 0.0304 - val_loss: 0.0610\n",
      "Epoch 12/25\n",
      "440/440 [==============================] - 1s 3ms/step - loss: 0.0298 - val_loss: 0.0578\n",
      "Epoch 13/25\n",
      "440/440 [==============================] - 1s 3ms/step - loss: 0.0292 - val_loss: 0.0653\n",
      "Epoch 14/25\n",
      "440/440 [==============================] - 1s 3ms/step - loss: 0.0289 - val_loss: 0.0613\n",
      "Epoch 15/25\n",
      "440/440 [==============================] - 1s 2ms/step - loss: 0.0284 - val_loss: 0.0612\n",
      "Epoch 16/25\n",
      "440/440 [==============================] - 1s 2ms/step - loss: 0.0281 - val_loss: 0.0613\n",
      "Epoch 17/25\n",
      "440/440 [==============================] - 1s 2ms/step - loss: 0.0276 - val_loss: 0.0624\n",
      "Epoch 18/25\n",
      "440/440 [==============================] - 1s 2ms/step - loss: 0.0273 - val_loss: 0.0617\n",
      "Epoch 19/25\n",
      "440/440 [==============================] - 1s 2ms/step - loss: 0.0273 - val_loss: 0.0600\n",
      "Epoch 20/25\n",
      "440/440 [==============================] - 1s 2ms/step - loss: 0.0269 - val_loss: 0.0631\n",
      "Epoch 21/25\n",
      "440/440 [==============================] - 1s 2ms/step - loss: 0.0266 - val_loss: 0.0623\n",
      "Epoch 22/25\n",
      "440/440 [==============================] - 1s 2ms/step - loss: 0.0267 - val_loss: 0.0615\n",
      "Epoch 23/25\n",
      "440/440 [==============================] - 1s 2ms/step - loss: 0.0262 - val_loss: 0.0628\n",
      "Epoch 24/25\n",
      "440/440 [==============================] - 1s 2ms/step - loss: 0.0261 - val_loss: 0.0663\n",
      "Epoch 25/25\n",
      "440/440 [==============================] - 1s 2ms/step - loss: 0.0261 - val_loss: 0.0646\n"
     ]
    },
    {
     "data": {
      "text/plain": [
       "<keras.callbacks.History at 0x19e7f45f970>"
      ]
     },
     "execution_count": 13,
     "metadata": {},
     "output_type": "execute_result"
    }
   ],
   "source": [
    "ITE_model.compile(optimizer='adam', loss=\"mean_squared_error\")\n",
    "ITE_model.fit(fact_n_cf,ITE_peace,epochs=25,batch_size=32,validation_split=0.1)"
   ]
  },
  {
   "cell_type": "code",
   "execution_count": 14,
   "id": "bf8fa636-dc07-483c-9c5a-ae6767e2619b",
   "metadata": {},
   "outputs": [
    {
     "name": "stdout",
     "output_type": "stream",
     "text": [
      "INFO:tensorflow:Assets written to: ITE_model/models/ITE_model\\assets\n"
     ]
    }
   ],
   "source": [
    "ITE_model.save('ITE_model/models/ITE_model')"
   ]
  },
  {
   "cell_type": "markdown",
   "id": "16414f33-1f8c-49fe-8da9-f889b4eabf27",
   "metadata": {},
   "source": [
    "# Training a PEACE model with all our training data"
   ]
  },
  {
   "cell_type": "markdown",
   "id": "077104c5-3a1b-411b-b109-368fa8d7748f",
   "metadata": {},
   "source": [
    "## Load Embeddings"
   ]
  },
  {
   "cell_type": "code",
   "execution_count": 15,
   "id": "43a1adf3-3043-413f-b8ba-d4884bd58b1f",
   "metadata": {},
   "outputs": [],
   "source": [
    "frenk_sent_train = np.load('outs/frenk/sent_train_outs.npy')\n",
    "frenk_aggr_train = np.load('outs/frenk/aggr_train_outs.npy')\n",
    "frenk_gen_train = np.load('outs/frenk/gen_train_outs.npy')\n",
    "\n",
    "frenk_sent_test = np.load('outs/frenk/sent_test_outs.npy')\n",
    "frenk_aggr_test = np.load('outs/frenk/aggr_test_outs.npy')\n",
    "frenk_gen_test = np.load('outs/frenk/gen_test_outs.npy')"
   ]
  },
  {
   "cell_type": "code",
   "execution_count": 16,
   "id": "d59cc9f9-2554-49b4-9223-4caab6e7cb0b",
   "metadata": {},
   "outputs": [],
   "source": [
    "ghc_sent_train = np.load('outs/ghc/sent_train_outs.npy')\n",
    "ghc_aggr_train = np.load('outs/ghc/aggr_train_outs.npy')\n",
    "ghc_gen_train = np.load('outs/ghc/gen_train_outs.npy')\n",
    "\n",
    "ghc_sent_test = np.load('outs/ghc/sent_test_outs.npy')\n",
    "ghc_aggr_test = np.load('outs/ghc/aggr_test_outs.npy')\n",
    "ghc_gen_test = np.load('outs/ghc/gen_test_outs.npy')"
   ]
  },
  {
   "cell_type": "code",
   "execution_count": 17,
   "id": "81d55605-2b74-4b41-a95f-4c34266cf231",
   "metadata": {},
   "outputs": [],
   "source": [
    "try_sent_train = np.load('outs/try/sent_train_outs.npy')\n",
    "try_aggr_train = np.load('outs/try/aggr_train_outs.npy')\n",
    "try_gen_train = np.load('outs/try/gen_train_outs.npy')\n",
    "\n",
    "try_sent_test = np.load('outs/try/sent_test_outs.npy')\n",
    "try_aggr_test = np.load('outs/try/aggr_test_outs.npy')\n",
    "try_gen_test = np.load('outs/try/gen_test_outs.npy')"
   ]
  },
  {
   "cell_type": "code",
   "execution_count": 18,
   "id": "501e61df-35d7-41bc-877e-136837f0fb38",
   "metadata": {},
   "outputs": [],
   "source": [
    "sent_train = np.concatenate([frenk_sent_train,frenk_sent_test,ghc_sent_train,ghc_sent_test,try_sent_train,try_sent_test],axis=0)\n",
    "aggr_train = np.concatenate([frenk_aggr_train,frenk_aggr_test,ghc_aggr_train,ghc_aggr_test,try_aggr_train,try_aggr_test],axis=0)\n",
    "gen_train = np.concatenate([frenk_gen_train,frenk_gen_test,ghc_gen_train,ghc_gen_test,try_gen_train,try_gen_test],axis=0)"
   ]
  },
  {
   "cell_type": "code",
   "execution_count": 19,
   "id": "5d5d826f-fd4b-4836-8506-59caa3d721db",
   "metadata": {},
   "outputs": [],
   "source": [
    "conc_train = np.concatenate([sent_train,aggr_train,gen_train],axis=1)"
   ]
  },
  {
   "cell_type": "markdown",
   "id": "612a0f74-5c0e-41b1-a2b3-acb54c7c420f",
   "metadata": {},
   "source": [
    "## Load Labels"
   ]
  },
  {
   "cell_type": "code",
   "execution_count": 20,
   "id": "95b1b8fe-2f42-4457-8db3-8fcbf857072f",
   "metadata": {
    "colab": {
     "base_uri": "https://localhost:8080/",
     "height": 237,
     "referenced_widgets": [
      "98e5e4c1ef214179bcd5a6e6f3b9632d",
      "482795395a764b0b8ac6167c358c2bf8",
      "d4bb70f128f64cdd9339e4f3cb83f3b4",
      "7570723a96df45679a13d7c438d466e5",
      "6b2d2176afd643c796985f1353f36323",
      "d247e2738a5e423cb06dd55693d449d0",
      "4491981ccfec475abca58b9abe17e276",
      "99a31e2a373f4a1fa93a2bf9f01edbf1",
      "748e0715760d4d15b208c0aeb2b04356",
      "f5d04592b62d4a6e97e25ba5e9a32326",
      "a91f49931eea4d92b6c1d2b20c4aefcf",
      "7a64ed0166b945a2ae0ddb9ff89bbd56",
      "a51747d13e7b465581f777211ec9549b",
      "f4b74ca0fa154f43b9f789ab34852d4e",
      "b4c3c15330494d79ab5b4e8c6551a3fe",
      "036ad7eb94674978b468a920b137909f",
      "52f2023f766144c493c01cb4d5584bea",
      "17f1c3680b77467787907339c85483a2",
      "197cc63ffeb0453fba7730a9b8bd531d",
      "536d0694580e46ad9356586aea88627d",
      "e5b7fe1e3cf544a093c3bbc1f075545a",
      "c1e07d59106544bdbd0cde97380c88db",
      "f272ebd214f143579a747d37f06f8578",
      "3b76aca2cab644f4adb0a9c24b33865d",
      "4f658c94ca774adeb6c27f0b8d68b368",
      "f8d2fab6726a49e8b8443783f5f20911",
      "4f240765e11f47e5b8110c3cb2f81b35",
      "a4029f83f1294ca981a62817ac835484",
      "81c392bd546145eabd2bd1ff0b246911",
      "4d7af20dd05f494fa1dd92ae73fe158b",
      "5933c72a748b4db58078f517db5c5120",
      "8e33c271de1744bc8d0b6f67c1101dcc",
      "a6ce855654cc4ca295ce3689984ac226",
      "9ea59faa0bd9499f8c7cca5daf9b76e6",
      "29c4fec6dab24c939932e910db29f9ff",
      "c735bcf28dde4305a1642a2bdbf3dfcb",
      "f5970bf0a69842e692041a7a2c21dfb1",
      "5e1988dc726b441ebc1d264a98b83fbc",
      "ad9364544e214b8483520020a3b87df2",
      "701e0f2fbad3463b9c66e8a7e4949144",
      "2a314420428a4ce68ee073a113a1865e",
      "cb1f8f1990674960b54a418a6b943bf4",
      "e87b2bd9a2ed42759ef716c07a882ad5",
      "3ded0e0a04d848288c4e07fb2ccb0b18",
      "729406de6279478cac75ccb416ce32e3",
      "7333fc5f3900426bb7d7434e5eb022eb",
      "0c1bf462bbd546b79fde5184783b20ca",
      "fc2a3ed815b547509babfe56b6b0028c",
      "012301170183417b8ef37fc3be9a83a5",
      "35f31858d8874821bcaa11016848b20a",
      "982671eca74a4ca0b2d088547299cc8f",
      "2b632fea606d45159af0119fa75608e9",
      "aae8849e337343f3af0ecf16e3af771c",
      "4d35111788134cb39ed708ac586b83eb",
      "73db15a993774ae1bda701fe24873603",
      "144c0ffba3594009a8aa65b559c0b952",
      "3e9439cf81a945189375acb8c4b1cc17",
      "54d65145ad394f2c87a90e261677f32b",
      "7b621ddc28824e0a9f44e5ed8b07929d",
      "cc1490fef2964807b77fbdda5976e7a8",
      "ca55578fb1e34028af4b62f202f0c052",
      "03fb007c6c0449c2944e714a0a0bb9e5",
      "a0d76c86d1134f1499635b9ac8060808",
      "734d37cfc6cf470da494439db51cd41f",
      "ebf45b42aa1a48a69981ed743e1ffd4c",
      "fbb555562628439a8688074da28c6cd6"
     ]
    },
    "id": "XLUg9YO7w9eC",
    "outputId": "3058b858-8eb3-44fc-da98-7cccb19cd65e"
   },
   "outputs": [],
   "source": [
    "#FRENK dataset\n",
    "df_train = pd.read_csv('data/frenk_train.tsv',sep='\\t')\n",
    "frenk_label_train = df_train[\"label\"].to_numpy()\n",
    "\n",
    "df_test = pd.read_csv('data/frenk_test.tsv',sep='\\t')\n",
    "frenk_label_test = df_test[\"label\"].to_numpy()"
   ]
  },
  {
   "cell_type": "code",
   "execution_count": 21,
   "id": "9fbbc058-e4b6-45b6-a083-a07b3bef84aa",
   "metadata": {},
   "outputs": [],
   "source": [
    "def get_hate_labels(labels):\n",
    "    hate_labels = np.zeros(len(labels))\n",
    "    for i in range(len(labels)):\n",
    "        if labels[i].any():\n",
    "            hate_labels[i] = 1\n",
    "    return hate_labels"
   ]
  },
  {
   "cell_type": "code",
   "execution_count": 22,
   "id": "a437e7ce-de58-4290-b0c6-c95e22a09e46",
   "metadata": {},
   "outputs": [],
   "source": [
    "#Gab dataset\n",
    "df_train = pd.read_csv('data/ghc_train_8404.tsv',sep='\\t')\n",
    "labels = df_train[[\"hd\",\"cv\"]].to_numpy()\n",
    "ghc_label_train = get_hate_labels(labels)\n",
    "\n",
    "df_test = pd.read_csv('data/ghc_test_2301.tsv',sep='\\t')\n",
    "labels = df_test[[\"hd\",\"cv\"]].to_numpy()\n",
    "ghc_label_test = get_hate_labels(labels)"
   ]
  },
  {
   "cell_type": "code",
   "execution_count": 23,
   "id": "8dd39afb-12fa-4242-b91d-9f1de6b36bd4",
   "metadata": {},
   "outputs": [],
   "source": [
    "#Twi-Red-You dataset\n",
    "df_train = pd.read_csv('data/try_train_8404.tsv',sep='\\t')\n",
    "try_label_train = df_train['hate'].to_numpy()\n",
    "\n",
    "df_test = pd.read_csv('data/try_test_2301.tsv',sep='\\t')\n",
    "try_label_test = df_test['hate'].to_numpy()"
   ]
  },
  {
   "cell_type": "code",
   "execution_count": 24,
   "id": "5e3bfeb4-f7b8-44ef-bbfd-32e39f0c3f7e",
   "metadata": {},
   "outputs": [],
   "source": [
    "label_train = np.concatenate([frenk_label_train,frenk_label_test,ghc_label_train,ghc_label_test,try_label_train,try_label_test])"
   ]
  },
  {
   "cell_type": "code",
   "execution_count": 25,
   "id": "011266dd-b088-4e38-bc9f-1cef43cd8b87",
   "metadata": {},
   "outputs": [],
   "source": [
    "c_weights = compute_class_weight('balanced', classes=np.unique(label_train), y=label_train)\n",
    "c_weights = {0:c_weights[0], 1:c_weights[1]}"
   ]
  },
  {
   "cell_type": "markdown",
   "id": "2330df37-4a91-4ee7-a30a-ccd76c9daae5",
   "metadata": {},
   "source": [
    "## Training the PEACE model"
   ]
  },
  {
   "cell_type": "code",
   "execution_count": 26,
   "id": "c3722973-b535-4d57-b1d0-5054c27d84ef",
   "metadata": {},
   "outputs": [
    {
     "name": "stdout",
     "output_type": "stream",
     "text": [
      "Epoch 1/10\n",
      "1004/1004 [==============================] - 3s 2ms/step - loss: 0.5209 - accuracy: 0.7219\n",
      "Epoch 2/10\n",
      "1004/1004 [==============================] - 2s 2ms/step - loss: 0.4958 - accuracy: 0.7390\n",
      "Epoch 3/10\n",
      "1004/1004 [==============================] - 2s 2ms/step - loss: 0.4837 - accuracy: 0.7437\n",
      "Epoch 4/10\n",
      "1004/1004 [==============================] - 2s 2ms/step - loss: 0.4742 - accuracy: 0.7464\n",
      "Epoch 5/10\n",
      "1004/1004 [==============================] - 2s 2ms/step - loss: 0.4646 - accuracy: 0.7510\n",
      "Epoch 6/10\n",
      "1004/1004 [==============================] - 2s 2ms/step - loss: 0.4533 - accuracy: 0.7537\n",
      "Epoch 7/10\n",
      "1004/1004 [==============================] - 2s 2ms/step - loss: 0.4424 - accuracy: 0.7581\n",
      "Epoch 8/10\n",
      "1004/1004 [==============================] - 2s 2ms/step - loss: 0.4340 - accuracy: 0.7635\n",
      "Epoch 9/10\n",
      "1004/1004 [==============================] - 3s 3ms/step - loss: 0.4228 - accuracy: 0.7678\n",
      "Epoch 10/10\n",
      "1004/1004 [==============================] - 3s 3ms/step - loss: 0.4131 - accuracy: 0.7745\n"
     ]
    },
    {
     "data": {
      "text/plain": [
       "<keras.callbacks.History at 0x19e11aa7250>"
      ]
     },
     "execution_count": 26,
     "metadata": {},
     "output_type": "execute_result"
    }
   ],
   "source": [
    "hate_model = Sequential([\n",
    "      Flatten(),\n",
    "      Dense(128, activation='relu'),\n",
    "      Dense(128, activation='relu'),\n",
    "      Dense(1, activation='sigmoid')\n",
    "  ])\n",
    "hate_model.compile(optimizer='adam', loss='binary_crossentropy', metrics=['accuracy'])\n",
    "hate_model.fit(conc_train, label_train, class_weight=c_weights, epochs=10, batch_size=32)\n",
    "#class_weight=c_weights"
   ]
  },
  {
   "cell_type": "code",
   "execution_count": 27,
   "id": "11efd5eb-c8ee-4514-b15b-589c266d1ab0",
   "metadata": {},
   "outputs": [
    {
     "name": "stdout",
     "output_type": "stream",
     "text": [
      "INFO:tensorflow:Assets written to: ITE_model/models/PEACE_model\\assets\n"
     ]
    }
   ],
   "source": [
    "hate_model.save('ITE_model/models/PEACE_model')"
   ]
  },
  {
   "cell_type": "code",
   "execution_count": null,
   "id": "fa4c7d59-7fff-4608-afe0-a070a5e3c015",
   "metadata": {},
   "outputs": [],
   "source": []
  }
 ],
 "metadata": {
  "kernelspec": {
   "display_name": "Python 3 (ipykernel)",
   "language": "python",
   "name": "python3"
  },
  "language_info": {
   "codemirror_mode": {
    "name": "ipython",
    "version": 3
   },
   "file_extension": ".py",
   "mimetype": "text/x-python",
   "name": "python",
   "nbconvert_exporter": "python",
   "pygments_lexer": "ipython3",
   "version": "3.9.16"
  }
 },
 "nbformat": 4,
 "nbformat_minor": 5
}
