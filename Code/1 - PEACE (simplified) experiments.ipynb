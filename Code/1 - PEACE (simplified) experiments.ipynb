{
 "cells": [
  {
   "cell_type": "code",
   "execution_count": 1,
   "metadata": {
    "colab": {
     "base_uri": "https://localhost:8080/"
    },
    "id": "mCjTbCYbZy1r",
    "outputId": "397a279f-8e50-49b1-f1ab-348d2b465577"
   },
   "outputs": [],
   "source": [
    "from transformers import AutoTokenizer, AutoModel, TFAutoModel, AutoModelForSequenceClassification, TFAutoModelForSequenceClassification, BertModel, BertForSequenceClassification, BertTokenizer\n",
    "from tensorflow.keras.models import Model, Sequential\n",
    "from tensorflow.keras.layers import Dense, Flatten, Concatenate, GlobalAveragePooling1D\n",
    "import torch\n",
    "import torch.nn.functional as F\n",
    "from torchsummary import summary\n",
    "import tensorflow as tf\n",
    "import datasets\n",
    "import numpy as np\n",
    "import pandas as pd\n",
    "from scipy.special import softmax\n",
    "from sklearn import metrics\n",
    "from sklearn.utils.class_weight import compute_class_weight\n",
    "from time import time\n",
    "import gc"
   ]
  },
  {
   "cell_type": "markdown",
   "metadata": {},
   "source": [
    "## FRENK Dataset"
   ]
  },
  {
   "cell_type": "code",
   "execution_count": 2,
   "metadata": {},
   "outputs": [],
   "source": [
    "def get_texts(df):\n",
    "    np_array = df[\"text\"].to_numpy()\n",
    "    texts = []\n",
    "    for i in range(len(np_array)):\n",
    "        texts.append(np_array[i])\n",
    "    return texts"
   ]
  },
  {
   "cell_type": "code",
   "execution_count": 3,
   "metadata": {},
   "outputs": [],
   "source": [
    "def truncate(texts,max_length):\n",
    "    for i in range(len(texts)):\n",
    "      if len(texts[i]) > max_length:\n",
    "        texts[i] = texts[i][:max_length]\n",
    "    return texts"
   ]
  },
  {
   "cell_type": "code",
   "execution_count": 4,
   "metadata": {},
   "outputs": [],
   "source": [
    "#Save FRENK datasets\n",
    "ds = datasets.load_dataset(\"classla/FRENK-hate-en\",\"binary\")\n",
    "df_train = ds[\"train\"].to_pandas()\n",
    "df_train = df_train[[\"text\",\"label\"]]\n",
    "df_train.to_csv('data/frenk_train.tsv', sep=\"\\t\", index=False)\n",
    "\n",
    "df_test = ds[\"test\"].to_pandas()\n",
    "df_test = df_test[[\"text\",\"label\"]]\n",
    "df_test.to_csv('data/frenk_test.tsv', sep=\"\\t\", index=False)"
   ]
  },
  {
   "cell_type": "code",
   "execution_count": 5,
   "metadata": {},
   "outputs": [],
   "source": [
    "df_train = pd.read_csv('data/frenk_train.tsv',sep='\\t')\n",
    "frenk_train = get_texts(df_train)\n",
    "frenk_label_train = df_train[\"label\"].to_numpy()\n",
    "\n",
    "df_test = pd.read_csv('data/frenk_test.tsv',sep='\\t')\n",
    "frenk_test = get_texts(df_test)\n",
    "frenk_label_test = df_test[\"label\"].to_numpy()"
   ]
  },
  {
   "cell_type": "code",
   "execution_count": 6,
   "metadata": {},
   "outputs": [
    {
     "name": "stdout",
     "output_type": "stream",
     "text": [
      "1936\n"
     ]
    },
    {
     "data": {
      "text/plain": [
       "<Axes: >"
      ]
     },
     "execution_count": 6,
     "metadata": {},
     "output_type": "execute_result"
    },
    {
     "data": {
      "image/png": "[encoded data removed]",
      "text/plain": [
       "<Figure size 640x480 with 1 Axes>"
      ]
     },
     "metadata": {},
     "output_type": "display_data"
    }
   ],
   "source": [
    "length_test_sent = []\n",
    "for i in range(len(frenk_test)):\n",
    "    if len(frenk_test[i])<300:\n",
    "        length_test_sent.append(len(frenk_test[i]))\n",
    "print(len(length_test_sent))\n",
    "pd.Series(length_test_sent).hist()"
   ]
  },
  {
   "cell_type": "code",
   "execution_count": 7,
   "metadata": {
    "id": "tD-JPn5p3G0I"
   },
   "outputs": [],
   "source": [
    "max_length = 150\n",
    "frenk_train = truncate(frenk_train,max_length)\n",
    "frenk_test = truncate(frenk_test,max_length)"
   ]
  },
  {
   "cell_type": "code",
   "execution_count": 6,
   "metadata": {},
   "outputs": [
    {
     "name": "stdout",
     "output_type": "stream",
     "text": [
      "(2301,)\n"
     ]
    }
   ],
   "source": [
    "print(np.array(frenk_test).shape)"
   ]
  },
  {
   "cell_type": "code",
   "execution_count": 7,
   "metadata": {},
   "outputs": [],
   "source": [
    "frenk_cweights = compute_class_weight('balanced', classes=np.unique(frenk_label_train), y=frenk_label_train)\n",
    "frenk_cweights = {0:frenk_cweights[0],1: frenk_cweights[1]}"
   ]
  },
  {
   "cell_type": "markdown",
   "metadata": {},
   "source": [
    "## Gab Dataset"
   ]
  },
  {
   "cell_type": "code",
   "execution_count": 8,
   "metadata": {},
   "outputs": [],
   "source": [
    "def get_texts(df):\n",
    "    np_array = df[\"text\"].to_numpy()\n",
    "    texts = []\n",
    "    for i in range(len(np_array)):\n",
    "        texts.append(np_array[i])\n",
    "    return texts"
   ]
  },
  {
   "cell_type": "code",
   "execution_count": 9,
   "metadata": {},
   "outputs": [],
   "source": [
    "def get_hate_labels(labels):\n",
    "    hate_labels = np.zeros(len(labels))\n",
    "    for i in range(len(labels)):\n",
    "        if labels[i].any():\n",
    "            hate_labels[i] = 1\n",
    "    return hate_labels"
   ]
  },
  {
   "cell_type": "code",
   "execution_count": 10,
   "metadata": {},
   "outputs": [],
   "source": [
    "#Gab dataset\n",
    "df_train = pd.read_csv('data/ghc_train.tsv',sep='\\t')\n",
    "ghc_train = get_texts(df_train)\n",
    "labels = df_train[[\"hd\",\"cv\",\"vo\"]].to_numpy()\n",
    "ghc_label_train = get_hate_labels(labels)\n",
    "\n",
    "df_test = pd.read_csv('data/ghc_test.tsv',sep='\\t')\n",
    "ghc_test = get_texts(df_test)\n",
    "labels = df_test[[\"hd\",\"cv\",\"vo\"]].to_numpy()\n",
    "ghc_label_test = get_hate_labels(labels)"
   ]
  },
  {
   "cell_type": "code",
   "execution_count": 11,
   "metadata": {},
   "outputs": [],
   "source": [
    "max_length = 150\n",
    "ghc_train = truncate(ghc_train,max_length)\n",
    "ghc_test = truncate(ghc_test,max_length)"
   ]
  },
  {
   "cell_type": "code",
   "execution_count": 12,
   "metadata": {},
   "outputs": [],
   "source": [
    "ghc_cweights = compute_class_weight('balanced', classes=np.unique(ghc_label_train), y=ghc_label_train)\n",
    "ghc_cweights = {0:ghc_cweights[0],1: ghc_cweights[1]}"
   ]
  },
  {
   "cell_type": "markdown",
   "metadata": {},
   "source": [
    "## Twi-Red-You dataset"
   ]
  },
  {
   "cell_type": "code",
   "execution_count": 12,
   "metadata": {},
   "outputs": [
    {
     "name": "stderr",
     "output_type": "stream",
     "text": [
      "Found cached dataset parquet (C:/Users/Pedro/.cache/huggingface/datasets/ucberkeley-dlab___parquet/ucberkeley-dlab--measuring-hate-speech-c32713cabe528196/0.0.0/2a3b91fbd88a2c90d1dbbb32b460cf621d31bd5b05b934492fdef7d8d6f236ec)\n"
     ]
    },
    {
     "data": {
      "application/vnd.jupyter.widget-view+json": {
       "model_id": "c51cc29404de4966b109f5afcc18ba0e",
       "version_major": 2,
       "version_minor": 0
      },
      "text/plain": [
       "  0%|          | 0/1 [00:00<?, ?it/s]"
      ]
     },
     "metadata": {},
     "output_type": "display_data"
    },
    {
     "name": "stderr",
     "output_type": "stream",
     "text": [
      "C:\\Users\\Pedro\\AppData\\Local\\Temp\\ipykernel_16336\\1110734405.py:4: SettingWithCopyWarning: \n",
      "A value is trying to be set on a copy of a slice from a DataFrame.\n",
      "Try using .loc[row_indexer,col_indexer] = value instead\n",
      "\n",
      "See the caveats in the documentation: https://pandas.pydata.org/pandas-docs/stable/user_guide/indexing.html#returning-a-view-versus-a-copy\n",
      "  df_hate['hate'] = (df_hate['hate_speech_score']>=0.5).astype(int)\n"
     ]
    }
   ],
   "source": [
    "dataset = datasets.load_dataset('ucberkeley-dlab/measuring-hate-speech', 'binary')   \n",
    "df = dataset['train'].to_pandas()\n",
    "df_hate = df[['text','hate_speech_score']]\n",
    "df_hate['hate'] = (df_hate['hate_speech_score']>=0.5).astype(int)\n",
    "df_hate = df_hate[['text','hate']]\n",
    "\n",
    "df_hate_train = df_hate.iloc[0:8404]\n",
    "df_hate_test = df_hate.iloc[8404:8404+2301]\n",
    "\n",
    "df_hate_train.to_csv('data/try_train_8404.tsv', sep=\"\\t\", index=False)\n",
    "df_hate_test.to_csv('data/try_test_2301.tsv', sep=\"\\t\", index=False)"
   ]
  },
  {
   "cell_type": "code",
   "execution_count": 8,
   "metadata": {},
   "outputs": [],
   "source": [
    "#Twi-Red-You dataset\n",
    "df_train = pd.read_csv('data/try_train_8404.tsv',sep='\\t')\n",
    "try_train = get_texts(df_train)\n",
    "try_label_train = df_train['hate'].to_numpy()\n",
    "\n",
    "df_test = pd.read_csv('data/try_test_2301.tsv',sep='\\t')\n",
    "try_test = get_texts(df_test)\n",
    "try_label_test = df_test['hate'].to_numpy()"
   ]
  },
  {
   "cell_type": "code",
   "execution_count": 14,
   "metadata": {},
   "outputs": [],
   "source": [
    "max_length = 150\n",
    "try_train = truncate(try_train,max_length)\n",
    "try_test = truncate(try_test,max_length)"
   ]
  },
  {
   "cell_type": "code",
   "execution_count": 15,
   "metadata": {},
   "outputs": [],
   "source": [
    "try_cweights = compute_class_weight('balanced', classes=np.unique(try_label_train), y=try_label_train)\n",
    "try_cweights = {0:try_cweights[0], 1:try_cweights[1]}"
   ]
  },
  {
   "cell_type": "markdown",
   "metadata": {},
   "source": [
    "## Load models"
   ]
  },
  {
   "cell_type": "code",
   "execution_count": 16,
   "metadata": {
    "colab": {
     "base_uri": "https://localhost:8080/",
     "height": 580,
     "referenced_widgets": [
      "25d10e1b089f4622a9ff8061f7fa2dc1",
      "b0c8e56800b9475f9af282e1c4a15edb",
      "e27c4ef4abaf40c2b07b5af4d541bc3f",
      "0c0b10068a374e7e91048528a83a67ba",
      "53c938c9d8894062963015fc8c34ccd5",
      "9741ed78934c4298a2034a7ec7365148",
      "f8970e3c49144308809264350121230b",
      "c49a1bc3b6534ab09da19c16fa3569e4",
      "e4081f4f68634ad5b63ef590594566f2",
      "9c71be3221174cb7bb0e189f345b28d9",
      "1f575ffa7bd144caa09c01c1b0ae5954",
      "d1eeb8e55938403093083455a633b45a",
      "9c0d494c3b66400dbb73992139f46098",
      "f84583fe125e4bcca143ff4ac47bf35e",
      "f584fa16b1ba48fc8ff6d4c4ff8b9dbd",
      "c94b65298dd946a48513680ee2f7d51b",
      "fd8d30cbdcc1416bb322284af4ed38fd",
      "1762b922710e42bd8e326eac2cef3b67",
      "2302c713309f4c3fa71b517321a62356",
      "2e1af413cfb048d3bd738f0a2d56d5c2",
      "7c4ff144e1ec4fa7801584bdab170860",
      "47be54d96a3f4661932853c10d75608c",
      "71f0bbb111974222ad529d45a376760c",
      "13314386851f4744b4f72ff8437eed63",
      "4884ad737f6b44d3880454f7f2211986",
      "e5bc5e7f0a5e411c8df37659a67a07a0",
      "e78e660f05ac4d6798124ec8e34f3477",
      "0558b0ed50734e44b609099168047b78",
      "348b3597ffe74f3686af60078f166c67",
      "3e9452f9aa754444a4070f2d8074cdc4",
      "0f64f111ead3448ba01a285cfdfdfbc0",
      "a8ef9d5768834aca9163503da575c31e",
      "a0d8645b72804cb48ce5be6a17095b2f",
      "36ae4ed40dc14c668e1bd4b1be22b377",
      "80632368dcbc4e7c9df13677020d6bfe",
      "88119943611e42cc941b9a2c0ad3aaca",
      "7eeabaf6d2294f78ba25024c4c025222",
      "7a4c4bd7ff3f4283a519f54189e63345",
      "47184205021b4764a19048fa29f31fc4",
      "d9e4b06d0ce84d3dbc0ce308ca91c87d",
      "ae2b27727f834fa89a535760e750e2c9",
      "71bd4a6b79df4352a3c3dc0314f3cb6a",
      "107ccf5cc7334b8b8bc9b684d58d116d",
      "3c7bd57877c041e385120fdd35f4e946",
      "9c4dd747532a42c5ba7fd15ba1f8d867",
      "6fa4b0b2b84942e8835a7a1aac1719f0",
      "1b4801b125c045f5964ae26f748356ad",
      "097731e7177e4c379d94dc873e6f2cfb",
      "bb4f0e5976e44126846f833b7c625f04",
      "e0818f0301bf484a93e0c100fbd4532c",
      "4c2864afe996469cbc21a02e70d052e7",
      "b9927b1560b64f99b476d9d6a348450d",
      "aa119beb93a2460997327b0718bc23b2",
      "54c64693f7094824b6f8464461afd741",
      "5c9bf5a6a48b46ae83bef0e7365262d2",
      "0515986ebac9487e87cc11507fb9ed23",
      "8fac088734b84efa967ebe5b6cd9e7a1",
      "42f48728b1fb4e3aa9428b23208c9fa3",
      "e7460a5a65b34bd28ffefbc8c8c17b79",
      "73a210ccae5347c08bff5b756e6ad935",
      "69c3798eb1c64560b27ec43cfd9147a3",
      "773270defbfd42e4a1284281bf9fc528",
      "fd4b212ac7d94f5fb1f1d92a27f65a01",
      "2519e3fb886149a097a89e867d8f4577",
      "1ead8799c33e40dc94b9fc0db592579f",
      "a1bdc584870c4feb9142d25fff2f42ed",
      "7ade5986f8eb43d298f2f80a410e88f4",
      "8b74eb2e3ad5402ba998263b43ed7221",
      "0e3d20c7cf384d60b15b9d4494fd76da",
      "bb143befcde24ea9a23603167220d146",
      "a4d7313eb964445d9bdc2799a703e5f9",
      "67d51db274314a808b2eff100eabd69d",
      "a6f1ba2ab1274c26816f4070d355a996",
      "1652de29860646f9a6b6a2f072dc3d81",
      "4a557d4a52a7473aab9faa75f441af5b",
      "eaaa06fde1f1413dbcf7a4887c2c68f7",
      "506aaed4a06943e999eaeb7fc0739007",
      "316d1d3c54df4b19a1a57e9d2508b462",
      "06de1f297b2e43f19dd105dc8e75d457",
      "f187fec9a45744cdaf9a805e7648a95b",
      "9f268b0b6b0e4fcd8fb497200501657e",
      "99137314159f482494398c83a08af801",
      "1958d2d371d64959a9dc25f54e676d10",
      "bd0557bac9d5452f87b259bc6dec8cd2",
      "4b11cd49b28a4194bbd494ee8e7d0461",
      "e5ea1d94c8ca40aaa1d9565be143eca2",
      "291d8a08fcad4e9994e13dab3e486087",
      "e6d225c5ce5e4ef3aabd109001e9f86d",
      "d3e3a6557cf3498bbb6654c3a4fa6582",
      "7015ce22ed23485fbbb69008e43b54b5",
      "61901e9df7054796a6a34be9548813ea",
      "1b9a780788ee4b60a488604ce41f4856",
      "84a0d6b56e0c427e9968a1d36cdc2757",
      "3eb333fe243c4d9f918e7f9009ac07d9",
      "930c90c973954c05a1c020523c62ddb0",
      "ce17653680e442bb9f9c65f4bfd6bf64",
      "aa44ef44dd3647f3a1a2a33e27731f7f",
      "a95a061a749a4738973ff8e037064e45",
      "95c0b6d3e81c40aeb219f2482894976a"
     ]
    },
    "id": "HOUgVPGNv79P",
    "outputId": "6221fe39-99cb-4302-f9b5-0bd87687adb1"
   },
   "outputs": [
    {
     "name": "stderr",
     "output_type": "stream",
     "text": [
      "All model checkpoint layers were used when initializing TFRobertaModel.\n",
      "\n",
      "All the layers of TFRobertaModel were initialized from the model checkpoint at cardiffnlp/twitter-roberta-base-sentiment-latest.\n",
      "If your task is similar to the task the model of the checkpoint was trained on, you can already use TFRobertaModel for predictions without further training.\n",
      "Some layers from the model checkpoint at cardiffnlp/twitter-roberta-base-offensive were not used when initializing TFRobertaModel: ['classifier']\n",
      "- This IS expected if you are initializing TFRobertaModel from the checkpoint of a model trained on another task or with another architecture (e.g. initializing a BertForSequenceClassification model from a BertForPreTraining model).\n",
      "- This IS NOT expected if you are initializing TFRobertaModel from the checkpoint of a model that you expect to be exactly identical (initializing a BertForSequenceClassification model from a BertForSequenceClassification model).\n",
      "All the layers of TFRobertaModel were initialized from the model checkpoint at cardiffnlp/twitter-roberta-base-offensive.\n",
      "If your task is similar to the task the model of the checkpoint was trained on, you can already use TFRobertaModel for predictions without further training.\n",
      "Some weights of the PyTorch model were not used when initializing the TF 2.0 model TFRobertaModel: ['lm_head.layer_norm.weight', 'lm_head.dense.weight', 'roberta.embeddings.position_ids', 'lm_head.layer_norm.bias', 'lm_head.bias', 'lm_head.dense.bias']\n",
      "- This IS expected if you are initializing TFRobertaModel from a PyTorch model trained on another task or with another architecture (e.g. initializing a TFBertForSequenceClassification model from a BertForPreTraining model).\n",
      "- This IS NOT expected if you are initializing TFRobertaModel from a PyTorch model that you expect to be exactly identical (e.g. initializing a TFBertForSequenceClassification model from a BertForSequenceClassification model).\n",
      "Some weights or buffers of the TF 2.0 model TFRobertaModel were not initialized from the PyTorch model and are newly initialized: ['roberta.pooler.dense.weight', 'roberta.pooler.dense.bias']\n",
      "You should probably TRAIN this model on a down-stream task to be able to use it for predictions and inference.\n"
     ]
    }
   ],
   "source": [
    "#roBERTa models\n",
    "sent_MOD = f\"cardiffnlp/twitter-roberta-base-sentiment-latest\"\n",
    "aggr_MOD = f\"cardiffnlp/twitter-roberta-base-offensive\"\n",
    "gen_MOD = f\"roberta-base\"\n",
    "\n",
    "#Load tokenizer and models\n",
    "tokenizer = AutoTokenizer.from_pretrained(sent_MOD)\n",
    "sent_mod = TFAutoModel.from_pretrained(sent_MOD)\n",
    "aggr_mod = TFAutoModel.from_pretrained(aggr_MOD)\n",
    "gen_mod = TFAutoModel.from_pretrained(gen_MOD)\n",
    "\n",
    "batch_size = 32"
   ]
  },
  {
   "cell_type": "code",
   "execution_count": 17,
   "metadata": {
    "id": "0KzywtJWoTAL"
   },
   "outputs": [],
   "source": [
    "def Compute_Embeddings(tokenizer,sent_mod,aggr_mod,gen_mod,texts,batch_size):\n",
    "  # Split texts into batches\n",
    "  batches = [texts[i:i + batch_size] for i in range(0, len(texts), batch_size)]\n",
    "  batch_out_1 = []\n",
    "  batch_out_2 = []\n",
    "  batch_out_3 = []\n",
    "  for batch in batches:\n",
    "      encoded_inputs = tokenizer(batch,padding=True,return_tensors='tf')\n",
    "      # Compute the outputs of the modules as numpy arrays.\n",
    "      emb_1 = sent_mod(encoded_inputs)[0]\n",
    "      pool_1 = GlobalAveragePooling1D()(emb_1).numpy()\n",
    "      batch_out_1.append(pool_1)\n",
    "\n",
    "      emb_2 = aggr_mod(encoded_inputs)[0]\n",
    "      pool_2 = GlobalAveragePooling1D()(emb_2).numpy()\n",
    "      batch_out_2.append(pool_2)\n",
    "\n",
    "      emb_3 = gen_mod(encoded_inputs)[0]\n",
    "      pool_3 = GlobalAveragePooling1D()(emb_3).numpy()\n",
    "      batch_out_3.append(pool_3)    \n",
    "    \n",
    "      encoded_inputs = None\n",
    "      emb_1 = None\n",
    "      emb_2 = None\n",
    "      emb_3 = None\n",
    "      gc.collect() \n",
    "    \n",
    "  outs_1 = np.concatenate(batch_out_1,axis=0)\n",
    "  outs_2 = np.concatenate(batch_out_2,axis=0)\n",
    "  outs_3 = np.concatenate(batch_out_3,axis=0)  \n",
    "\n",
    "  return outs_1,outs_2,outs_3"
   ]
  },
  {
   "cell_type": "markdown",
   "metadata": {},
   "source": [
    "## Compute outputs (If the outputs are already saved you can skip this step)"
   ]
  },
  {
   "cell_type": "markdown",
   "metadata": {},
   "source": [
    "### FRENK dataset"
   ]
  },
  {
   "cell_type": "code",
   "execution_count": 19,
   "metadata": {
    "id": "fryFHn4hrdM0"
   },
   "outputs": [
    {
     "name": "stdout",
     "output_type": "stream",
     "text": [
      "Elapsed time: 182.81349110603333\n"
     ]
    }
   ],
   "source": [
    "#### Train set\n",
    "t = time()\n",
    "outs_sent,outs_aggr,outs_gen = Compute_Embeddings(tokenizer,sent_mod,aggr_mod,gen_mod,frenk_train,batch_size)\n",
    "print(\"Elapsed time:\",time()-t)\n",
    "\n",
    "np.save('outs/frenk/sent_train_outs.npy',outs_sent)\n",
    "np.save('outs/frenk/aggr_train_outs.npy',outs_aggr)\n",
    "np.save('outs/frenk/gen_train_outs.npy',outs_gen)"
   ]
  },
  {
   "cell_type": "code",
   "execution_count": 20,
   "metadata": {},
   "outputs": [
    {
     "name": "stdout",
     "output_type": "stream",
     "text": [
      "Elapsed time: 47.71849966049194\n"
     ]
    }
   ],
   "source": [
    "#### Test set\n",
    "t = time()\n",
    "outs_sent,outs_aggr,outs_gen = Compute_Embeddings(tokenizer,sent_mod,aggr_mod,gen_mod,frenk_test,batch_size)\n",
    "print(\"Elapsed time:\",time()-t)\n",
    "\n",
    "np.save('outs/frenk/sent_test_outs.npy',outs_sent)\n",
    "np.save('outs/frenk/aggr_test_outs.npy',outs_aggr)\n",
    "np.save('outs/frenk/gen_test_outs.npy',outs_gen)"
   ]
  },
  {
   "cell_type": "markdown",
   "metadata": {},
   "source": [
    "### Gab dataset"
   ]
  },
  {
   "cell_type": "code",
   "execution_count": 21,
   "metadata": {
    "id": "fryFHn4hrdM0"
   },
   "outputs": [
    {
     "name": "stdout",
     "output_type": "stream",
     "text": [
      "Elapsed time: 467.4172308444977\n"
     ]
    }
   ],
   "source": [
    "#### Train set\n",
    "batch_size = 32\n",
    "\n",
    "t = time()\n",
    "outs_sent,outs_aggr,outs_gen = Compute_Embeddings(tokenizer,sent_mod,aggr_mod,gen_mod,ghc_train,batch_size)\n",
    "print(\"Elapsed time:\",time()-t)\n",
    "\n",
    "np.save('outs/ghc/sent_train_outs.npy',outs_sent)\n",
    "np.save('outs/ghc/aggr_train_outs.npy',outs_aggr)\n",
    "np.save('outs/ghc/gen_train_outs.npy',outs_gen)"
   ]
  },
  {
   "cell_type": "code",
   "execution_count": 22,
   "metadata": {},
   "outputs": [
    {
     "name": "stdout",
     "output_type": "stream",
     "text": [
      "Elapsed time: 117.57411527633667\n"
     ]
    }
   ],
   "source": [
    "#### Test set\n",
    "t = time()\n",
    "outs_sent,outs_aggr,outs_gen = Compute_Embeddings(tokenizer,sent_mod,aggr_mod,gen_mod,ghc_test,batch_size)\n",
    "print(\"Elapsed time:\",time()-t)\n",
    "\n",
    "np.save('outs/ghc/sent_test_outs.npy',outs_sent)\n",
    "np.save('outs/ghc/aggr_test_outs.npy',outs_aggr)\n",
    "np.save('outs/ghc/gen_test_outs.npy',outs_gen)"
   ]
  },
  {
   "cell_type": "markdown",
   "metadata": {},
   "source": [
    "### Twi-Red-You dataset"
   ]
  },
  {
   "cell_type": "code",
   "execution_count": 23,
   "metadata": {
    "id": "fryFHn4hrdM0"
   },
   "outputs": [
    {
     "name": "stdout",
     "output_type": "stream",
     "text": [
      "Elapsed time: 166.6827666759491\n"
     ]
    }
   ],
   "source": [
    "#### Train set\n",
    "batch_size = 32\n",
    "\n",
    "t = time()\n",
    "outs_sent,outs_aggr,outs_gen = Compute_Embeddings(tokenizer,sent_mod,aggr_mod,gen_mod,try_train,batch_size)\n",
    "print(\"Elapsed time:\",time()-t)\n",
    "\n",
    "np.save('outs/try/sent_train_outs.npy',outs_sent)\n",
    "np.save('outs/try/aggr_train_outs.npy',outs_aggr)\n",
    "np.save('outs/try/gen_train_outs.npy',outs_gen)"
   ]
  },
  {
   "cell_type": "code",
   "execution_count": 24,
   "metadata": {},
   "outputs": [
    {
     "name": "stdout",
     "output_type": "stream",
     "text": [
      "Elapsed time: 44.98300838470459\n"
     ]
    }
   ],
   "source": [
    "#### Test set\n",
    "t = time()\n",
    "outs_sent,outs_aggr,outs_gen = Compute_Embeddings(tokenizer,sent_mod,aggr_mod,gen_mod,try_test,batch_size)\n",
    "print(\"Elapsed time:\",time()-t)\n",
    "\n",
    "np.save('outs/try/sent_test_outs.npy',outs_sent)\n",
    "np.save('outs/try/aggr_test_outs.npy',outs_aggr)\n",
    "np.save('outs/try/gen_test_outs.npy',outs_gen)"
   ]
  },
  {
   "cell_type": "markdown",
   "metadata": {},
   "source": [
    "## Load outputs"
   ]
  },
  {
   "cell_type": "code",
   "execution_count": 18,
   "metadata": {},
   "outputs": [],
   "source": [
    "frenk_sent_train = np.load('outs/frenk/sent_train_outs.npy')\n",
    "frenk_aggr_train = np.load('outs/frenk/aggr_train_outs.npy')\n",
    "frenk_gen_train = np.load('outs/frenk/gen_train_outs.npy')\n",
    "\n",
    "frenk_sent_test = np.load('outs/frenk/sent_test_outs.npy')\n",
    "frenk_aggr_test = np.load('outs/frenk/aggr_test_outs.npy')\n",
    "frenk_gen_test = np.load('outs/frenk/gen_test_outs.npy')"
   ]
  },
  {
   "cell_type": "code",
   "execution_count": 19,
   "metadata": {},
   "outputs": [],
   "source": [
    "ghc_sent_train = np.load('outs/ghc/sent_train_outs.npy')\n",
    "ghc_aggr_train = np.load('outs/ghc/aggr_train_outs.npy')\n",
    "ghc_gen_train = np.load('outs/ghc/gen_train_outs.npy')\n",
    "\n",
    "ghc_sent_test = np.load('outs/ghc/sent_test_outs.npy')\n",
    "ghc_aggr_test = np.load('outs/ghc/aggr_test_outs.npy')\n",
    "ghc_gen_test = np.load('outs/ghc/gen_test_outs.npy')"
   ]
  },
  {
   "cell_type": "code",
   "execution_count": 20,
   "metadata": {},
   "outputs": [],
   "source": [
    "try_sent_train = np.load('outs/try/sent_train_outs.npy')\n",
    "try_aggr_train = np.load('outs/try/aggr_train_outs.npy')\n",
    "try_gen_train = np.load('outs/try/gen_train_outs.npy')\n",
    "\n",
    "try_sent_test = np.load('outs/try/sent_test_outs.npy')\n",
    "try_aggr_test = np.load('outs/try/aggr_test_outs.npy')\n",
    "try_gen_test = np.load('outs/try/gen_test_outs.npy')"
   ]
  },
  {
   "cell_type": "code",
   "execution_count": 21,
   "metadata": {},
   "outputs": [
    {
     "name": "stdout",
     "output_type": "stream",
     "text": [
      "(8404, 768)\n"
     ]
    }
   ],
   "source": [
    "print(try_sent_train.shape)"
   ]
  },
  {
   "cell_type": "markdown",
   "metadata": {},
   "source": [
    "## Hate prediction with the 3 models"
   ]
  },
  {
   "cell_type": "code",
   "execution_count": 22,
   "metadata": {},
   "outputs": [],
   "source": [
    "conc_frenk_train = np.concatenate([frenk_sent_train, frenk_aggr_train, frenk_gen_train], axis=1)\n",
    "conc_frenk_test = np.concatenate([frenk_sent_test, frenk_aggr_test, frenk_gen_test], axis=1)"
   ]
  },
  {
   "cell_type": "code",
   "execution_count": 23,
   "metadata": {},
   "outputs": [],
   "source": [
    "conc_ghc_train = np.concatenate([ghc_sent_train, ghc_aggr_train, ghc_gen_train], axis=1)\n",
    "conc_ghc_test = np.concatenate([ghc_sent_test, ghc_aggr_test, ghc_gen_test], axis=1)"
   ]
  },
  {
   "cell_type": "code",
   "execution_count": 24,
   "metadata": {},
   "outputs": [],
   "source": [
    "conc_ghc_train = conc_ghc_train[:8404]\n",
    "conc_ghc_test = conc_ghc_test[:2301]\n",
    "\n",
    "ghc_gen_train = ghc_gen_train[:8404]\n",
    "ghc_gen_test = ghc_gen_test[:2301]\n",
    "\n",
    "ghc_label_train = ghc_label_train[:8404]\n",
    "ghc_label_test = ghc_label_test[:2301]"
   ]
  },
  {
   "cell_type": "code",
   "execution_count": 25,
   "metadata": {},
   "outputs": [],
   "source": [
    "conc_try_train = np.concatenate([try_sent_train, try_aggr_train, try_gen_train], axis=1)\n",
    "conc_try_test = np.concatenate([try_sent_test, try_aggr_test, try_gen_test], axis=1)"
   ]
  },
  {
   "cell_type": "code",
   "execution_count": 26,
   "metadata": {},
   "outputs": [
    {
     "name": "stdout",
     "output_type": "stream",
     "text": [
      "(8404, 2304)\n"
     ]
    }
   ],
   "source": [
    "print(conc_try_train.shape)"
   ]
  },
  {
   "cell_type": "code",
   "execution_count": 27,
   "metadata": {},
   "outputs": [],
   "source": [
    "##Counterfactual evaluation\n",
    "def evaluate_text_PEACE(text,model,tokenizer,sent_mod,aggr_mod,gen_mod,batch_size):\n",
    "    out_sent,out_aggr,out_gen = Compute_Embeddings(tokenizer,sent_mod,aggr_mod,gen_mod,text,batch_size)\n",
    "    conc = np.concatenate([out_sent,out_aggr,out_gen],axis=1)\n",
    "    prob = model.predict(conc)\n",
    "    print(\"Hate prob.:\",prob)"
   ]
  },
  {
   "cell_type": "code",
   "execution_count": 28,
   "metadata": {},
   "outputs": [],
   "source": [
    "n_avg = 1"
   ]
  },
  {
   "cell_type": "markdown",
   "metadata": {
    "tags": []
   },
   "source": [
    "### Training with FRENK"
   ]
  },
  {
   "cell_type": "code",
   "execution_count": 29,
   "metadata": {
    "id": "7Za2hnjasM5P"
   },
   "outputs": [
    {
     "name": "stdout",
     "output_type": "stream",
     "text": [
      "Epoch 1/5\n",
      "263/263 [==============================] - 1s 2ms/step - loss: 0.5291 - accuracy: 0.7244\n",
      "Epoch 2/5\n",
      "263/263 [==============================] - 1s 2ms/step - loss: 0.4928 - accuracy: 0.7450\n",
      "Epoch 3/5\n",
      "263/263 [==============================] - 1s 2ms/step - loss: 0.4777 - accuracy: 0.7536\n",
      "Epoch 4/5\n",
      "263/263 [==============================] - 1s 2ms/step - loss: 0.4678 - accuracy: 0.7530\n",
      "Epoch 5/5\n",
      "263/263 [==============================] - 1s 2ms/step - loss: 0.4524 - accuracy: 0.7659\n",
      "263/263 [==============================] - 0s 731us/step\n",
      "72/72 [==============================] - 0s 789us/step\n",
      "72/72 [==============================] - 0s 746us/step\n",
      "72/72 [==============================] - 0s 763us/step\n"
     ]
    }
   ],
   "source": [
    "acc_train = []\n",
    "f1_train = []\n",
    "acc_test = []\n",
    "f1_test = []\n",
    "acc_test_ghc = []\n",
    "f1_test_ghc = []\n",
    "acc_test_try = []\n",
    "f1_test_try = []\n",
    "for i in range(n_avg):\n",
    "    hate_model = Sequential([\n",
    "          Flatten(),\n",
    "          Dense(128, activation='relu'),\n",
    "          Dense(128, activation='relu'),\n",
    "          Dense(1, activation='sigmoid')\n",
    "      ])\n",
    "    hate_model.compile(optimizer='adam', loss='binary_crossentropy', metrics=['accuracy'])\n",
    "    hate_model.fit(conc_frenk_train, frenk_label_train, class_weight=frenk_cweights, epochs=5, batch_size=32)\n",
    "    #class_weight=frenk_cweights\n",
    "\n",
    "    probs = hate_model.predict(conc_frenk_train)\n",
    "    preds = (probs >= 0.5).astype(int)\n",
    "    acc_train.append(metrics.accuracy_score(preds,frenk_label_train))\n",
    "    f1_train.append(metrics.f1_score(preds,frenk_label_train,zero_division=1))\n",
    "\n",
    "    probs = hate_model.predict(conc_frenk_test)\n",
    "    preds = (probs >= 0.5).astype(int)\n",
    "    acc_test.append(metrics.accuracy_score(preds,frenk_label_test))\n",
    "    f1_test.append(metrics.f1_score(preds,frenk_label_test,zero_division=1))\n",
    "    \n",
    "    probs = hate_model.predict(conc_ghc_test)\n",
    "    preds = (probs >= 0.5).astype(int)\n",
    "    acc_test_ghc.append(metrics.accuracy_score(preds,ghc_label_test))\n",
    "    f1_test_ghc.append(metrics.f1_score(preds,ghc_label_test,zero_division=1))\n",
    "    \n",
    "    probs = hate_model.predict(conc_try_test)\n",
    "    preds = (probs >= 0.5).astype(int)\n",
    "    acc_test_try.append(metrics.accuracy_score(preds,try_label_test))\n",
    "    f1_test_try.append(metrics.f1_score(preds,try_label_test,zero_division=1))"
   ]
  },
  {
   "cell_type": "code",
   "execution_count": 30,
   "metadata": {},
   "outputs": [
    {
     "name": "stdout",
     "output_type": "stream",
     "text": [
      "Train set:\n",
      "Avg. accuracy: 0.76713469776297\n",
      "Avg. f1 score: 0.729059947390281\n"
     ]
    }
   ],
   "source": [
    "print(\"Train set:\")\n",
    "print(\"Avg. accuracy:\",np.mean(acc_train))\n",
    "print(\"Avg. f1 score:\",np.mean(f1_train))"
   ]
  },
  {
   "cell_type": "code",
   "execution_count": 31,
   "metadata": {},
   "outputs": [
    {
     "name": "stdout",
     "output_type": "stream",
     "text": [
      "FRENK Test set:\n",
      "Avg. accuracy: 0.7440243372446762\n",
      "Avg. f1 score: 0.7111329082883766\n"
     ]
    }
   ],
   "source": [
    "print(\"FRENK Test set:\")\n",
    "print(\"Avg. accuracy:\",np.mean(acc_test))\n",
    "print(\"Avg. f1 score:\",np.mean(f1_test))"
   ]
  },
  {
   "cell_type": "code",
   "execution_count": 32,
   "metadata": {},
   "outputs": [
    {
     "name": "stdout",
     "output_type": "stream",
     "text": [
      "Gab Test set:\n",
      "Avg. accuracy: 0.6001738374619731\n",
      "Avg. f1 score: 0.3437945791726105\n"
     ]
    }
   ],
   "source": [
    "print(\"Gab Test set:\")\n",
    "print(\"Avg. accuracy:\",np.mean(acc_test_ghc))\n",
    "print(\"Avg. f1 score:\",np.mean(f1_test_ghc))"
   ]
  },
  {
   "cell_type": "code",
   "execution_count": 33,
   "metadata": {},
   "outputs": [
    {
     "name": "stdout",
     "output_type": "stream",
     "text": [
      "Twi-Red-You Test set:\n",
      "Avg. accuracy: 0.549760973489787\n",
      "Avg. f1 score: 0.5399644760213145\n"
     ]
    }
   ],
   "source": [
    "print(\"Twi-Red-You Test set:\")\n",
    "print(\"Avg. accuracy:\",np.mean(acc_test_try))\n",
    "print(\"Avg. f1 score:\",np.mean(f1_test_try))"
   ]
  },
  {
   "cell_type": "code",
   "execution_count": 34,
   "metadata": {},
   "outputs": [
    {
     "name": "stdout",
     "output_type": "stream",
     "text": [
      "1/1 [==============================] - 0s 20ms/step\n",
      "Hate prob.: [[0.5601345]]\n",
      "1/1 [==============================] - 0s 19ms/step\n",
      "Hate prob.: [[0.790452]]\n"
     ]
    }
   ],
   "source": [
    "text = [\"We are ALL tired of waiting . . realize something\"]\n",
    "text_aggr = [\"We’ve had ENOUGH of your delays. Get your act together NOW\"]\n",
    "\n",
    "evaluate_text_PEACE(text,hate_model,tokenizer,sent_mod,aggr_mod,gen_mod,batch_size)\n",
    "evaluate_text_PEACE(text_aggr,hate_model,tokenizer,sent_mod,aggr_mod,gen_mod,batch_size)"
   ]
  },
  {
   "cell_type": "markdown",
   "metadata": {},
   "source": [
    "### Training with Gab"
   ]
  },
  {
   "cell_type": "code",
   "execution_count": 35,
   "metadata": {
    "id": "7Za2hnjasM5P"
   },
   "outputs": [
    {
     "name": "stdout",
     "output_type": "stream",
     "text": [
      "Epoch 1/5\n",
      "263/263 [==============================] - 1s 1ms/step - loss: 0.4636 - accuracy: 0.7764\n",
      "Epoch 2/5\n",
      "263/263 [==============================] - 0s 1ms/step - loss: 0.4308 - accuracy: 0.7890\n",
      "Epoch 3/5\n",
      "263/263 [==============================] - 0s 1ms/step - loss: 0.4092 - accuracy: 0.8007\n",
      "Epoch 4/5\n",
      "263/263 [==============================] - 0s 1ms/step - loss: 0.3948 - accuracy: 0.7980\n",
      "Epoch 5/5\n",
      "263/263 [==============================] - 0s 1ms/step - loss: 0.3827 - accuracy: 0.8044\n",
      "263/263 [==============================] - 0s 588us/step\n",
      "72/72 [==============================] - 0s 648us/step\n",
      "72/72 [==============================] - 0s 623us/step\n",
      "72/72 [==============================] - 0s 611us/step\n"
     ]
    }
   ],
   "source": [
    "acc_train = []\n",
    "f1_train = []\n",
    "acc_test = []\n",
    "f1_test = []\n",
    "acc_test_frenk = []\n",
    "f1_test_frenk = []\n",
    "acc_test_try = []\n",
    "f1_test_try = []\n",
    "for i in range(n_avg):\n",
    "    hate_model = Sequential([\n",
    "          Flatten(),\n",
    "          Dense(32, activation='relu'),\n",
    "          Dense(1, activation='sigmoid')\n",
    "      ])\n",
    "    hate_model.compile(optimizer='adam', loss='binary_crossentropy', metrics=['accuracy'])\n",
    "    hate_model.fit(conc_ghc_train, ghc_label_train, class_weight=ghc_cweights, epochs=5, batch_size=32)\n",
    "\n",
    "    probs = hate_model.predict(conc_ghc_train)\n",
    "    preds = (probs >= 0.5).astype(int)\n",
    "    acc_train.append(metrics.accuracy_score(preds,ghc_label_train))\n",
    "    f1_train.append(metrics.f1_score(preds,ghc_label_train,zero_division=1))\n",
    "\n",
    "    probs = hate_model.predict(conc_ghc_test)\n",
    "    preds = (probs >= 0.5).astype(int)\n",
    "    acc_test.append(metrics.accuracy_score(preds,ghc_label_test))\n",
    "    f1_test.append(metrics.f1_score(preds,ghc_label_test,zero_division=1))\n",
    "    \n",
    "    probs = hate_model.predict(conc_frenk_test)\n",
    "    preds = (probs >= 0.5).astype(int)\n",
    "    acc_test_frenk.append(metrics.accuracy_score(preds,frenk_label_test))\n",
    "    f1_test_frenk.append(metrics.f1_score(preds,frenk_label_test,zero_division=1))\n",
    "    \n",
    "    probs = hate_model.predict(conc_try_test)\n",
    "    preds = (probs >= 0.5).astype(int)\n",
    "    acc_test_try.append(metrics.accuracy_score(preds,try_label_test))\n",
    "    f1_test_try.append(metrics.f1_score(preds,try_label_test,zero_division=1))"
   ]
  },
  {
   "cell_type": "code",
   "execution_count": 36,
   "metadata": {},
   "outputs": [
    {
     "name": "stdout",
     "output_type": "stream",
     "text": [
      "Train set:\n",
      "Avg. accuracy: 0.8123512613041409\n",
      "Avg. f1 score: 0.5419692128957304\n"
     ]
    }
   ],
   "source": [
    "print(\"Train set:\")\n",
    "print(\"Avg. accuracy:\",np.mean(acc_train))\n",
    "print(\"Avg. f1 score:\",np.mean(f1_train))"
   ]
  },
  {
   "cell_type": "code",
   "execution_count": 37,
   "metadata": {},
   "outputs": [
    {
     "name": "stdout",
     "output_type": "stream",
     "text": [
      "Gab Test set:\n",
      "Avg. accuracy: 0.7705345501955672\n",
      "Avg. f1 score: 0.4645030425963489\n"
     ]
    }
   ],
   "source": [
    "print(\"Gab Test set:\")\n",
    "print(\"Avg. accuracy:\",np.mean(acc_test))\n",
    "print(\"Avg. f1 score:\",np.mean(f1_test))"
   ]
  },
  {
   "cell_type": "code",
   "execution_count": 38,
   "metadata": {},
   "outputs": [
    {
     "name": "stdout",
     "output_type": "stream",
     "text": [
      "FRENK Test set:\n",
      "Avg. accuracy: 0.732290308561495\n",
      "Avg. f1 score: 0.6414435389988358\n"
     ]
    }
   ],
   "source": [
    "print(\"FRENK Test set:\")\n",
    "print(\"Avg. accuracy:\",np.mean(acc_test_frenk))\n",
    "print(\"Avg. f1 score:\",np.mean(f1_test_frenk))"
   ]
  },
  {
   "cell_type": "code",
   "execution_count": 39,
   "metadata": {},
   "outputs": [
    {
     "name": "stdout",
     "output_type": "stream",
     "text": [
      "Twi-Red-You Test set:\n",
      "Avg. accuracy: 0.5045632333767927\n",
      "Avg. f1 score: 0.5169491525423728\n"
     ]
    }
   ],
   "source": [
    "print(\"Twi-Red-You Test set:\")\n",
    "print(\"Avg. accuracy:\",np.mean(acc_test_try))\n",
    "print(\"Avg. f1 score:\",np.mean(f1_test_try))"
   ]
  },
  {
   "cell_type": "code",
   "execution_count": 40,
   "metadata": {},
   "outputs": [
    {
     "name": "stdout",
     "output_type": "stream",
     "text": [
      "1/1 [==============================] - 0s 16ms/step\n",
      "Hate prob.: [[0.09370035]]\n",
      "1/1 [==============================] - 0s 17ms/step\n",
      "Hate prob.: [[0.27734035]]\n"
     ]
    }
   ],
   "source": [
    "text = [\"We are ALL tired of waiting . . realize something\"]\n",
    "text_aggr = [\"We’ve had ENOUGH of your delays. Get your act together NOW\"]\n",
    "\n",
    "evaluate_text_PEACE(text,hate_model,tokenizer,sent_mod,aggr_mod,gen_mod,batch_size)\n",
    "evaluate_text_PEACE(text_aggr,hate_model,tokenizer,sent_mod,aggr_mod,gen_mod,batch_size)"
   ]
  },
  {
   "cell_type": "markdown",
   "metadata": {},
   "source": [
    "### Training with Twi-Red-You"
   ]
  },
  {
   "cell_type": "code",
   "execution_count": 41,
   "metadata": {
    "id": "7Za2hnjasM5P"
   },
   "outputs": [
    {
     "name": "stdout",
     "output_type": "stream",
     "text": [
      "Epoch 1/5\n",
      "263/263 [==============================] - 1s 2ms/step - loss: 0.4878 - accuracy: 0.7479\n",
      "Epoch 2/5\n",
      "263/263 [==============================] - 1s 2ms/step - loss: 0.4598 - accuracy: 0.7630\n",
      "Epoch 3/5\n",
      "263/263 [==============================] - 1s 2ms/step - loss: 0.4421 - accuracy: 0.7731\n",
      "Epoch 4/5\n",
      "263/263 [==============================] - 2s 7ms/step - loss: 0.4295 - accuracy: 0.7858\n",
      "Epoch 5/5\n",
      "263/263 [==============================] - 1s 2ms/step - loss: 0.4188 - accuracy: 0.7887\n",
      "263/263 [==============================] - 0s 913us/step\n",
      "72/72 [==============================] - 0s 930us/step\n",
      "72/72 [==============================] - 0s 1ms/step\n",
      "72/72 [==============================] - 0s 986us/step\n"
     ]
    }
   ],
   "source": [
    "acc_train = []\n",
    "f1_train = []\n",
    "acc_test = []\n",
    "f1_test = []\n",
    "acc_test_frenk = []\n",
    "f1_test_frenk = []\n",
    "acc_test_ghc = []\n",
    "f1_test_ghc = []\n",
    "for i in range(n_avg):\n",
    "    hate_model = Sequential([\n",
    "          Flatten(),\n",
    "          Dense(128, activation='relu'),\n",
    "          Dense(128, activation='relu'),\n",
    "          Dense(1, activation='sigmoid')\n",
    "      ])\n",
    "    hate_model.compile(optimizer='adam', loss='binary_crossentropy', metrics=['accuracy'])\n",
    "    hate_model.fit(conc_try_train, try_label_train, class_weight=try_cweights, epochs=5, batch_size=32)\n",
    "\n",
    "    probs = hate_model.predict(conc_try_train)\n",
    "    preds = (probs >= 0.5).astype(int)\n",
    "    acc_train.append(metrics.accuracy_score(preds,try_label_train))\n",
    "    f1_train.append(metrics.f1_score(preds,try_label_train,zero_division=1))\n",
    "    \n",
    "    probs = hate_model.predict(conc_try_test)\n",
    "    preds = (probs >= 0.5).astype(int)\n",
    "    acc_test.append(metrics.accuracy_score(preds,try_label_test))\n",
    "    f1_test.append(metrics.f1_score(preds,try_label_test,zero_division=1))\n",
    "\n",
    "    probs = hate_model.predict(conc_frenk_test)\n",
    "    preds = (probs >= 0.5).astype(int)\n",
    "    acc_test_frenk.append(metrics.accuracy_score(preds,frenk_label_test))\n",
    "    f1_test_frenk.append(metrics.f1_score(preds,frenk_label_test,zero_division=1))\n",
    "    \n",
    "    probs = hate_model.predict(conc_ghc_test)\n",
    "    preds = (probs >= 0.5).astype(int)\n",
    "    acc_test_ghc.append(metrics.accuracy_score(preds,ghc_label_test))\n",
    "    f1_test_ghc.append(metrics.f1_score(preds,ghc_label_test,zero_division=1))"
   ]
  },
  {
   "cell_type": "code",
   "execution_count": 42,
   "metadata": {},
   "outputs": [
    {
     "name": "stdout",
     "output_type": "stream",
     "text": [
      "Train set:\n",
      "Avg. accuracy: 0.8281770585435507\n",
      "Avg. f1 score: 0.7067424857839155\n"
     ]
    }
   ],
   "source": [
    "print(\"Train set:\")\n",
    "print(\"Avg. accuracy:\",np.mean(acc_train))\n",
    "print(\"Avg. f1 score:\",np.mean(f1_train))"
   ]
  },
  {
   "cell_type": "code",
   "execution_count": 43,
   "metadata": {},
   "outputs": [
    {
     "name": "stdout",
     "output_type": "stream",
     "text": [
      "Twi-Red-You Test set:\n",
      "Avg. accuracy: 0.7879182963928727\n",
      "Avg. f1 score: 0.6509298998569384\n"
     ]
    }
   ],
   "source": [
    "print(\"Twi-Red-You Test set:\")\n",
    "print(\"Avg. accuracy:\",np.mean(acc_test))\n",
    "print(\"Avg. f1 score:\",np.mean(f1_test))"
   ]
  },
  {
   "cell_type": "code",
   "execution_count": 44,
   "metadata": {},
   "outputs": [
    {
     "name": "stdout",
     "output_type": "stream",
     "text": [
      "FRENK Test set:\n",
      "Avg. accuracy: 0.6649282920469362\n",
      "Avg. f1 score: 0.2867715078630897\n"
     ]
    }
   ],
   "source": [
    "print(\"FRENK Test set:\")\n",
    "print(\"Avg. accuracy:\",np.mean(acc_test_frenk))\n",
    "print(\"Avg. f1 score:\",np.mean(f1_test_frenk))"
   ]
  },
  {
   "cell_type": "code",
   "execution_count": 45,
   "metadata": {},
   "outputs": [
    {
     "name": "stdout",
     "output_type": "stream",
     "text": [
      "Gab Test set:\n",
      "Avg. accuracy: 0.8400695349847892\n",
      "Avg. f1 score: 0.2698412698412698\n"
     ]
    }
   ],
   "source": [
    "print(\"Gab Test set:\")\n",
    "print(\"Avg. accuracy:\",np.mean(acc_test_ghc))\n",
    "print(\"Avg. f1 score:\",np.mean(f1_test_ghc))"
   ]
  },
  {
   "cell_type": "code",
   "execution_count": 46,
   "metadata": {},
   "outputs": [
    {
     "name": "stdout",
     "output_type": "stream",
     "text": [
      "1/1 [==============================] - 0s 15ms/step\n",
      "Hate prob.: [[0.18634619]]\n",
      "1/1 [==============================] - 0s 15ms/step\n",
      "Hate prob.: [[0.32117924]]\n"
     ]
    }
   ],
   "source": [
    "text = [\"We are ALL tired of waiting . . realize something\"]\n",
    "text_aggr = [\"We’ve had ENOUGH of your delays. Get your act together NOW\"]\n",
    "\n",
    "evaluate_text_PEACE(text,hate_model,tokenizer,sent_mod,aggr_mod,gen_mod,batch_size)\n",
    "evaluate_text_PEACE(text_aggr,hate_model,tokenizer,sent_mod,aggr_mod,gen_mod,batch_size)"
   ]
  },
  {
   "cell_type": "markdown",
   "metadata": {
    "tags": []
   },
   "source": [
    "## Hate prediction with the general model"
   ]
  },
  {
   "cell_type": "code",
   "execution_count": 47,
   "metadata": {},
   "outputs": [],
   "source": [
    "##Counterfactual evaluation\n",
    "def evaluate_text_gen(text,model,tokenizer,sent_mod,aggr_mod,gen_mod,batch_size):\n",
    "    _,_,out_gen = Compute_Embeddings(tokenizer,sent_mod,aggr_mod,gen_mod,text,batch_size)\n",
    "    prob = model.predict(out_gen)\n",
    "    print(\"Hate prob.:\",prob)"
   ]
  },
  {
   "cell_type": "markdown",
   "metadata": {},
   "source": [
    "### Training with FRENK"
   ]
  },
  {
   "cell_type": "code",
   "execution_count": 48,
   "metadata": {
    "id": "7Za2hnjasM5P"
   },
   "outputs": [
    {
     "name": "stdout",
     "output_type": "stream",
     "text": [
      "Epoch 1/5\n",
      "263/263 [==============================] - 1s 1ms/step - loss: 0.5977 - accuracy: 0.6590\n",
      "Epoch 2/5\n",
      "263/263 [==============================] - 0s 1ms/step - loss: 0.5340 - accuracy: 0.7228\n",
      "Epoch 3/5\n",
      "263/263 [==============================] - 0s 1ms/step - loss: 0.5052 - accuracy: 0.7394\n",
      "Epoch 4/5\n",
      "263/263 [==============================] - 0s 1ms/step - loss: 0.4889 - accuracy: 0.7448\n",
      "Epoch 5/5\n",
      "263/263 [==============================] - 0s 1ms/step - loss: 0.4657 - accuracy: 0.7611\n",
      "263/263 [==============================] - 0s 622us/step\n",
      "72/72 [==============================] - 0s 859us/step\n",
      "72/72 [==============================] - 0s 656us/step\n",
      "72/72 [==============================] - 0s 702us/step\n"
     ]
    }
   ],
   "source": [
    "acc_train = []\n",
    "f1_train = []\n",
    "acc_test = []\n",
    "f1_test = []\n",
    "acc_test_ghc = []\n",
    "f1_test_ghc = []\n",
    "acc_test_try = []\n",
    "f1_test_try = []\n",
    "for i in range(n_avg):\n",
    "    hate_model_gen = Sequential([\n",
    "          Flatten(),\n",
    "          Dense(128, activation='relu'),\n",
    "          Dense(128, activation='relu'),\n",
    "          Dense(1, activation='sigmoid')\n",
    "      ])\n",
    "    hate_model_gen.compile(optimizer='adam', loss='binary_crossentropy', metrics=['accuracy'])\n",
    "    hate_model_gen.fit(frenk_gen_train, frenk_label_train, class_weight=frenk_cweights, epochs=5, batch_size=32)\n",
    "\n",
    "    probs = hate_model_gen.predict(frenk_gen_train)\n",
    "    preds = (probs >= 0.5).astype(int)\n",
    "    acc_train.append(metrics.accuracy_score(preds,frenk_label_train))\n",
    "    f1_train.append(metrics.f1_score(preds,frenk_label_train,zero_division=1))\n",
    "\n",
    "    probs = hate_model_gen.predict(frenk_gen_test)\n",
    "    preds = (probs >= 0.5).astype(int)\n",
    "    acc_test.append(metrics.accuracy_score(preds,frenk_label_test))\n",
    "    f1_test.append(metrics.f1_score(preds,frenk_label_test,zero_division=1))\n",
    "    \n",
    "    probs = hate_model_gen.predict(ghc_gen_test)\n",
    "    preds = (probs >= 0.5).astype(int)\n",
    "    acc_test_ghc.append(metrics.accuracy_score(preds,ghc_label_test))\n",
    "    f1_test_ghc.append(metrics.f1_score(preds,ghc_label_test,zero_division=1))\n",
    "    \n",
    "    probs = hate_model_gen.predict(try_gen_test)\n",
    "    preds = (probs >= 0.5).astype(int)\n",
    "    acc_test_try.append(metrics.accuracy_score(preds,try_label_test))\n",
    "    f1_test_try.append(metrics.f1_score(preds,try_label_test,zero_division=1))"
   ]
  },
  {
   "cell_type": "code",
   "execution_count": 49,
   "metadata": {},
   "outputs": [
    {
     "name": "stdout",
     "output_type": "stream",
     "text": [
      "Train set:\n",
      "Avg. accuracy: 0.7696335078534031\n",
      "Avg. f1 score: 0.7323748963229195\n"
     ]
    }
   ],
   "source": [
    "print(\"Train set:\")\n",
    "print(\"Avg. accuracy:\",np.mean(acc_train))\n",
    "print(\"Avg. f1 score:\",np.mean(f1_train))"
   ]
  },
  {
   "cell_type": "code",
   "execution_count": 50,
   "metadata": {},
   "outputs": [
    {
     "name": "stdout",
     "output_type": "stream",
     "text": [
      "FRENK Test set:\n",
      "Avg. accuracy: 0.7183833116036505\n",
      "Avg. f1 score: 0.6845180136319376\n"
     ]
    }
   ],
   "source": [
    "print(\"FRENK Test set:\")\n",
    "print(\"Avg. accuracy:\",np.mean(acc_test))\n",
    "print(\"Avg. f1 score:\",np.mean(f1_test))"
   ]
  },
  {
   "cell_type": "code",
   "execution_count": 51,
   "metadata": {},
   "outputs": [
    {
     "name": "stdout",
     "output_type": "stream",
     "text": [
      "Gab Test set:\n",
      "Avg. accuracy: 0.5371577574967406\n",
      "Avg. f1 score: 0.315112540192926\n"
     ]
    }
   ],
   "source": [
    "print(\"Gab Test set:\")\n",
    "print(\"Avg. accuracy:\",np.mean(acc_test_ghc))\n",
    "print(\"Avg. f1 score:\",np.mean(f1_test_ghc))"
   ]
  },
  {
   "cell_type": "code",
   "execution_count": 52,
   "metadata": {},
   "outputs": [
    {
     "name": "stdout",
     "output_type": "stream",
     "text": [
      "Twi-Red-You Test set:\n",
      "Avg. accuracy: 0.5284658843980878\n",
      "Avg. f1 score: 0.521393912659903\n"
     ]
    }
   ],
   "source": [
    "print(\"Twi-Red-You Test set:\")\n",
    "print(\"Avg. accuracy:\",np.mean(acc_test_try))\n",
    "print(\"Avg. f1 score:\",np.mean(f1_test_try))"
   ]
  },
  {
   "cell_type": "code",
   "execution_count": 53,
   "metadata": {},
   "outputs": [
    {
     "name": "stdout",
     "output_type": "stream",
     "text": [
      "1/1 [==============================] - 0s 15ms/step\n",
      "Hate prob.: [[0.44473627]]\n",
      "1/1 [==============================] - 0s 16ms/step\n",
      "Hate prob.: [[0.80106705]]\n"
     ]
    }
   ],
   "source": [
    "text = [\"We are ALL tired of waiting . . realize something\"]\n",
    "text_aggr = [\"We’ve had ENOUGH of your delays. Get your act together NOW\"]\n",
    "\n",
    "evaluate_text_gen(text,hate_model_gen,tokenizer,sent_mod,aggr_mod,gen_mod,batch_size)\n",
    "evaluate_text_gen(text_aggr,hate_model_gen,tokenizer,sent_mod,aggr_mod,gen_mod,batch_size)"
   ]
  },
  {
   "cell_type": "markdown",
   "metadata": {},
   "source": [
    "### Training with Gab"
   ]
  },
  {
   "cell_type": "code",
   "execution_count": 54,
   "metadata": {
    "id": "7Za2hnjasM5P"
   },
   "outputs": [
    {
     "name": "stdout",
     "output_type": "stream",
     "text": [
      "Epoch 1/5\n",
      "263/263 [==============================] - 1s 942us/step - loss: 0.5781 - accuracy: 0.7045\n",
      "Epoch 2/5\n",
      "263/263 [==============================] - 0s 915us/step - loss: 0.4828 - accuracy: 0.7692\n",
      "Epoch 3/5\n",
      "263/263 [==============================] - 0s 916us/step - loss: 0.4576 - accuracy: 0.7809\n",
      "Epoch 4/5\n",
      "263/263 [==============================] - 0s 935us/step - loss: 0.4458 - accuracy: 0.7901\n",
      "Epoch 5/5\n",
      "263/263 [==============================] - 0s 920us/step - loss: 0.4322 - accuracy: 0.7920\n",
      "263/263 [==============================] - 0s 557us/step\n",
      "72/72 [==============================] - 0s 625us/step\n",
      "72/72 [==============================] - 0s 593us/step\n",
      "72/72 [==============================] - 0s 600us/step\n"
     ]
    }
   ],
   "source": [
    "acc_train = []\n",
    "f1_train = []\n",
    "acc_test = []\n",
    "f1_test = []\n",
    "acc_test_frenk = []\n",
    "f1_test_frenk = []\n",
    "acc_test_try = []\n",
    "f1_test_try = []\n",
    "for i in range(n_avg):\n",
    "    hate_model_gen = Sequential([\n",
    "          Flatten(),\n",
    "          Dense(32, activation='relu'),\n",
    "          Dense(1, activation='sigmoid')\n",
    "      ])\n",
    "    hate_model_gen.compile(optimizer='adam', loss='binary_crossentropy', metrics=['accuracy'])\n",
    "    hate_model_gen.fit(ghc_gen_train, ghc_label_train, class_weight=ghc_cweights, epochs=5, batch_size=32)\n",
    "\n",
    "    probs = hate_model_gen.predict(ghc_gen_train)\n",
    "    preds = (probs >= 0.5).astype(int)\n",
    "    acc_train.append(metrics.accuracy_score(preds,ghc_label_train))\n",
    "    f1_train.append(metrics.f1_score(preds,ghc_label_train,zero_division=1))\n",
    "\n",
    "    probs = hate_model_gen.predict(ghc_gen_test)\n",
    "    preds = (probs >= 0.5).astype(int)\n",
    "    acc_test.append(metrics.accuracy_score(preds,ghc_label_test))\n",
    "    f1_test.append(metrics.f1_score(preds,ghc_label_test,zero_division=1))\n",
    "    \n",
    "    probs = hate_model_gen.predict(frenk_gen_test)\n",
    "    preds = (probs >= 0.5).astype(int)\n",
    "    acc_test_frenk.append(metrics.accuracy_score(preds,frenk_label_test))\n",
    "    f1_test_frenk.append(metrics.f1_score(preds,frenk_label_test,zero_division=1))\n",
    "    \n",
    "    probs = hate_model_gen.predict(try_gen_test)\n",
    "    preds = (probs >= 0.5).astype(int)\n",
    "    acc_test_try.append(metrics.accuracy_score(preds,try_label_test))\n",
    "    f1_test_try.append(metrics.f1_score(preds,try_label_test,zero_division=1))"
   ]
  },
  {
   "cell_type": "code",
   "execution_count": 55,
   "metadata": {},
   "outputs": [
    {
     "name": "stdout",
     "output_type": "stream",
     "text": [
      "Train set:\n",
      "Avg. accuracy: 0.75571156592099\n",
      "Avg. f1 score: 0.4811726055092242\n"
     ]
    }
   ],
   "source": [
    "print(\"Train set:\")\n",
    "print(\"Avg. accuracy:\",np.mean(acc_train))\n",
    "print(\"Avg. f1 score:\",np.mean(f1_train))"
   ]
  },
  {
   "cell_type": "code",
   "execution_count": 56,
   "metadata": {},
   "outputs": [
    {
     "name": "stdout",
     "output_type": "stream",
     "text": [
      "Gab Test set:\n",
      "Avg. accuracy: 0.7166449369839201\n",
      "Avg. f1 score: 0.4330434782608696\n"
     ]
    }
   ],
   "source": [
    "print(\"Gab Test set:\")\n",
    "print(\"Avg. accuracy:\",np.mean(acc_test))\n",
    "print(\"Avg. f1 score:\",np.mean(f1_test))"
   ]
  },
  {
   "cell_type": "code",
   "execution_count": 57,
   "metadata": {},
   "outputs": [
    {
     "name": "stdout",
     "output_type": "stream",
     "text": [
      "FRENK Test set:\n",
      "Avg. accuracy: 0.6923076923076923\n",
      "Avg. f1 score: 0.651231527093596\n"
     ]
    }
   ],
   "source": [
    "print(\"FRENK Test set:\")\n",
    "print(\"Avg. accuracy:\",np.mean(acc_test_frenk))\n",
    "print(\"Avg. f1 score:\",np.mean(f1_test_frenk))"
   ]
  },
  {
   "cell_type": "code",
   "execution_count": 58,
   "metadata": {},
   "outputs": [
    {
     "name": "stdout",
     "output_type": "stream",
     "text": [
      "Twi-Red-You Test set:\n",
      "Avg. accuracy: 0.44111255975662755\n",
      "Avg. f1 score: 0.48353413654618477\n"
     ]
    }
   ],
   "source": [
    "print(\"Twi-Red-You Test set:\")\n",
    "print(\"Avg. accuracy:\",np.mean(acc_test_try))\n",
    "print(\"Avg. f1 score:\",np.mean(f1_test_try))"
   ]
  },
  {
   "cell_type": "code",
   "execution_count": 59,
   "metadata": {},
   "outputs": [
    {
     "name": "stdout",
     "output_type": "stream",
     "text": [
      "1/1 [==============================] - 0s 14ms/step\n",
      "Hate prob.: [[0.11206387]]\n",
      "1/1 [==============================] - 0s 14ms/step\n",
      "Hate prob.: [[0.7511092]]\n"
     ]
    }
   ],
   "source": [
    "text = [\"We are ALL tired of waiting . . realize something\"]\n",
    "text_aggr = [\"We’ve had ENOUGH of your delays. Get your act together NOW\"]\n",
    "\n",
    "evaluate_text_gen(text,hate_model_gen,tokenizer,sent_mod,aggr_mod,gen_mod,batch_size)\n",
    "evaluate_text_gen(text_aggr,hate_model_gen,tokenizer,sent_mod,aggr_mod,gen_mod,batch_size)"
   ]
  },
  {
   "cell_type": "markdown",
   "metadata": {},
   "source": [
    "### Training with Twi-Red-You"
   ]
  },
  {
   "cell_type": "code",
   "execution_count": 60,
   "metadata": {
    "id": "7Za2hnjasM5P"
   },
   "outputs": [
    {
     "name": "stdout",
     "output_type": "stream",
     "text": [
      "Epoch 1/5\n",
      "263/263 [==============================] - 1s 2ms/step - loss: 0.5421 - accuracy: 0.7010\n",
      "Epoch 2/5\n",
      "263/263 [==============================] - 0s 2ms/step - loss: 0.4820 - accuracy: 0.7456\n",
      "Epoch 3/5\n",
      "263/263 [==============================] - 0s 2ms/step - loss: 0.4692 - accuracy: 0.7523\n",
      "Epoch 4/5\n",
      "263/263 [==============================] - 0s 2ms/step - loss: 0.4513 - accuracy: 0.7555\n",
      "Epoch 5/5\n",
      "263/263 [==============================] - 0s 2ms/step - loss: 0.4388 - accuracy: 0.7663\n",
      "263/263 [==============================] - 0s 648us/step\n",
      "72/72 [==============================] - 0s 662us/step\n",
      "72/72 [==============================] - 0s 662us/step\n",
      "72/72 [==============================] - 0s 698us/step\n"
     ]
    }
   ],
   "source": [
    "acc_train = []\n",
    "f1_train = []\n",
    "acc_test = []\n",
    "f1_test = []\n",
    "acc_test_frenk = []\n",
    "f1_test_frenk = []\n",
    "acc_test_ghc = []\n",
    "f1_test_ghc = []\n",
    "for i in range(n_avg):\n",
    "    hate_model_gen = Sequential([\n",
    "          Flatten(),\n",
    "          Dense(128, activation='relu'),\n",
    "          Dense(128, activation='relu'),\n",
    "          Dense(1, activation='sigmoid')\n",
    "      ])\n",
    "    hate_model_gen.compile(optimizer='adam', loss='binary_crossentropy', metrics=['accuracy'])\n",
    "    hate_model_gen.fit(try_gen_train, try_label_train, class_weight=try_cweights, epochs=5, batch_size=32)\n",
    "\n",
    "    probs = hate_model_gen.predict(try_gen_train)\n",
    "    preds = (probs >= 0.5).astype(int)\n",
    "    acc_train.append(metrics.accuracy_score(preds,try_label_train))\n",
    "    f1_train.append(metrics.f1_score(preds,try_label_train,zero_division=1))\n",
    "    \n",
    "    probs = hate_model_gen.predict(try_gen_test)\n",
    "    preds = (probs >= 0.5).astype(int)\n",
    "    acc_test.append(metrics.accuracy_score(preds,try_label_test))\n",
    "    f1_test.append(metrics.f1_score(preds,try_label_test,zero_division=1))\n",
    "    \n",
    "    probs = hate_model_gen.predict(frenk_gen_test)\n",
    "    preds = (probs >= 0.5).astype(int)\n",
    "    acc_test_frenk.append(metrics.accuracy_score(preds,frenk_label_test))\n",
    "    f1_test_frenk.append(metrics.f1_score(preds,frenk_label_test,zero_division=1))\n",
    "\n",
    "    probs = hate_model_gen.predict(ghc_gen_test)\n",
    "    preds = (probs >= 0.5).astype(int)\n",
    "    acc_test_ghc.append(metrics.accuracy_score(preds,ghc_label_test))\n",
    "    f1_test_ghc.append(metrics.f1_score(preds,ghc_label_test,zero_division=1))"
   ]
  },
  {
   "cell_type": "code",
   "execution_count": 61,
   "metadata": {},
   "outputs": [
    {
     "name": "stdout",
     "output_type": "stream",
     "text": [
      "Train set:\n",
      "Avg. accuracy: 0.7707044264635887\n",
      "Avg. f1 score: 0.669751499571551\n"
     ]
    }
   ],
   "source": [
    "print(\"Train set:\")\n",
    "print(\"Avg. accuracy:\",np.mean(acc_train))\n",
    "print(\"Avg. f1 score:\",np.mean(f1_train))"
   ]
  },
  {
   "cell_type": "code",
   "execution_count": 62,
   "metadata": {},
   "outputs": [
    {
     "name": "stdout",
     "output_type": "stream",
     "text": [
      "Twi-Red-You Test set:\n",
      "Avg. accuracy: 0.7444589308996089\n",
      "Avg. f1 score: 0.6343283582089553\n"
     ]
    }
   ],
   "source": [
    "print(\"Twi-Red-You Test set:\")\n",
    "print(\"Avg. accuracy:\",np.mean(acc_test))\n",
    "print(\"Avg. f1 score:\",np.mean(f1_test))"
   ]
  },
  {
   "cell_type": "code",
   "execution_count": 63,
   "metadata": {},
   "outputs": [
    {
     "name": "stdout",
     "output_type": "stream",
     "text": [
      "FRENK Test set:\n",
      "Avg. accuracy: 0.6740547588005215\n",
      "Avg. f1 score: 0.4501466275659824\n"
     ]
    }
   ],
   "source": [
    "print(\"FRENK Test set:\")\n",
    "print(\"Avg. accuracy:\",np.mean(acc_test_frenk))\n",
    "print(\"Avg. f1 score:\",np.mean(f1_test_frenk))"
   ]
  },
  {
   "cell_type": "code",
   "execution_count": 64,
   "metadata": {},
   "outputs": [
    {
     "name": "stdout",
     "output_type": "stream",
     "text": [
      "Gab Test set:\n",
      "Avg. accuracy: 0.7883528900478053\n",
      "Avg. f1 score: 0.3427800269905533\n"
     ]
    }
   ],
   "source": [
    "print(\"Gab Test set:\")\n",
    "print(\"Avg. accuracy:\",np.mean(acc_test_ghc))\n",
    "print(\"Avg. f1 score:\",np.mean(f1_test_ghc))"
   ]
  },
  {
   "cell_type": "code",
   "execution_count": 65,
   "metadata": {},
   "outputs": [
    {
     "name": "stdout",
     "output_type": "stream",
     "text": [
      "1/1 [==============================] - 0s 15ms/step\n",
      "Hate prob.: [[0.31169623]]\n",
      "1/1 [==============================] - 0s 15ms/step\n",
      "Hate prob.: [[0.66351634]]\n"
     ]
    }
   ],
   "source": [
    "text = [\"We are ALL tired of waiting . . realize something\"]\n",
    "text_aggr = [\"We’ve had ENOUGH of your delays. Get your act together NOW\"]\n",
    "\n",
    "evaluate_text_gen(text,hate_model_gen,tokenizer,sent_mod,aggr_mod,gen_mod,batch_size)\n",
    "evaluate_text_gen(text_aggr,hate_model_gen,tokenizer,sent_mod,aggr_mod,gen_mod,batch_size)"
   ]
  },
  {
   "cell_type": "markdown",
   "metadata": {},
   "source": [
    "## HateBERT"
   ]
  },
  {
   "cell_type": "code",
   "execution_count": 66,
   "metadata": {},
   "outputs": [],
   "source": [
    "model_dir = \"HateBERT_hateval\"\n",
    "HateBERT = BertModel.from_pretrained(\n",
    "    model_dir # Use pre-trained model from its directory, change this to use a pre-trained model from bert\n",
    ")\n",
    "HateBERT.eval()\n",
    "HateBERT_tok = BertTokenizer.from_pretrained(model_dir)"
   ]
  },
  {
   "cell_type": "code",
   "execution_count": 71,
   "metadata": {},
   "outputs": [],
   "source": [
    "def Comp_Embed_HateBERT(tokenizer,mod,texts,batch_size):\n",
    "  # Split texts into batches\n",
    "  batches = [texts[i:i + batch_size] for i in range(0, len(texts), batch_size)]\n",
    "  batch_out = []\n",
    "\n",
    "  with torch.no_grad():\n",
    "      for batch in batches:\n",
    "          encoded_inputs = tokenizer(batch,padding=True,return_tensors='pt')       \n",
    "          # Compute the output of the module as a numpy array.       \n",
    "          emb = mod(**encoded_inputs)[0]\n",
    "          tf_emb = tf.convert_to_tensor(emb.numpy())  \n",
    "          pool = GlobalAveragePooling1D()(tf_emb).numpy()\n",
    "          batch_out.append(pool)\n",
    "\n",
    "          encoded_inputs = None\n",
    "          tf_emb = None\n",
    "          gc.collect() \n",
    "    \n",
    "  outs = np.concatenate(batch_out,axis=0)\n",
    "  return outs"
   ]
  },
  {
   "cell_type": "markdown",
   "metadata": {},
   "source": [
    "## Compute HateBERT embeddings (If these outputs are already saved you can skip this step)"
   ]
  },
  {
   "cell_type": "markdown",
   "metadata": {},
   "source": [
    "### FRENK dataset"
   ]
  },
  {
   "cell_type": "code",
   "execution_count": 22,
   "metadata": {},
   "outputs": [
    {
     "name": "stderr",
     "output_type": "stream",
     "text": [
      "\n",
      "KeyboardInterrupt\n",
      "\n"
     ]
    }
   ],
   "source": [
    "###Train set\n",
    "batch_size = 32\n",
    "\n",
    "t = time()\n",
    "outs_train = Comp_Embed_HateBERT(HateBERT_tok,HateBERT,frenk_train,batch_size)\n",
    "print(\"Elapsed time:\",time()-t)\n",
    "print(outs_train.shape)\n",
    "\n",
    "np.save('outs/frenk/HateBERT_train_emb.npy',outs_train)"
   ]
  },
  {
   "cell_type": "code",
   "execution_count": null,
   "metadata": {},
   "outputs": [],
   "source": [
    "###Test set\n",
    "t = time()\n",
    "outs_test = Comp_Embed_HateBERT(HateBERT_tok,HateBERT,frenk_test,batch_size)\n",
    "print(\"Elapsed time:\",time()-t)\n",
    "print(outs_test.shape)\n",
    "\n",
    "np.save('outs/frenk/HateBERT_test_emb.npy',outs_test)"
   ]
  },
  {
   "cell_type": "markdown",
   "metadata": {},
   "source": [
    "### Gab dataset"
   ]
  },
  {
   "cell_type": "code",
   "execution_count": null,
   "metadata": {},
   "outputs": [],
   "source": [
    "###Train set\n",
    "batch_size = 32\n",
    "\n",
    "t = time()\n",
    "outs_train = Comp_Embed_HateBERT(HateBERT_tok,HateBERT,ghc_train,batch_size)\n",
    "print(\"Elapsed time:\",time()-t)\n",
    "print(outs_train.shape)\n",
    "\n",
    "np.save('outs/ghc/HateBERT_train_emb.npy',outs_train)"
   ]
  },
  {
   "cell_type": "code",
   "execution_count": null,
   "metadata": {},
   "outputs": [],
   "source": [
    "###Test set\n",
    "t = time()\n",
    "outs_test = Comp_Embed_HateBERT(HateBERT_tok,HateBERT,ghc_test,batch_size)\n",
    "print(\"Elapsed time:\",time()-t)\n",
    "print(outs_test.shape)\n",
    "\n",
    "np.save('outs/ghc/HateBERT_test_emb.npy',outs_test)"
   ]
  },
  {
   "cell_type": "markdown",
   "metadata": {},
   "source": [
    "### Twi-Red-You dataset"
   ]
  },
  {
   "cell_type": "code",
   "execution_count": null,
   "metadata": {},
   "outputs": [],
   "source": [
    "###Train set\n",
    "batch_size = 32\n",
    "\n",
    "t = time()\n",
    "outs_train = Comp_Embed_HateBERT(HateBERT_tok,HateBERT,try_train,batch_size)\n",
    "print(\"Elapsed time:\",time()-t)\n",
    "print(outs_train.shape)\n",
    "\n",
    "np.save('outs/try/HateBERT_train_emb.npy',outs_train)"
   ]
  },
  {
   "cell_type": "code",
   "execution_count": null,
   "metadata": {},
   "outputs": [],
   "source": [
    "###Test set\n",
    "t = time()\n",
    "outs_test = Comp_Embed_HateBERT(HateBERT_tok,HateBERT,try_test,batch_size)\n",
    "print(\"Elapsed time:\",time()-t)\n",
    "print(outs_test.shape)\n",
    "\n",
    "np.save('outs/try/HateBERT_test_emb.npy',outs_test)"
   ]
  },
  {
   "cell_type": "markdown",
   "metadata": {},
   "source": [
    "## Hate prediction with HateBERT"
   ]
  },
  {
   "cell_type": "code",
   "execution_count": 72,
   "metadata": {},
   "outputs": [],
   "source": [
    "frenk_train_emb = np.load('outs/frenk/HateBERT_train_emb.npy')\n",
    "frenk_test_emb = np.load('outs/frenk/HateBERT_test_emb.npy')"
   ]
  },
  {
   "cell_type": "code",
   "execution_count": 73,
   "metadata": {},
   "outputs": [],
   "source": [
    "ghc_train_emb = np.load('outs/ghc/HateBERT_train_emb.npy')\n",
    "ghc_test_emb = np.load('outs/ghc/HateBERT_test_emb.npy')"
   ]
  },
  {
   "cell_type": "code",
   "execution_count": 74,
   "metadata": {},
   "outputs": [],
   "source": [
    "ghc_train_emb = ghc_train_emb[:8404]\n",
    "ghc_test_emb = ghc_test_emb[:2301]"
   ]
  },
  {
   "cell_type": "code",
   "execution_count": 75,
   "metadata": {},
   "outputs": [],
   "source": [
    "try_train_emb = np.load('outs/try/HateBERT_train_emb.npy')\n",
    "try_test_emb = np.load('outs/try/HateBERT_test_emb.npy')"
   ]
  },
  {
   "cell_type": "code",
   "execution_count": 76,
   "metadata": {},
   "outputs": [],
   "source": [
    "##Counterfactual evaluation\n",
    "def evaluate_text_HateBERT(text,model,tokenizer,HateBERT,batch_size):\n",
    "    out = Comp_Embed_HateBERT(tokenizer,HateBERT,text,batch_size)\n",
    "    prob = model.predict(out)\n",
    "    print(\"Hate prob.:\",prob)"
   ]
  },
  {
   "cell_type": "markdown",
   "metadata": {},
   "source": [
    "### Training with FRENK"
   ]
  },
  {
   "cell_type": "code",
   "execution_count": 78,
   "metadata": {},
   "outputs": [],
   "source": [
    "n_avg = 1"
   ]
  },
  {
   "cell_type": "code",
   "execution_count": 79,
   "metadata": {
    "id": "7Za2hnjasM5P"
   },
   "outputs": [
    {
     "name": "stdout",
     "output_type": "stream",
     "text": [
      "Epoch 1/5\n",
      "263/263 [==============================] - 1s 1ms/step - loss: 0.6063 - accuracy: 0.6671\n",
      "Epoch 2/5\n",
      "263/263 [==============================] - 0s 1ms/step - loss: 0.5633 - accuracy: 0.7003\n",
      "Epoch 3/5\n",
      "263/263 [==============================] - 0s 1ms/step - loss: 0.5626 - accuracy: 0.7035\n",
      "Epoch 4/5\n",
      "263/263 [==============================] - 0s 1ms/step - loss: 0.5430 - accuracy: 0.7150\n",
      "Epoch 5/5\n",
      "263/263 [==============================] - 0s 1ms/step - loss: 0.5342 - accuracy: 0.7160\n",
      "263/263 [==============================] - 0s 678us/step\n",
      "72/72 [==============================] - 0s 729us/step\n",
      "72/72 [==============================] - 0s 662us/step\n",
      "72/72 [==============================] - 0s 676us/step\n"
     ]
    }
   ],
   "source": [
    "acc_train = []\n",
    "f1_train = []\n",
    "acc_test = []\n",
    "f1_test = []\n",
    "acc_test_ghc = []\n",
    "f1_test_ghc = []\n",
    "acc_test_try = []\n",
    "f1_test_try = []\n",
    "for i in range(n_avg):\n",
    "    classifier_HateBERT = Sequential([\n",
    "          Flatten(),\n",
    "          Dense(128, activation='relu'),\n",
    "          Dense(128, activation='relu'),\n",
    "          Dense(1, activation='sigmoid')\n",
    "      ])\n",
    "    classifier_HateBERT.compile(optimizer='adam', loss='binary_crossentropy', metrics=['accuracy'])\n",
    "    classifier_HateBERT.fit(frenk_train_emb, frenk_label_train, class_weight=frenk_cweights, epochs=5, batch_size=32)\n",
    "\n",
    "    probs = classifier_HateBERT.predict(frenk_train_emb)\n",
    "    preds = (probs >= 0.5).astype(int)\n",
    "    acc_train.append(metrics.accuracy_score(preds,frenk_label_train))\n",
    "    f1_train.append(metrics.f1_score(preds,frenk_label_train,zero_division=1))\n",
    "\n",
    "    probs = classifier_HateBERT.predict(frenk_test_emb)\n",
    "    preds = (probs >= 0.5).astype(int)\n",
    "    acc_test.append(metrics.accuracy_score(preds,frenk_label_test))\n",
    "    f1_test.append(metrics.f1_score(preds,frenk_label_test,zero_division=1))\n",
    "    \n",
    "    probs = classifier_HateBERT.predict(ghc_test_emb)\n",
    "    preds = (probs >= 0.5).astype(int)\n",
    "    acc_test_ghc.append(metrics.accuracy_score(preds,ghc_label_test))\n",
    "    f1_test_ghc.append(metrics.f1_score(preds,ghc_label_test,zero_division=1))\n",
    "    \n",
    "    probs = classifier_HateBERT.predict(try_test_emb)\n",
    "    preds = (probs >= 0.5).astype(int)\n",
    "    acc_test_try.append(metrics.accuracy_score(preds,try_label_test))\n",
    "    f1_test_try.append(metrics.f1_score(preds,try_label_test,zero_division=1))"
   ]
  },
  {
   "cell_type": "code",
   "execution_count": 80,
   "metadata": {},
   "outputs": [
    {
     "name": "stdout",
     "output_type": "stream",
     "text": [
      "Train set:\n",
      "Avg. accuracy: 0.6964540694907188\n",
      "Avg. f1 score: 0.6665795320873088\n"
     ]
    }
   ],
   "source": [
    "print(\"Train set:\")\n",
    "print(\"Avg. accuracy:\",np.mean(acc_train))\n",
    "print(\"Avg. f1 score:\",np.mean(f1_train))"
   ]
  },
  {
   "cell_type": "code",
   "execution_count": 81,
   "metadata": {},
   "outputs": [
    {
     "name": "stdout",
     "output_type": "stream",
     "text": [
      "FRENK Test set:\n",
      "Avg. accuracy: 0.7122990004345937\n",
      "Avg. f1 score: 0.684461391801716\n"
     ]
    }
   ],
   "source": [
    "print(\"FRENK Test set:\")\n",
    "print(\"Avg. accuracy:\",np.mean(acc_test))\n",
    "print(\"Avg. f1 score:\",np.mean(f1_test))"
   ]
  },
  {
   "cell_type": "code",
   "execution_count": 82,
   "metadata": {},
   "outputs": [
    {
     "name": "stdout",
     "output_type": "stream",
     "text": [
      "Gab Test set:\n",
      "Avg. accuracy: 0.570186875271621\n",
      "Avg. f1 score: 0.335795836131632\n"
     ]
    }
   ],
   "source": [
    "print(\"Gab Test set:\")\n",
    "print(\"Avg. accuracy:\",np.mean(acc_test_ghc))\n",
    "print(\"Avg. f1 score:\",np.mean(f1_test_ghc))"
   ]
  },
  {
   "cell_type": "code",
   "execution_count": 83,
   "metadata": {},
   "outputs": [
    {
     "name": "stdout",
     "output_type": "stream",
     "text": [
      "Twi-Red-You Test set:\n",
      "Avg. accuracy: 0.41460234680573665\n",
      "Avg. f1 score: 0.45751107531212243\n"
     ]
    }
   ],
   "source": [
    "print(\"Twi-Red-You Test set:\")\n",
    "print(\"Avg. accuracy:\",np.mean(acc_test_try))\n",
    "print(\"Avg. f1 score:\",np.mean(f1_test_try))"
   ]
  },
  {
   "cell_type": "code",
   "execution_count": 84,
   "metadata": {},
   "outputs": [
    {
     "name": "stdout",
     "output_type": "stream",
     "text": [
      "1/1 [==============================] - 0s 15ms/step\n",
      "Hate prob.: [[0.745916]]\n",
      "1/1 [==============================] - 0s 15ms/step\n",
      "Hate prob.: [[0.5392209]]\n"
     ]
    }
   ],
   "source": [
    "text = [\"We are ALL tired of waiting . . realize something\"]\n",
    "text_aggr = [\"We’ve had ENOUGH of your delays. Get your act together NOW\"]\n",
    "\n",
    "evaluate_text_HateBERT(text,classifier_HateBERT,HateBERT_tok,HateBERT,batch_size)\n",
    "evaluate_text_HateBERT(text_aggr,classifier_HateBERT,HateBERT_tok,HateBERT,batch_size)"
   ]
  },
  {
   "cell_type": "markdown",
   "metadata": {},
   "source": [
    "### Training with Gab"
   ]
  },
  {
   "cell_type": "code",
   "execution_count": 85,
   "metadata": {
    "id": "7Za2hnjasM5P"
   },
   "outputs": [
    {
     "name": "stdout",
     "output_type": "stream",
     "text": [
      "Epoch 1/5\n",
      "263/263 [==============================] - 1s 913us/step - loss: 0.5768 - accuracy: 0.7043\n",
      "Epoch 2/5\n",
      "263/263 [==============================] - 0s 1ms/step - loss: 0.5317 - accuracy: 0.7339\n",
      "Epoch 3/5\n",
      "263/263 [==============================] - 0s 1ms/step - loss: 0.5212 - accuracy: 0.7519\n",
      "Epoch 4/5\n",
      "263/263 [==============================] - 0s 1ms/step - loss: 0.5113 - accuracy: 0.7506\n",
      "Epoch 5/5\n",
      "263/263 [==============================] - 0s 1ms/step - loss: 0.5046 - accuracy: 0.7621\n",
      "263/263 [==============================] - 0s 752us/step\n",
      "72/72 [==============================] - 0s 761us/step\n",
      "72/72 [==============================] - 0s 690us/step\n",
      "72/72 [==============================] - 0s 692us/step\n"
     ]
    }
   ],
   "source": [
    "acc_train = []\n",
    "f1_train = []\n",
    "acc_test = []\n",
    "f1_test = []\n",
    "acc_test_frenk = []\n",
    "f1_test_frenk = []\n",
    "acc_test_try = []\n",
    "f1_test_try = []\n",
    "for i in range(n_avg):\n",
    "    classifier_HateBERT = Sequential([\n",
    "          Flatten(),\n",
    "          Dense(32, activation='relu'),\n",
    "          Dense(1, activation='sigmoid')\n",
    "      ])\n",
    "    classifier_HateBERT.compile(optimizer='adam', loss='binary_crossentropy', metrics=['accuracy'])\n",
    "    classifier_HateBERT.fit(ghc_train_emb, ghc_label_train, class_weight=ghc_cweights, epochs=5, batch_size=32)\n",
    "\n",
    "    probs = classifier_HateBERT.predict(ghc_train_emb)\n",
    "    preds = (probs >= 0.5).astype(int)\n",
    "    acc_train.append(metrics.accuracy_score(preds,ghc_label_train))\n",
    "    f1_train.append(metrics.f1_score(preds,ghc_label_train,zero_division=1))\n",
    "\n",
    "    probs = classifier_HateBERT.predict(ghc_test_emb)\n",
    "    preds = (probs >= 0.5).astype(int)\n",
    "    acc_test.append(metrics.accuracy_score(preds,ghc_label_test))\n",
    "    f1_test.append(metrics.f1_score(preds,ghc_label_test,zero_division=1))\n",
    "    \n",
    "    probs = classifier_HateBERT.predict(frenk_test_emb)\n",
    "    preds = (probs >= 0.5).astype(int)\n",
    "    acc_test_frenk.append(metrics.accuracy_score(preds,frenk_label_test))\n",
    "    f1_test_frenk.append(metrics.f1_score(preds,frenk_label_test,zero_division=1))\n",
    "    \n",
    "    probs = classifier_HateBERT.predict(try_test_emb)\n",
    "    preds = (probs >= 0.5).astype(int)\n",
    "    acc_test_try.append(metrics.accuracy_score(preds,try_label_test))\n",
    "    f1_test_try.append(metrics.f1_score(preds,try_label_test,zero_division=1))"
   ]
  },
  {
   "cell_type": "code",
   "execution_count": 86,
   "metadata": {},
   "outputs": [
    {
     "name": "stdout",
     "output_type": "stream",
     "text": [
      "Train set:\n",
      "Avg. accuracy: 0.7921227986673013\n",
      "Avg. f1 score: 0.4783517467900865\n"
     ]
    }
   ],
   "source": [
    "print(\"Train set:\")\n",
    "print(\"Avg. accuracy:\",np.mean(acc_train))\n",
    "print(\"Avg. f1 score:\",np.mean(f1_train))"
   ]
  },
  {
   "cell_type": "code",
   "execution_count": 87,
   "metadata": {},
   "outputs": [
    {
     "name": "stdout",
     "output_type": "stream",
     "text": [
      "Gab Test set:\n",
      "Avg. accuracy: 0.7731421121251629\n",
      "Avg. f1 score: 0.449367088607595\n"
     ]
    }
   ],
   "source": [
    "print(\"Gab Test set:\")\n",
    "print(\"Avg. accuracy:\",np.mean(acc_test))\n",
    "print(\"Avg. f1 score:\",np.mean(f1_test))"
   ]
  },
  {
   "cell_type": "code",
   "execution_count": 88,
   "metadata": {},
   "outputs": [
    {
     "name": "stdout",
     "output_type": "stream",
     "text": [
      "FRENK Test set:\n",
      "Avg. accuracy: 0.7201216862233811\n",
      "Avg. f1 score: 0.6507592190889371\n"
     ]
    }
   ],
   "source": [
    "print(\"FRENK Test set:\")\n",
    "print(\"Avg. accuracy:\",np.mean(acc_test_frenk))\n",
    "print(\"Avg. f1 score:\",np.mean(f1_test_frenk))"
   ]
  },
  {
   "cell_type": "code",
   "execution_count": 89,
   "metadata": {},
   "outputs": [
    {
     "name": "stdout",
     "output_type": "stream",
     "text": [
      "Twi-Red-You Test set:\n",
      "Avg. accuracy: 0.5914819643633203\n",
      "Avg. f1 score: 0.4444444444444444\n"
     ]
    }
   ],
   "source": [
    "print(\"Twi-Red-You Test set:\")\n",
    "print(\"Avg. accuracy:\",np.mean(acc_test_try))\n",
    "print(\"Avg. f1 score:\",np.mean(f1_test_try))"
   ]
  },
  {
   "cell_type": "code",
   "execution_count": 90,
   "metadata": {},
   "outputs": [
    {
     "name": "stdout",
     "output_type": "stream",
     "text": [
      "1/1 [==============================] - 0s 15ms/step\n",
      "Hate prob.: [[0.5025543]]\n",
      "1/1 [==============================] - 0s 18ms/step\n",
      "Hate prob.: [[0.38452315]]\n"
     ]
    }
   ],
   "source": [
    "text = [\"We are ALL tired of waiting . . realize something\"]\n",
    "text_aggr = [\"We’ve had ENOUGH of your delays. Get your act together NOW\"]\n",
    "\n",
    "evaluate_text_HateBERT(text,classifier_HateBERT,HateBERT_tok,HateBERT,batch_size)\n",
    "evaluate_text_HateBERT(text_aggr,classifier_HateBERT,HateBERT_tok,HateBERT,batch_size)"
   ]
  },
  {
   "cell_type": "markdown",
   "metadata": {},
   "source": [
    "### Training with Twi-Red-You "
   ]
  },
  {
   "cell_type": "code",
   "execution_count": 91,
   "metadata": {
    "id": "7Za2hnjasM5P"
   },
   "outputs": [
    {
     "name": "stdout",
     "output_type": "stream",
     "text": [
      "Epoch 1/5\n",
      "263/263 [==============================] - 1s 1ms/step - loss: 0.5005 - accuracy: 0.7411\n",
      "Epoch 2/5\n",
      "263/263 [==============================] - 0s 1ms/step - loss: 0.4502 - accuracy: 0.7674\n",
      "Epoch 3/5\n",
      "263/263 [==============================] - 0s 1ms/step - loss: 0.4206 - accuracy: 0.7883\n",
      "Epoch 4/5\n",
      "263/263 [==============================] - 0s 1ms/step - loss: 0.3947 - accuracy: 0.8022\n",
      "Epoch 5/5\n",
      "263/263 [==============================] - 0s 1ms/step - loss: 0.3463 - accuracy: 0.8321\n",
      "263/263 [==============================] - 0s 673us/step\n",
      "72/72 [==============================] - 0s 676us/step\n",
      "72/72 [==============================] - 0s 661us/step\n",
      "72/72 [==============================] - 0s 662us/step\n"
     ]
    }
   ],
   "source": [
    "acc_train = []\n",
    "f1_train = []\n",
    "acc_test = []\n",
    "f1_test = []\n",
    "acc_test_frenk = []\n",
    "f1_test_frenk = []\n",
    "acc_test_ghc = []\n",
    "f1_test_ghc = []\n",
    "for i in range(n_avg):\n",
    "    classifier_HateBERT = Sequential([\n",
    "          Flatten(),\n",
    "          Dense(128, activation='relu'),\n",
    "          Dense(128, activation='relu'),\n",
    "          Dense(1, activation='sigmoid')\n",
    "      ])\n",
    "    classifier_HateBERT.compile(optimizer='adam', loss='binary_crossentropy', metrics=['accuracy'])\n",
    "    classifier_HateBERT.fit(try_train_emb, try_label_train, class_weight=try_cweights, epochs=5, batch_size=32)\n",
    "\n",
    "    probs = classifier_HateBERT.predict(try_train_emb)\n",
    "    preds = (probs >= 0.5).astype(int)\n",
    "    acc_train.append(metrics.accuracy_score(preds,try_label_train))\n",
    "    f1_train.append(metrics.f1_score(preds,try_label_train,zero_division=1))\n",
    "    \n",
    "    probs = classifier_HateBERT.predict(try_test_emb)\n",
    "    preds = (probs >= 0.5).astype(int)\n",
    "    acc_test.append(metrics.accuracy_score(preds,try_label_test))\n",
    "    f1_test.append(metrics.f1_score(preds,try_label_test,zero_division=1))\n",
    "    \n",
    "    probs = classifier_HateBERT.predict(frenk_test_emb)\n",
    "    preds = (probs >= 0.5).astype(int)\n",
    "    acc_test_frenk.append(metrics.accuracy_score(preds,frenk_label_test))\n",
    "    f1_test_frenk.append(metrics.f1_score(preds,frenk_label_test,zero_division=1))\n",
    "\n",
    "    probs = classifier_HateBERT.predict(ghc_test_emb)\n",
    "    preds = (probs >= 0.5).astype(int)\n",
    "    acc_test_ghc.append(metrics.accuracy_score(preds,ghc_label_test))\n",
    "    f1_test_ghc.append(metrics.f1_score(preds,ghc_label_test,zero_division=1))"
   ]
  },
  {
   "cell_type": "code",
   "execution_count": 92,
   "metadata": {},
   "outputs": [
    {
     "name": "stdout",
     "output_type": "stream",
     "text": [
      "Train set:\n",
      "Avg. accuracy: 0.8460257020466444\n",
      "Avg. f1 score: 0.7637824023366193\n"
     ]
    }
   ],
   "source": [
    "print(\"Train set:\")\n",
    "print(\"Avg. accuracy:\",np.mean(acc_train))\n",
    "print(\"Avg. f1 score:\",np.mean(f1_train))"
   ]
  },
  {
   "cell_type": "code",
   "execution_count": 93,
   "metadata": {},
   "outputs": [
    {
     "name": "stdout",
     "output_type": "stream",
     "text": [
      "Twi-Red-You Test set:\n",
      "Avg. accuracy: 0.7518470230334637\n",
      "Avg. f1 score: 0.6337395766516998\n"
     ]
    }
   ],
   "source": [
    "print(\"Twi-Red-You Test set:\")\n",
    "print(\"Avg. accuracy:\",np.mean(acc_test))\n",
    "print(\"Avg. f1 score:\",np.mean(f1_test))"
   ]
  },
  {
   "cell_type": "code",
   "execution_count": 94,
   "metadata": {},
   "outputs": [
    {
     "name": "stdout",
     "output_type": "stream",
     "text": [
      "FRENK Test set:\n",
      "Avg. accuracy: 0.33854845719252497\n",
      "Avg. f1 score: 0.4865047233468286\n"
     ]
    }
   ],
   "source": [
    "print(\"FRENK Test set:\")\n",
    "print(\"Avg. accuracy:\",np.mean(acc_test_frenk))\n",
    "print(\"Avg. f1 score:\",np.mean(f1_test_frenk))"
   ]
  },
  {
   "cell_type": "code",
   "execution_count": 95,
   "metadata": {},
   "outputs": [
    {
     "name": "stdout",
     "output_type": "stream",
     "text": [
      "Gab Test set:\n",
      "Avg. accuracy: 0.13863537592351152\n",
      "Avg. f1 score: 0.20145044319097502\n"
     ]
    }
   ],
   "source": [
    "print(\"Gab Test set:\")\n",
    "print(\"Avg. accuracy:\",np.mean(acc_test_ghc))\n",
    "print(\"Avg. f1 score:\",np.mean(f1_test_ghc))"
   ]
  },
  {
   "cell_type": "code",
   "execution_count": 96,
   "metadata": {},
   "outputs": [
    {
     "name": "stdout",
     "output_type": "stream",
     "text": [
      "1/1 [==============================] - 0s 15ms/step\n",
      "Hate prob.: [[0.00539746]]\n",
      "1/1 [==============================] - 0s 14ms/step\n",
      "Hate prob.: [[0.69953656]]\n"
     ]
    }
   ],
   "source": [
    "text = [\"We are ALL tired of waiting . . realize something\"]\n",
    "text_aggr = [\"We’ve had ENOUGH of your delays. Get your act together NOW\"]\n",
    "\n",
    "evaluate_text_HateBERT(text,classifier_HateBERT,HateBERT_tok,HateBERT,batch_size)\n",
    "evaluate_text_HateBERT(text_aggr,classifier_HateBERT,HateBERT_tok,HateBERT,batch_size)"
   ]
  },
  {
   "cell_type": "code",
   "execution_count": null,
   "metadata": {},
   "outputs": [],
   "source": []
  }
 ],
 "metadata": {
  "colab": {
   "provenance": []
  },
  "kernelspec": {
   "display_name": "Python 3 (ipykernel)",
   "language": "python",
   "name": "python3"
  },
  "language_info": {
   "codemirror_mode": {
    "name": "ipython",
    "version": 3
   },
   "file_extension": ".py",
   "mimetype": "text/x-python",
   "name": "python",
   "nbconvert_exporter": "python",
   "pygments_lexer": "ipython3",
   "version": "3.9.16"
  },
  "widgets": {
   "application/vnd.jupyter.widget-state+json": {
    "012301170183417b8ef37fc3be9a83a5": {
     "model_module": "@jupyter-widgets/base",
     "model_module_version": "1.2.0",
     "model_name": "LayoutModel",
     "state": {
      "_model_module": "@jupyter-widgets/base",
      "_model_module_version": "1.2.0",
      "_model_name": "LayoutModel",
      "_view_count": null,
      "_view_module": "@jupyter-widgets/base",
      "_view_module_version": "1.2.0",
      "_view_name": "LayoutView",
      "align_content": null,
      "align_items": null,
      "align_self": null,
      "border": null,
      "bottom": null,
      "display": null,
      "flex": null,
      "flex_flow": null,
      "grid_area": null,
      "grid_auto_columns": null,
      "grid_auto_flow": null,
      "grid_auto_rows": null,
      "grid_column": null,
      "grid_gap": null,
      "grid_row": null,
      "grid_template_areas": null,
      "grid_template_columns": null,
      "grid_template_rows": null,
      "height": null,
      "justify_content": null,
      "justify_items": null,
      "left": null,
      "margin": null,
      "max_height": null,
      "max_width": null,
      "min_height": null,
      "min_width": null,
      "object_fit": null,
      "object_position": null,
      "order": null,
      "overflow": null,
      "overflow_x": null,
      "overflow_y": null,
      "padding": null,
      "right": null,
      "top": null,
      "visibility": null,
      "width": null
     }
    },
    "036ad7eb94674978b468a920b137909f": {
     "model_module": "@jupyter-widgets/base",
     "model_module_version": "1.2.0",
     "model_name": "LayoutModel",
     "state": {
      "_model_module": "@jupyter-widgets/base",
      "_model_module_version": "1.2.0",
      "_model_name": "LayoutModel",
      "_view_count": null,
      "_view_module": "@jupyter-widgets/base",
      "_view_module_version": "1.2.0",
      "_view_name": "LayoutView",
      "align_content": null,
      "align_items": null,
      "align_self": null,
      "border": null,
      "bottom": null,
      "display": null,
      "flex": null,
      "flex_flow": null,
      "grid_area": null,
      "grid_auto_columns": null,
      "grid_auto_flow": null,
      "grid_auto_rows": null,
      "grid_column": null,
      "grid_gap": null,
      "grid_row": null,
      "grid_template_areas": null,
      "grid_template_columns": null,
      "grid_template_rows": null,
      "height": null,
      "justify_content": null,
      "justify_items": null,
      "left": null,
      "margin": null,
      "max_height": null,
      "max_width": null,
      "min_height": null,
      "min_width": null,
      "object_fit": null,
      "object_position": null,
      "order": null,
      "overflow": null,
      "overflow_x": null,
      "overflow_y": null,
      "padding": null,
      "right": null,
      "top": null,
      "visibility": null,
      "width": null
     }
    },
    "03fb007c6c0449c2944e714a0a0bb9e5": {
     "model_module": "@jupyter-widgets/controls",
     "model_module_version": "1.5.0",
     "model_name": "DescriptionStyleModel",
     "state": {
      "_model_module": "@jupyter-widgets/controls",
      "_model_module_version": "1.5.0",
      "_model_name": "DescriptionStyleModel",
      "_view_count": null,
      "_view_module": "@jupyter-widgets/base",
      "_view_module_version": "1.2.0",
      "_view_name": "StyleView",
      "description_width": ""
     }
    },
    "0515986ebac9487e87cc11507fb9ed23": {
     "model_module": "@jupyter-widgets/controls",
     "model_module_version": "1.5.0",
     "model_name": "HBoxModel",
     "state": {
      "_dom_classes": [],
      "_model_module": "@jupyter-widgets/controls",
      "_model_module_version": "1.5.0",
      "_model_name": "HBoxModel",
      "_view_count": null,
      "_view_module": "@jupyter-widgets/controls",
      "_view_module_version": "1.5.0",
      "_view_name": "HBoxView",
      "box_style": "",
      "children": [
       "IPY_MODEL_8fac088734b84efa967ebe5b6cd9e7a1",
       "IPY_MODEL_42f48728b1fb4e3aa9428b23208c9fa3",
       "IPY_MODEL_e7460a5a65b34bd28ffefbc8c8c17b79"
      ],
      "layout": "IPY_MODEL_73a210ccae5347c08bff5b756e6ad935"
     }
    },
    "0558b0ed50734e44b609099168047b78": {
     "model_module": "@jupyter-widgets/base",
     "model_module_version": "1.2.0",
     "model_name": "LayoutModel",
     "state": {
      "_model_module": "@jupyter-widgets/base",
      "_model_module_version": "1.2.0",
      "_model_name": "LayoutModel",
      "_view_count": null,
      "_view_module": "@jupyter-widgets/base",
      "_view_module_version": "1.2.0",
      "_view_name": "LayoutView",
      "align_content": null,
      "align_items": null,
      "align_self": null,
      "border": null,
      "bottom": null,
      "display": null,
      "flex": null,
      "flex_flow": null,
      "grid_area": null,
      "grid_auto_columns": null,
      "grid_auto_flow": null,
      "grid_auto_rows": null,
      "grid_column": null,
      "grid_gap": null,
      "grid_row": null,
      "grid_template_areas": null,
      "grid_template_columns": null,
      "grid_template_rows": null,
      "height": null,
      "justify_content": null,
      "justify_items": null,
      "left": null,
      "margin": null,
      "max_height": null,
      "max_width": null,
      "min_height": null,
      "min_width": null,
      "object_fit": null,
      "object_position": null,
      "order": null,
      "overflow": null,
      "overflow_x": null,
      "overflow_y": null,
      "padding": null,
      "right": null,
      "top": null,
      "visibility": null,
      "width": null
     }
    },
    "06de1f297b2e43f19dd105dc8e75d457": {
     "model_module": "@jupyter-widgets/controls",
     "model_module_version": "1.5.0",
     "model_name": "HTMLModel",
     "state": {
      "_dom_classes": [],
      "_model_module": "@jupyter-widgets/controls",
      "_model_module_version": "1.5.0",
      "_model_name": "HTMLModel",
      "_view_count": null,
      "_view_module": "@jupyter-widgets/controls",
      "_view_module_version": "1.5.0",
      "_view_name": "HTMLView",
      "description": "",
      "description_tooltip": null,
      "layout": "IPY_MODEL_1958d2d371d64959a9dc25f54e676d10",
      "placeholder": "​",
      "style": "IPY_MODEL_bd0557bac9d5452f87b259bc6dec8cd2",
      "value": "config.json: 100%"
     }
    },
    "097731e7177e4c379d94dc873e6f2cfb": {
     "model_module": "@jupyter-widgets/controls",
     "model_module_version": "1.5.0",
     "model_name": "HTMLModel",
     "state": {
      "_dom_classes": [],
      "_model_module": "@jupyter-widgets/controls",
      "_model_module_version": "1.5.0",
      "_model_name": "HTMLModel",
      "_view_count": null,
      "_view_module": "@jupyter-widgets/controls",
      "_view_module_version": "1.5.0",
      "_view_name": "HTMLView",
      "description": "",
      "description_tooltip": null,
      "layout": "IPY_MODEL_54c64693f7094824b6f8464461afd741",
      "placeholder": "​",
      "style": "IPY_MODEL_5c9bf5a6a48b46ae83bef0e7365262d2",
      "value": " 499M/499M [00:07&lt;00:00, 64.0MB/s]"
     }
    },
    "0c0b10068a374e7e91048528a83a67ba": {
     "model_module": "@jupyter-widgets/controls",
     "model_module_version": "1.5.0",
     "model_name": "HTMLModel",
     "state": {
      "_dom_classes": [],
      "_model_module": "@jupyter-widgets/controls",
      "_model_module_version": "1.5.0",
      "_model_name": "HTMLModel",
      "_view_count": null,
      "_view_module": "@jupyter-widgets/controls",
      "_view_module_version": "1.5.0",
      "_view_name": "HTMLView",
      "description": "",
      "description_tooltip": null,
      "layout": "IPY_MODEL_9c71be3221174cb7bb0e189f345b28d9",
      "placeholder": "​",
      "style": "IPY_MODEL_1f575ffa7bd144caa09c01c1b0ae5954",
      "value": " 929/929 [00:00&lt;00:00, 27.5kB/s]"
     }
    },
    "0c1bf462bbd546b79fde5184783b20ca": {
     "model_module": "@jupyter-widgets/controls",
     "model_module_version": "1.5.0",
     "model_name": "FloatProgressModel",
     "state": {
      "_dom_classes": [],
      "_model_module": "@jupyter-widgets/controls",
      "_model_module_version": "1.5.0",
      "_model_name": "FloatProgressModel",
      "_view_count": null,
      "_view_module": "@jupyter-widgets/controls",
      "_view_module_version": "1.5.0",
      "_view_name": "ProgressView",
      "bar_style": "success",
      "description": "",
      "description_tooltip": null,
      "layout": "IPY_MODEL_2b632fea606d45159af0119fa75608e9",
      "max": 933,
      "min": 0,
      "orientation": "horizontal",
      "style": "IPY_MODEL_aae8849e337343f3af0ecf16e3af771c",
      "value": 933
     }
    },
    "0e3d20c7cf384d60b15b9d4494fd76da": {
     "model_module": "@jupyter-widgets/controls",
     "model_module_version": "1.5.0",
     "model_name": "FloatProgressModel",
     "state": {
      "_dom_classes": [],
      "_model_module": "@jupyter-widgets/controls",
      "_model_module_version": "1.5.0",
      "_model_name": "FloatProgressModel",
      "_view_count": null,
      "_view_module": "@jupyter-widgets/controls",
      "_view_module_version": "1.5.0",
      "_view_name": "ProgressView",
      "bar_style": "success",
      "description": "",
      "description_tooltip": null,
      "layout": "IPY_MODEL_1652de29860646f9a6b6a2f072dc3d81",
      "max": 501227432,
      "min": 0,
      "orientation": "horizontal",
      "style": "IPY_MODEL_4a557d4a52a7473aab9faa75f441af5b",
      "value": 501227432
     }
    },
    "0f64f111ead3448ba01a285cfdfdfbc0": {
     "model_module": "@jupyter-widgets/controls",
     "model_module_version": "1.5.0",
     "model_name": "ProgressStyleModel",
     "state": {
      "_model_module": "@jupyter-widgets/controls",
      "_model_module_version": "1.5.0",
      "_model_name": "ProgressStyleModel",
      "_view_count": null,
      "_view_module": "@jupyter-widgets/base",
      "_view_module_version": "1.2.0",
      "_view_name": "StyleView",
      "bar_color": null,
      "description_width": ""
     }
    },
    "107ccf5cc7334b8b8bc9b684d58d116d": {
     "model_module": "@jupyter-widgets/base",
     "model_module_version": "1.2.0",
     "model_name": "LayoutModel",
     "state": {
      "_model_module": "@jupyter-widgets/base",
      "_model_module_version": "1.2.0",
      "_model_name": "LayoutModel",
      "_view_count": null,
      "_view_module": "@jupyter-widgets/base",
      "_view_module_version": "1.2.0",
      "_view_name": "LayoutView",
      "align_content": null,
      "align_items": null,
      "align_self": null,
      "border": null,
      "bottom": null,
      "display": null,
      "flex": null,
      "flex_flow": null,
      "grid_area": null,
      "grid_auto_columns": null,
      "grid_auto_flow": null,
      "grid_auto_rows": null,
      "grid_column": null,
      "grid_gap": null,
      "grid_row": null,
      "grid_template_areas": null,
      "grid_template_columns": null,
      "grid_template_rows": null,
      "height": null,
      "justify_content": null,
      "justify_items": null,
      "left": null,
      "margin": null,
      "max_height": null,
      "max_width": null,
      "min_height": null,
      "min_width": null,
      "object_fit": null,
      "object_position": null,
      "order": null,
      "overflow": null,
      "overflow_x": null,
      "overflow_y": null,
      "padding": null,
      "right": null,
      "top": null,
      "visibility": null,
      "width": null
     }
    },
    "13314386851f4744b4f72ff8437eed63": {
     "model_module": "@jupyter-widgets/controls",
     "model_module_version": "1.5.0",
     "model_name": "HTMLModel",
     "state": {
      "_dom_classes": [],
      "_model_module": "@jupyter-widgets/controls",
      "_model_module_version": "1.5.0",
      "_model_name": "HTMLModel",
      "_view_count": null,
      "_view_module": "@jupyter-widgets/controls",
      "_view_module_version": "1.5.0",
      "_view_name": "HTMLView",
      "description": "",
      "description_tooltip": null,
      "layout": "IPY_MODEL_0558b0ed50734e44b609099168047b78",
      "placeholder": "​",
      "style": "IPY_MODEL_348b3597ffe74f3686af60078f166c67",
      "value": "merges.txt: 100%"
     }
    },
    "144c0ffba3594009a8aa65b559c0b952": {
     "model_module": "@jupyter-widgets/controls",
     "model_module_version": "1.5.0",
     "model_name": "HBoxModel",
     "state": {
      "_dom_classes": [],
      "_model_module": "@jupyter-widgets/controls",
      "_model_module_version": "1.5.0",
      "_model_name": "HBoxModel",
      "_view_count": null,
      "_view_module": "@jupyter-widgets/controls",
      "_view_module_version": "1.5.0",
      "_view_name": "HBoxView",
      "box_style": "",
      "children": [
       "IPY_MODEL_3e9439cf81a945189375acb8c4b1cc17",
       "IPY_MODEL_54d65145ad394f2c87a90e261677f32b",
       "IPY_MODEL_7b621ddc28824e0a9f44e5ed8b07929d"
      ],
      "layout": "IPY_MODEL_cc1490fef2964807b77fbdda5976e7a8"
     }
    },
    "1652de29860646f9a6b6a2f072dc3d81": {
     "model_module": "@jupyter-widgets/base",
     "model_module_version": "1.2.0",
     "model_name": "LayoutModel",
     "state": {
      "_model_module": "@jupyter-widgets/base",
      "_model_module_version": "1.2.0",
      "_model_name": "LayoutModel",
      "_view_count": null,
      "_view_module": "@jupyter-widgets/base",
      "_view_module_version": "1.2.0",
      "_view_name": "LayoutView",
      "align_content": null,
      "align_items": null,
      "align_self": null,
      "border": null,
      "bottom": null,
      "display": null,
      "flex": null,
      "flex_flow": null,
      "grid_area": null,
      "grid_auto_columns": null,
      "grid_auto_flow": null,
      "grid_auto_rows": null,
      "grid_column": null,
      "grid_gap": null,
      "grid_row": null,
      "grid_template_areas": null,
      "grid_template_columns": null,
      "grid_template_rows": null,
      "height": null,
      "justify_content": null,
      "justify_items": null,
      "left": null,
      "margin": null,
      "max_height": null,
      "max_width": null,
      "min_height": null,
      "min_width": null,
      "object_fit": null,
      "object_position": null,
      "order": null,
      "overflow": null,
      "overflow_x": null,
      "overflow_y": null,
      "padding": null,
      "right": null,
      "top": null,
      "visibility": null,
      "width": null
     }
    },
    "1762b922710e42bd8e326eac2cef3b67": {
     "model_module": "@jupyter-widgets/controls",
     "model_module_version": "1.5.0",
     "model_name": "DescriptionStyleModel",
     "state": {
      "_model_module": "@jupyter-widgets/controls",
      "_model_module_version": "1.5.0",
      "_model_name": "DescriptionStyleModel",
      "_view_count": null,
      "_view_module": "@jupyter-widgets/base",
      "_view_module_version": "1.2.0",
      "_view_name": "StyleView",
      "description_width": ""
     }
    },
    "17f1c3680b77467787907339c85483a2": {
     "model_module": "@jupyter-widgets/controls",
     "model_module_version": "1.5.0",
     "model_name": "DescriptionStyleModel",
     "state": {
      "_model_module": "@jupyter-widgets/controls",
      "_model_module_version": "1.5.0",
      "_model_name": "DescriptionStyleModel",
      "_view_count": null,
      "_view_module": "@jupyter-widgets/base",
      "_view_module_version": "1.2.0",
      "_view_name": "StyleView",
      "description_width": ""
     }
    },
    "1958d2d371d64959a9dc25f54e676d10": {
     "model_module": "@jupyter-widgets/base",
     "model_module_version": "1.2.0",
     "model_name": "LayoutModel",
     "state": {
      "_model_module": "@jupyter-widgets/base",
      "_model_module_version": "1.2.0",
      "_model_name": "LayoutModel",
      "_view_count": null,
      "_view_module": "@jupyter-widgets/base",
      "_view_module_version": "1.2.0",
      "_view_name": "LayoutView",
      "align_content": null,
      "align_items": null,
      "align_self": null,
      "border": null,
      "bottom": null,
      "display": null,
      "flex": null,
      "flex_flow": null,
      "grid_area": null,
      "grid_auto_columns": null,
      "grid_auto_flow": null,
      "grid_auto_rows": null,
      "grid_column": null,
      "grid_gap": null,
      "grid_row": null,
      "grid_template_areas": null,
      "grid_template_columns": null,
      "grid_template_rows": null,
      "height": null,
      "justify_content": null,
      "justify_items": null,
      "left": null,
      "margin": null,
      "max_height": null,
      "max_width": null,
      "min_height": null,
      "min_width": null,
      "object_fit": null,
      "object_position": null,
      "order": null,
      "overflow": null,
      "overflow_x": null,
      "overflow_y": null,
      "padding": null,
      "right": null,
      "top": null,
      "visibility": null,
      "width": null
     }
    },
    "197cc63ffeb0453fba7730a9b8bd531d": {
     "model_module": "@jupyter-widgets/base",
     "model_module_version": "1.2.0",
     "model_name": "LayoutModel",
     "state": {
      "_model_module": "@jupyter-widgets/base",
      "_model_module_version": "1.2.0",
      "_model_name": "LayoutModel",
      "_view_count": null,
      "_view_module": "@jupyter-widgets/base",
      "_view_module_version": "1.2.0",
      "_view_name": "LayoutView",
      "align_content": null,
      "align_items": null,
      "align_self": null,
      "border": null,
      "bottom": null,
      "display": null,
      "flex": null,
      "flex_flow": null,
      "grid_area": null,
      "grid_auto_columns": null,
      "grid_auto_flow": null,
      "grid_auto_rows": null,
      "grid_column": null,
      "grid_gap": null,
      "grid_row": null,
      "grid_template_areas": null,
      "grid_template_columns": null,
      "grid_template_rows": null,
      "height": null,
      "justify_content": null,
      "justify_items": null,
      "left": null,
      "margin": null,
      "max_height": null,
      "max_width": null,
      "min_height": null,
      "min_width": null,
      "object_fit": null,
      "object_position": null,
      "order": null,
      "overflow": null,
      "overflow_x": null,
      "overflow_y": null,
      "padding": null,
      "right": null,
      "top": null,
      "visibility": null,
      "width": null
     }
    },
    "1b4801b125c045f5964ae26f748356ad": {
     "model_module": "@jupyter-widgets/controls",
     "model_module_version": "1.5.0",
     "model_name": "FloatProgressModel",
     "state": {
      "_dom_classes": [],
      "_model_module": "@jupyter-widgets/controls",
      "_model_module_version": "1.5.0",
      "_model_name": "FloatProgressModel",
      "_view_count": null,
      "_view_module": "@jupyter-widgets/controls",
      "_view_module_version": "1.5.0",
      "_view_name": "ProgressView",
      "bar_style": "success",
      "description": "",
      "description_tooltip": null,
      "layout": "IPY_MODEL_b9927b1560b64f99b476d9d6a348450d",
      "max": 498845224,
      "min": 0,
      "orientation": "horizontal",
      "style": "IPY_MODEL_aa119beb93a2460997327b0718bc23b2",
      "value": 498845224
     }
    },
    "1b9a780788ee4b60a488604ce41f4856": {
     "model_module": "@jupyter-widgets/controls",
     "model_module_version": "1.5.0",
     "model_name": "HTMLModel",
     "state": {
      "_dom_classes": [],
      "_model_module": "@jupyter-widgets/controls",
      "_model_module_version": "1.5.0",
      "_model_name": "HTMLModel",
      "_view_count": null,
      "_view_module": "@jupyter-widgets/controls",
      "_view_module_version": "1.5.0",
      "_view_name": "HTMLView",
      "description": "",
      "description_tooltip": null,
      "layout": "IPY_MODEL_a95a061a749a4738973ff8e037064e45",
      "placeholder": "​",
      "style": "IPY_MODEL_95c0b6d3e81c40aeb219f2482894976a",
      "value": " 499M/499M [00:03&lt;00:00, 142MB/s]"
     }
    },
    "1ead8799c33e40dc94b9fc0db592579f": {
     "model_module": "@jupyter-widgets/base",
     "model_module_version": "1.2.0",
     "model_name": "LayoutModel",
     "state": {
      "_model_module": "@jupyter-widgets/base",
      "_model_module_version": "1.2.0",
      "_model_name": "LayoutModel",
      "_view_count": null,
      "_view_module": "@jupyter-widgets/base",
      "_view_module_version": "1.2.0",
      "_view_name": "LayoutView",
      "align_content": null,
      "align_items": null,
      "align_self": null,
      "border": null,
      "bottom": null,
      "display": null,
      "flex": null,
      "flex_flow": null,
      "grid_area": null,
      "grid_auto_columns": null,
      "grid_auto_flow": null,
      "grid_auto_rows": null,
      "grid_column": null,
      "grid_gap": null,
      "grid_row": null,
      "grid_template_areas": null,
      "grid_template_columns": null,
      "grid_template_rows": null,
      "height": null,
      "justify_content": null,
      "justify_items": null,
      "left": null,
      "margin": null,
      "max_height": null,
      "max_width": null,
      "min_height": null,
      "min_width": null,
      "object_fit": null,
      "object_position": null,
      "order": null,
      "overflow": null,
      "overflow_x": null,
      "overflow_y": null,
      "padding": null,
      "right": null,
      "top": null,
      "visibility": null,
      "width": null
     }
    },
    "1f575ffa7bd144caa09c01c1b0ae5954": {
     "model_module": "@jupyter-widgets/controls",
     "model_module_version": "1.5.0",
     "model_name": "DescriptionStyleModel",
     "state": {
      "_model_module": "@jupyter-widgets/controls",
      "_model_module_version": "1.5.0",
      "_model_name": "DescriptionStyleModel",
      "_view_count": null,
      "_view_module": "@jupyter-widgets/base",
      "_view_module_version": "1.2.0",
      "_view_name": "StyleView",
      "description_width": ""
     }
    },
    "2302c713309f4c3fa71b517321a62356": {
     "model_module": "@jupyter-widgets/base",
     "model_module_version": "1.2.0",
     "model_name": "LayoutModel",
     "state": {
      "_model_module": "@jupyter-widgets/base",
      "_model_module_version": "1.2.0",
      "_model_name": "LayoutModel",
      "_view_count": null,
      "_view_module": "@jupyter-widgets/base",
      "_view_module_version": "1.2.0",
      "_view_name": "LayoutView",
      "align_content": null,
      "align_items": null,
      "align_self": null,
      "border": null,
      "bottom": null,
      "display": null,
      "flex": null,
      "flex_flow": null,
      "grid_area": null,
      "grid_auto_columns": null,
      "grid_auto_flow": null,
      "grid_auto_rows": null,
      "grid_column": null,
      "grid_gap": null,
      "grid_row": null,
      "grid_template_areas": null,
      "grid_template_columns": null,
      "grid_template_rows": null,
      "height": null,
      "justify_content": null,
      "justify_items": null,
      "left": null,
      "margin": null,
      "max_height": null,
      "max_width": null,
      "min_height": null,
      "min_width": null,
      "object_fit": null,
      "object_position": null,
      "order": null,
      "overflow": null,
      "overflow_x": null,
      "overflow_y": null,
      "padding": null,
      "right": null,
      "top": null,
      "visibility": null,
      "width": null
     }
    },
    "2519e3fb886149a097a89e867d8f4577": {
     "model_module": "@jupyter-widgets/controls",
     "model_module_version": "1.5.0",
     "model_name": "ProgressStyleModel",
     "state": {
      "_model_module": "@jupyter-widgets/controls",
      "_model_module_version": "1.5.0",
      "_model_name": "ProgressStyleModel",
      "_view_count": null,
      "_view_module": "@jupyter-widgets/base",
      "_view_module_version": "1.2.0",
      "_view_name": "StyleView",
      "bar_color": null,
      "description_width": ""
     }
    },
    "25d10e1b089f4622a9ff8061f7fa2dc1": {
     "model_module": "@jupyter-widgets/controls",
     "model_module_version": "1.5.0",
     "model_name": "HBoxModel",
     "state": {
      "_dom_classes": [],
      "_model_module": "@jupyter-widgets/controls",
      "_model_module_version": "1.5.0",
      "_model_name": "HBoxModel",
      "_view_count": null,
      "_view_module": "@jupyter-widgets/controls",
      "_view_module_version": "1.5.0",
      "_view_name": "HBoxView",
      "box_style": "",
      "children": [
       "IPY_MODEL_b0c8e56800b9475f9af282e1c4a15edb",
       "IPY_MODEL_e27c4ef4abaf40c2b07b5af4d541bc3f",
       "IPY_MODEL_0c0b10068a374e7e91048528a83a67ba"
      ],
      "layout": "IPY_MODEL_53c938c9d8894062963015fc8c34ccd5"
     }
    },
    "291d8a08fcad4e9994e13dab3e486087": {
     "model_module": "@jupyter-widgets/base",
     "model_module_version": "1.2.0",
     "model_name": "LayoutModel",
     "state": {
      "_model_module": "@jupyter-widgets/base",
      "_model_module_version": "1.2.0",
      "_model_name": "LayoutModel",
      "_view_count": null,
      "_view_module": "@jupyter-widgets/base",
      "_view_module_version": "1.2.0",
      "_view_name": "LayoutView",
      "align_content": null,
      "align_items": null,
      "align_self": null,
      "border": null,
      "bottom": null,
      "display": null,
      "flex": null,
      "flex_flow": null,
      "grid_area": null,
      "grid_auto_columns": null,
      "grid_auto_flow": null,
      "grid_auto_rows": null,
      "grid_column": null,
      "grid_gap": null,
      "grid_row": null,
      "grid_template_areas": null,
      "grid_template_columns": null,
      "grid_template_rows": null,
      "height": null,
      "justify_content": null,
      "justify_items": null,
      "left": null,
      "margin": null,
      "max_height": null,
      "max_width": null,
      "min_height": null,
      "min_width": null,
      "object_fit": null,
      "object_position": null,
      "order": null,
      "overflow": null,
      "overflow_x": null,
      "overflow_y": null,
      "padding": null,
      "right": null,
      "top": null,
      "visibility": null,
      "width": null
     }
    },
    "29c4fec6dab24c939932e910db29f9ff": {
     "model_module": "@jupyter-widgets/controls",
     "model_module_version": "1.5.0",
     "model_name": "HTMLModel",
     "state": {
      "_dom_classes": [],
      "_model_module": "@jupyter-widgets/controls",
      "_model_module_version": "1.5.0",
      "_model_name": "HTMLModel",
      "_view_count": null,
      "_view_module": "@jupyter-widgets/controls",
      "_view_module_version": "1.5.0",
      "_view_name": "HTMLView",
      "description": "",
      "description_tooltip": null,
      "layout": "IPY_MODEL_ad9364544e214b8483520020a3b87df2",
      "placeholder": "​",
      "style": "IPY_MODEL_701e0f2fbad3463b9c66e8a7e4949144",
      "value": "Generating train split: 100%"
     }
    },
    "2a314420428a4ce68ee073a113a1865e": {
     "model_module": "@jupyter-widgets/base",
     "model_module_version": "1.2.0",
     "model_name": "LayoutModel",
     "state": {
      "_model_module": "@jupyter-widgets/base",
      "_model_module_version": "1.2.0",
      "_model_name": "LayoutModel",
      "_view_count": null,
      "_view_module": "@jupyter-widgets/base",
      "_view_module_version": "1.2.0",
      "_view_name": "LayoutView",
      "align_content": null,
      "align_items": null,
      "align_self": null,
      "border": null,
      "bottom": null,
      "display": null,
      "flex": null,
      "flex_flow": null,
      "grid_area": null,
      "grid_auto_columns": null,
      "grid_auto_flow": null,
      "grid_auto_rows": null,
      "grid_column": null,
      "grid_gap": null,
      "grid_row": null,
      "grid_template_areas": null,
      "grid_template_columns": null,
      "grid_template_rows": null,
      "height": null,
      "justify_content": null,
      "justify_items": null,
      "left": null,
      "margin": null,
      "max_height": null,
      "max_width": null,
      "min_height": null,
      "min_width": null,
      "object_fit": null,
      "object_position": null,
      "order": null,
      "overflow": null,
      "overflow_x": null,
      "overflow_y": null,
      "padding": null,
      "right": null,
      "top": null,
      "visibility": null,
      "width": null
     }
    },
    "2b632fea606d45159af0119fa75608e9": {
     "model_module": "@jupyter-widgets/base",
     "model_module_version": "1.2.0",
     "model_name": "LayoutModel",
     "state": {
      "_model_module": "@jupyter-widgets/base",
      "_model_module_version": "1.2.0",
      "_model_name": "LayoutModel",
      "_view_count": null,
      "_view_module": "@jupyter-widgets/base",
      "_view_module_version": "1.2.0",
      "_view_name": "LayoutView",
      "align_content": null,
      "align_items": null,
      "align_self": null,
      "border": null,
      "bottom": null,
      "display": null,
      "flex": null,
      "flex_flow": null,
      "grid_area": null,
      "grid_auto_columns": null,
      "grid_auto_flow": null,
      "grid_auto_rows": null,
      "grid_column": null,
      "grid_gap": null,
      "grid_row": null,
      "grid_template_areas": null,
      "grid_template_columns": null,
      "grid_template_rows": null,
      "height": null,
      "justify_content": null,
      "justify_items": null,
      "left": null,
      "margin": null,
      "max_height": null,
      "max_width": null,
      "min_height": null,
      "min_width": null,
      "object_fit": null,
      "object_position": null,
      "order": null,
      "overflow": null,
      "overflow_x": null,
      "overflow_y": null,
      "padding": null,
      "right": null,
      "top": null,
      "visibility": null,
      "width": null
     }
    },
    "2e1af413cfb048d3bd738f0a2d56d5c2": {
     "model_module": "@jupyter-widgets/controls",
     "model_module_version": "1.5.0",
     "model_name": "ProgressStyleModel",
     "state": {
      "_model_module": "@jupyter-widgets/controls",
      "_model_module_version": "1.5.0",
      "_model_name": "ProgressStyleModel",
      "_view_count": null,
      "_view_module": "@jupyter-widgets/base",
      "_view_module_version": "1.2.0",
      "_view_name": "StyleView",
      "bar_color": null,
      "description_width": ""
     }
    },
    "316d1d3c54df4b19a1a57e9d2508b462": {
     "model_module": "@jupyter-widgets/controls",
     "model_module_version": "1.5.0",
     "model_name": "HBoxModel",
     "state": {
      "_dom_classes": [],
      "_model_module": "@jupyter-widgets/controls",
      "_model_module_version": "1.5.0",
      "_model_name": "HBoxModel",
      "_view_count": null,
      "_view_module": "@jupyter-widgets/controls",
      "_view_module_version": "1.5.0",
      "_view_name": "HBoxView",
      "box_style": "",
      "children": [
       "IPY_MODEL_06de1f297b2e43f19dd105dc8e75d457",
       "IPY_MODEL_f187fec9a45744cdaf9a805e7648a95b",
       "IPY_MODEL_9f268b0b6b0e4fcd8fb497200501657e"
      ],
      "layout": "IPY_MODEL_99137314159f482494398c83a08af801"
     }
    },
    "348b3597ffe74f3686af60078f166c67": {
     "model_module": "@jupyter-widgets/controls",
     "model_module_version": "1.5.0",
     "model_name": "DescriptionStyleModel",
     "state": {
      "_model_module": "@jupyter-widgets/controls",
      "_model_module_version": "1.5.0",
      "_model_name": "DescriptionStyleModel",
      "_view_count": null,
      "_view_module": "@jupyter-widgets/base",
      "_view_module_version": "1.2.0",
      "_view_name": "StyleView",
      "description_width": ""
     }
    },
    "35f31858d8874821bcaa11016848b20a": {
     "model_module": "@jupyter-widgets/base",
     "model_module_version": "1.2.0",
     "model_name": "LayoutModel",
     "state": {
      "_model_module": "@jupyter-widgets/base",
      "_model_module_version": "1.2.0",
      "_model_name": "LayoutModel",
      "_view_count": null,
      "_view_module": "@jupyter-widgets/base",
      "_view_module_version": "1.2.0",
      "_view_name": "LayoutView",
      "align_content": null,
      "align_items": null,
      "align_self": null,
      "border": null,
      "bottom": null,
      "display": null,
      "flex": null,
      "flex_flow": null,
      "grid_area": null,
      "grid_auto_columns": null,
      "grid_auto_flow": null,
      "grid_auto_rows": null,
      "grid_column": null,
      "grid_gap": null,
      "grid_row": null,
      "grid_template_areas": null,
      "grid_template_columns": null,
      "grid_template_rows": null,
      "height": null,
      "justify_content": null,
      "justify_items": null,
      "left": null,
      "margin": null,
      "max_height": null,
      "max_width": null,
      "min_height": null,
      "min_width": null,
      "object_fit": null,
      "object_position": null,
      "order": null,
      "overflow": null,
      "overflow_x": null,
      "overflow_y": null,
      "padding": null,
      "right": null,
      "top": null,
      "visibility": null,
      "width": null
     }
    },
    "36ae4ed40dc14c668e1bd4b1be22b377": {
     "model_module": "@jupyter-widgets/controls",
     "model_module_version": "1.5.0",
     "model_name": "HBoxModel",
     "state": {
      "_dom_classes": [],
      "_model_module": "@jupyter-widgets/controls",
      "_model_module_version": "1.5.0",
      "_model_name": "HBoxModel",
      "_view_count": null,
      "_view_module": "@jupyter-widgets/controls",
      "_view_module_version": "1.5.0",
      "_view_name": "HBoxView",
      "box_style": "",
      "children": [
       "IPY_MODEL_80632368dcbc4e7c9df13677020d6bfe",
       "IPY_MODEL_88119943611e42cc941b9a2c0ad3aaca",
       "IPY_MODEL_7eeabaf6d2294f78ba25024c4c025222"
      ],
      "layout": "IPY_MODEL_7a4c4bd7ff3f4283a519f54189e63345"
     }
    },
    "3b76aca2cab644f4adb0a9c24b33865d": {
     "model_module": "@jupyter-widgets/controls",
     "model_module_version": "1.5.0",
     "model_name": "HTMLModel",
     "state": {
      "_dom_classes": [],
      "_model_module": "@jupyter-widgets/controls",
      "_model_module_version": "1.5.0",
      "_model_name": "HTMLModel",
      "_view_count": null,
      "_view_module": "@jupyter-widgets/controls",
      "_view_module_version": "1.5.0",
      "_view_name": "HTMLView",
      "description": "",
      "description_tooltip": null,
      "layout": "IPY_MODEL_a4029f83f1294ca981a62817ac835484",
      "placeholder": "​",
      "style": "IPY_MODEL_81c392bd546145eabd2bd1ff0b246911",
      "value": "Downloading data: 100%"
     }
    },
    "3c7bd57877c041e385120fdd35f4e946": {
     "model_module": "@jupyter-widgets/controls",
     "model_module_version": "1.5.0",
     "model_name": "DescriptionStyleModel",
     "state": {
      "_model_module": "@jupyter-widgets/controls",
      "_model_module_version": "1.5.0",
      "_model_name": "DescriptionStyleModel",
      "_view_count": null,
      "_view_module": "@jupyter-widgets/base",
      "_view_module_version": "1.2.0",
      "_view_name": "StyleView",
      "description_width": ""
     }
    },
    "3ded0e0a04d848288c4e07fb2ccb0b18": {
     "model_module": "@jupyter-widgets/controls",
     "model_module_version": "1.5.0",
     "model_name": "DescriptionStyleModel",
     "state": {
      "_model_module": "@jupyter-widgets/controls",
      "_model_module_version": "1.5.0",
      "_model_name": "DescriptionStyleModel",
      "_view_count": null,
      "_view_module": "@jupyter-widgets/base",
      "_view_module_version": "1.2.0",
      "_view_name": "StyleView",
      "description_width": ""
     }
    },
    "3e9439cf81a945189375acb8c4b1cc17": {
     "model_module": "@jupyter-widgets/controls",
     "model_module_version": "1.5.0",
     "model_name": "HTMLModel",
     "state": {
      "_dom_classes": [],
      "_model_module": "@jupyter-widgets/controls",
      "_model_module_version": "1.5.0",
      "_model_name": "HTMLModel",
      "_view_count": null,
      "_view_module": "@jupyter-widgets/controls",
      "_view_module_version": "1.5.0",
      "_view_name": "HTMLView",
      "description": "",
      "description_tooltip": null,
      "layout": "IPY_MODEL_ca55578fb1e34028af4b62f202f0c052",
      "placeholder": "​",
      "style": "IPY_MODEL_03fb007c6c0449c2944e714a0a0bb9e5",
      "value": "Generating test split: 100%"
     }
    },
    "3e9452f9aa754444a4070f2d8074cdc4": {
     "model_module": "@jupyter-widgets/base",
     "model_module_version": "1.2.0",
     "model_name": "LayoutModel",
     "state": {
      "_model_module": "@jupyter-widgets/base",
      "_model_module_version": "1.2.0",
      "_model_name": "LayoutModel",
      "_view_count": null,
      "_view_module": "@jupyter-widgets/base",
      "_view_module_version": "1.2.0",
      "_view_name": "LayoutView",
      "align_content": null,
      "align_items": null,
      "align_self": null,
      "border": null,
      "bottom": null,
      "display": null,
      "flex": null,
      "flex_flow": null,
      "grid_area": null,
      "grid_auto_columns": null,
      "grid_auto_flow": null,
      "grid_auto_rows": null,
      "grid_column": null,
      "grid_gap": null,
      "grid_row": null,
      "grid_template_areas": null,
      "grid_template_columns": null,
      "grid_template_rows": null,
      "height": null,
      "justify_content": null,
      "justify_items": null,
      "left": null,
      "margin": null,
      "max_height": null,
      "max_width": null,
      "min_height": null,
      "min_width": null,
      "object_fit": null,
      "object_position": null,
      "order": null,
      "overflow": null,
      "overflow_x": null,
      "overflow_y": null,
      "padding": null,
      "right": null,
      "top": null,
      "visibility": null,
      "width": null
     }
    },
    "3eb333fe243c4d9f918e7f9009ac07d9": {
     "model_module": "@jupyter-widgets/base",
     "model_module_version": "1.2.0",
     "model_name": "LayoutModel",
     "state": {
      "_model_module": "@jupyter-widgets/base",
      "_model_module_version": "1.2.0",
      "_model_name": "LayoutModel",
      "_view_count": null,
      "_view_module": "@jupyter-widgets/base",
      "_view_module_version": "1.2.0",
      "_view_name": "LayoutView",
      "align_content": null,
      "align_items": null,
      "align_self": null,
      "border": null,
      "bottom": null,
      "display": null,
      "flex": null,
      "flex_flow": null,
      "grid_area": null,
      "grid_auto_columns": null,
      "grid_auto_flow": null,
      "grid_auto_rows": null,
      "grid_column": null,
      "grid_gap": null,
      "grid_row": null,
      "grid_template_areas": null,
      "grid_template_columns": null,
      "grid_template_rows": null,
      "height": null,
      "justify_content": null,
      "justify_items": null,
      "left": null,
      "margin": null,
      "max_height": null,
      "max_width": null,
      "min_height": null,
      "min_width": null,
      "object_fit": null,
      "object_position": null,
      "order": null,
      "overflow": null,
      "overflow_x": null,
      "overflow_y": null,
      "padding": null,
      "right": null,
      "top": null,
      "visibility": null,
      "width": null
     }
    },
    "42f48728b1fb4e3aa9428b23208c9fa3": {
     "model_module": "@jupyter-widgets/controls",
     "model_module_version": "1.5.0",
     "model_name": "FloatProgressModel",
     "state": {
      "_dom_classes": [],
      "_model_module": "@jupyter-widgets/controls",
      "_model_module_version": "1.5.0",
      "_model_name": "FloatProgressModel",
      "_view_count": null,
      "_view_module": "@jupyter-widgets/controls",
      "_view_module_version": "1.5.0",
      "_view_name": "ProgressView",
      "bar_style": "success",
      "description": "",
      "description_tooltip": null,
      "layout": "IPY_MODEL_fd4b212ac7d94f5fb1f1d92a27f65a01",
      "max": 725,
      "min": 0,
      "orientation": "horizontal",
      "style": "IPY_MODEL_2519e3fb886149a097a89e867d8f4577",
      "value": 725
     }
    },
    "4491981ccfec475abca58b9abe17e276": {
     "model_module": "@jupyter-widgets/controls",
     "model_module_version": "1.5.0",
     "model_name": "DescriptionStyleModel",
     "state": {
      "_model_module": "@jupyter-widgets/controls",
      "_model_module_version": "1.5.0",
      "_model_name": "DescriptionStyleModel",
      "_view_count": null,
      "_view_module": "@jupyter-widgets/base",
      "_view_module_version": "1.2.0",
      "_view_name": "StyleView",
      "description_width": ""
     }
    },
    "47184205021b4764a19048fa29f31fc4": {
     "model_module": "@jupyter-widgets/base",
     "model_module_version": "1.2.0",
     "model_name": "LayoutModel",
     "state": {
      "_model_module": "@jupyter-widgets/base",
      "_model_module_version": "1.2.0",
      "_model_name": "LayoutModel",
      "_view_count": null,
      "_view_module": "@jupyter-widgets/base",
      "_view_module_version": "1.2.0",
      "_view_name": "LayoutView",
      "align_content": null,
      "align_items": null,
      "align_self": null,
      "border": null,
      "bottom": null,
      "display": null,
      "flex": null,
      "flex_flow": null,
      "grid_area": null,
      "grid_auto_columns": null,
      "grid_auto_flow": null,
      "grid_auto_rows": null,
      "grid_column": null,
      "grid_gap": null,
      "grid_row": null,
      "grid_template_areas": null,
      "grid_template_columns": null,
      "grid_template_rows": null,
      "height": null,
      "justify_content": null,
      "justify_items": null,
      "left": null,
      "margin": null,
      "max_height": null,
      "max_width": null,
      "min_height": null,
      "min_width": null,
      "object_fit": null,
      "object_position": null,
      "order": null,
      "overflow": null,
      "overflow_x": null,
      "overflow_y": null,
      "padding": null,
      "right": null,
      "top": null,
      "visibility": null,
      "width": null
     }
    },
    "47be54d96a3f4661932853c10d75608c": {
     "model_module": "@jupyter-widgets/controls",
     "model_module_version": "1.5.0",
     "model_name": "DescriptionStyleModel",
     "state": {
      "_model_module": "@jupyter-widgets/controls",
      "_model_module_version": "1.5.0",
      "_model_name": "DescriptionStyleModel",
      "_view_count": null,
      "_view_module": "@jupyter-widgets/base",
      "_view_module_version": "1.2.0",
      "_view_name": "StyleView",
      "description_width": ""
     }
    },
    "482795395a764b0b8ac6167c358c2bf8": {
     "model_module": "@jupyter-widgets/controls",
     "model_module_version": "1.5.0",
     "model_name": "HTMLModel",
     "state": {
      "_dom_classes": [],
      "_model_module": "@jupyter-widgets/controls",
      "_model_module_version": "1.5.0",
      "_model_name": "HTMLModel",
      "_view_count": null,
      "_view_module": "@jupyter-widgets/controls",
      "_view_module_version": "1.5.0",
      "_view_name": "HTMLView",
      "description": "",
      "description_tooltip": null,
      "layout": "IPY_MODEL_d247e2738a5e423cb06dd55693d449d0",
      "placeholder": "​",
      "style": "IPY_MODEL_4491981ccfec475abca58b9abe17e276",
      "value": "Downloading data: 100%"
     }
    },
    "4884ad737f6b44d3880454f7f2211986": {
     "model_module": "@jupyter-widgets/controls",
     "model_module_version": "1.5.0",
     "model_name": "FloatProgressModel",
     "state": {
      "_dom_classes": [],
      "_model_module": "@jupyter-widgets/controls",
      "_model_module_version": "1.5.0",
      "_model_name": "FloatProgressModel",
      "_view_count": null,
      "_view_module": "@jupyter-widgets/controls",
      "_view_module_version": "1.5.0",
      "_view_name": "ProgressView",
      "bar_style": "success",
      "description": "",
      "description_tooltip": null,
      "layout": "IPY_MODEL_3e9452f9aa754444a4070f2d8074cdc4",
      "max": 456318,
      "min": 0,
      "orientation": "horizontal",
      "style": "IPY_MODEL_0f64f111ead3448ba01a285cfdfdfbc0",
      "value": 456318
     }
    },
    "4a557d4a52a7473aab9faa75f441af5b": {
     "model_module": "@jupyter-widgets/controls",
     "model_module_version": "1.5.0",
     "model_name": "ProgressStyleModel",
     "state": {
      "_model_module": "@jupyter-widgets/controls",
      "_model_module_version": "1.5.0",
      "_model_name": "ProgressStyleModel",
      "_view_count": null,
      "_view_module": "@jupyter-widgets/base",
      "_view_module_version": "1.2.0",
      "_view_name": "StyleView",
      "bar_color": null,
      "description_width": ""
     }
    },
    "4b11cd49b28a4194bbd494ee8e7d0461": {
     "model_module": "@jupyter-widgets/base",
     "model_module_version": "1.2.0",
     "model_name": "LayoutModel",
     "state": {
      "_model_module": "@jupyter-widgets/base",
      "_model_module_version": "1.2.0",
      "_model_name": "LayoutModel",
      "_view_count": null,
      "_view_module": "@jupyter-widgets/base",
      "_view_module_version": "1.2.0",
      "_view_name": "LayoutView",
      "align_content": null,
      "align_items": null,
      "align_self": null,
      "border": null,
      "bottom": null,
      "display": null,
      "flex": null,
      "flex_flow": null,
      "grid_area": null,
      "grid_auto_columns": null,
      "grid_auto_flow": null,
      "grid_auto_rows": null,
      "grid_column": null,
      "grid_gap": null,
      "grid_row": null,
      "grid_template_areas": null,
      "grid_template_columns": null,
      "grid_template_rows": null,
      "height": null,
      "justify_content": null,
      "justify_items": null,
      "left": null,
      "margin": null,
      "max_height": null,
      "max_width": null,
      "min_height": null,
      "min_width": null,
      "object_fit": null,
      "object_position": null,
      "order": null,
      "overflow": null,
      "overflow_x": null,
      "overflow_y": null,
      "padding": null,
      "right": null,
      "top": null,
      "visibility": null,
      "width": null
     }
    },
    "4c2864afe996469cbc21a02e70d052e7": {
     "model_module": "@jupyter-widgets/controls",
     "model_module_version": "1.5.0",
     "model_name": "DescriptionStyleModel",
     "state": {
      "_model_module": "@jupyter-widgets/controls",
      "_model_module_version": "1.5.0",
      "_model_name": "DescriptionStyleModel",
      "_view_count": null,
      "_view_module": "@jupyter-widgets/base",
      "_view_module_version": "1.2.0",
      "_view_name": "StyleView",
      "description_width": ""
     }
    },
    "4d35111788134cb39ed708ac586b83eb": {
     "model_module": "@jupyter-widgets/base",
     "model_module_version": "1.2.0",
     "model_name": "LayoutModel",
     "state": {
      "_model_module": "@jupyter-widgets/base",
      "_model_module_version": "1.2.0",
      "_model_name": "LayoutModel",
      "_view_count": null,
      "_view_module": "@jupyter-widgets/base",
      "_view_module_version": "1.2.0",
      "_view_name": "LayoutView",
      "align_content": null,
      "align_items": null,
      "align_self": null,
      "border": null,
      "bottom": null,
      "display": null,
      "flex": null,
      "flex_flow": null,
      "grid_area": null,
      "grid_auto_columns": null,
      "grid_auto_flow": null,
      "grid_auto_rows": null,
      "grid_column": null,
      "grid_gap": null,
      "grid_row": null,
      "grid_template_areas": null,
      "grid_template_columns": null,
      "grid_template_rows": null,
      "height": null,
      "justify_content": null,
      "justify_items": null,
      "left": null,
      "margin": null,
      "max_height": null,
      "max_width": null,
      "min_height": null,
      "min_width": null,
      "object_fit": null,
      "object_position": null,
      "order": null,
      "overflow": null,
      "overflow_x": null,
      "overflow_y": null,
      "padding": null,
      "right": null,
      "top": null,
      "visibility": null,
      "width": null
     }
    },
    "4d7af20dd05f494fa1dd92ae73fe158b": {
     "model_module": "@jupyter-widgets/base",
     "model_module_version": "1.2.0",
     "model_name": "LayoutModel",
     "state": {
      "_model_module": "@jupyter-widgets/base",
      "_model_module_version": "1.2.0",
      "_model_name": "LayoutModel",
      "_view_count": null,
      "_view_module": "@jupyter-widgets/base",
      "_view_module_version": "1.2.0",
      "_view_name": "LayoutView",
      "align_content": null,
      "align_items": null,
      "align_self": null,
      "border": null,
      "bottom": null,
      "display": null,
      "flex": null,
      "flex_flow": null,
      "grid_area": null,
      "grid_auto_columns": null,
      "grid_auto_flow": null,
      "grid_auto_rows": null,
      "grid_column": null,
      "grid_gap": null,
      "grid_row": null,
      "grid_template_areas": null,
      "grid_template_columns": null,
      "grid_template_rows": null,
      "height": null,
      "justify_content": null,
      "justify_items": null,
      "left": null,
      "margin": null,
      "max_height": null,
      "max_width": null,
      "min_height": null,
      "min_width": null,
      "object_fit": null,
      "object_position": null,
      "order": null,
      "overflow": null,
      "overflow_x": null,
      "overflow_y": null,
      "padding": null,
      "right": null,
      "top": null,
      "visibility": null,
      "width": null
     }
    },
    "4f240765e11f47e5b8110c3cb2f81b35": {
     "model_module": "@jupyter-widgets/base",
     "model_module_version": "1.2.0",
     "model_name": "LayoutModel",
     "state": {
      "_model_module": "@jupyter-widgets/base",
      "_model_module_version": "1.2.0",
      "_model_name": "LayoutModel",
      "_view_count": null,
      "_view_module": "@jupyter-widgets/base",
      "_view_module_version": "1.2.0",
      "_view_name": "LayoutView",
      "align_content": null,
      "align_items": null,
      "align_self": null,
      "border": null,
      "bottom": null,
      "display": null,
      "flex": null,
      "flex_flow": null,
      "grid_area": null,
      "grid_auto_columns": null,
      "grid_auto_flow": null,
      "grid_auto_rows": null,
      "grid_column": null,
      "grid_gap": null,
      "grid_row": null,
      "grid_template_areas": null,
      "grid_template_columns": null,
      "grid_template_rows": null,
      "height": null,
      "justify_content": null,
      "justify_items": null,
      "left": null,
      "margin": null,
      "max_height": null,
      "max_width": null,
      "min_height": null,
      "min_width": null,
      "object_fit": null,
      "object_position": null,
      "order": null,
      "overflow": null,
      "overflow_x": null,
      "overflow_y": null,
      "padding": null,
      "right": null,
      "top": null,
      "visibility": null,
      "width": null
     }
    },
    "4f658c94ca774adeb6c27f0b8d68b368": {
     "model_module": "@jupyter-widgets/controls",
     "model_module_version": "1.5.0",
     "model_name": "FloatProgressModel",
     "state": {
      "_dom_classes": [],
      "_model_module": "@jupyter-widgets/controls",
      "_model_module_version": "1.5.0",
      "_model_name": "FloatProgressModel",
      "_view_count": null,
      "_view_module": "@jupyter-widgets/controls",
      "_view_module_version": "1.5.0",
      "_view_name": "ProgressView",
      "bar_style": "success",
      "description": "",
      "description_tooltip": null,
      "layout": "IPY_MODEL_4d7af20dd05f494fa1dd92ae73fe158b",
      "max": 299735,
      "min": 0,
      "orientation": "horizontal",
      "style": "IPY_MODEL_5933c72a748b4db58078f517db5c5120",
      "value": 299735
     }
    },
    "506aaed4a06943e999eaeb7fc0739007": {
     "model_module": "@jupyter-widgets/controls",
     "model_module_version": "1.5.0",
     "model_name": "DescriptionStyleModel",
     "state": {
      "_model_module": "@jupyter-widgets/controls",
      "_model_module_version": "1.5.0",
      "_model_name": "DescriptionStyleModel",
      "_view_count": null,
      "_view_module": "@jupyter-widgets/base",
      "_view_module_version": "1.2.0",
      "_view_name": "StyleView",
      "description_width": ""
     }
    },
    "52f2023f766144c493c01cb4d5584bea": {
     "model_module": "@jupyter-widgets/base",
     "model_module_version": "1.2.0",
     "model_name": "LayoutModel",
     "state": {
      "_model_module": "@jupyter-widgets/base",
      "_model_module_version": "1.2.0",
      "_model_name": "LayoutModel",
      "_view_count": null,
      "_view_module": "@jupyter-widgets/base",
      "_view_module_version": "1.2.0",
      "_view_name": "LayoutView",
      "align_content": null,
      "align_items": null,
      "align_self": null,
      "border": null,
      "bottom": null,
      "display": null,
      "flex": null,
      "flex_flow": null,
      "grid_area": null,
      "grid_auto_columns": null,
      "grid_auto_flow": null,
      "grid_auto_rows": null,
      "grid_column": null,
      "grid_gap": null,
      "grid_row": null,
      "grid_template_areas": null,
      "grid_template_columns": null,
      "grid_template_rows": null,
      "height": null,
      "justify_content": null,
      "justify_items": null,
      "left": null,
      "margin": null,
      "max_height": null,
      "max_width": null,
      "min_height": null,
      "min_width": null,
      "object_fit": null,
      "object_position": null,
      "order": null,
      "overflow": null,
      "overflow_x": null,
      "overflow_y": null,
      "padding": null,
      "right": null,
      "top": null,
      "visibility": null,
      "width": null
     }
    },
    "536d0694580e46ad9356586aea88627d": {
     "model_module": "@jupyter-widgets/controls",
     "model_module_version": "1.5.0",
     "model_name": "ProgressStyleModel",
     "state": {
      "_model_module": "@jupyter-widgets/controls",
      "_model_module_version": "1.5.0",
      "_model_name": "ProgressStyleModel",
      "_view_count": null,
      "_view_module": "@jupyter-widgets/base",
      "_view_module_version": "1.2.0",
      "_view_name": "StyleView",
      "bar_color": null,
      "description_width": ""
     }
    },
    "53c938c9d8894062963015fc8c34ccd5": {
     "model_module": "@jupyter-widgets/base",
     "model_module_version": "1.2.0",
     "model_name": "LayoutModel",
     "state": {
      "_model_module": "@jupyter-widgets/base",
      "_model_module_version": "1.2.0",
      "_model_name": "LayoutModel",
      "_view_count": null,
      "_view_module": "@jupyter-widgets/base",
      "_view_module_version": "1.2.0",
      "_view_name": "LayoutView",
      "align_content": null,
      "align_items": null,
      "align_self": null,
      "border": null,
      "bottom": null,
      "display": null,
      "flex": null,
      "flex_flow": null,
      "grid_area": null,
      "grid_auto_columns": null,
      "grid_auto_flow": null,
      "grid_auto_rows": null,
      "grid_column": null,
      "grid_gap": null,
      "grid_row": null,
      "grid_template_areas": null,
      "grid_template_columns": null,
      "grid_template_rows": null,
      "height": null,
      "justify_content": null,
      "justify_items": null,
      "left": null,
      "margin": null,
      "max_height": null,
      "max_width": null,
      "min_height": null,
      "min_width": null,
      "object_fit": null,
      "object_position": null,
      "order": null,
      "overflow": null,
      "overflow_x": null,
      "overflow_y": null,
      "padding": null,
      "right": null,
      "top": null,
      "visibility": null,
      "width": null
     }
    },
    "54c64693f7094824b6f8464461afd741": {
     "model_module": "@jupyter-widgets/base",
     "model_module_version": "1.2.0",
     "model_name": "LayoutModel",
     "state": {
      "_model_module": "@jupyter-widgets/base",
      "_model_module_version": "1.2.0",
      "_model_name": "LayoutModel",
      "_view_count": null,
      "_view_module": "@jupyter-widgets/base",
      "_view_module_version": "1.2.0",
      "_view_name": "LayoutView",
      "align_content": null,
      "align_items": null,
      "align_self": null,
      "border": null,
      "bottom": null,
      "display": null,
      "flex": null,
      "flex_flow": null,
      "grid_area": null,
      "grid_auto_columns": null,
      "grid_auto_flow": null,
      "grid_auto_rows": null,
      "grid_column": null,
      "grid_gap": null,
      "grid_row": null,
      "grid_template_areas": null,
      "grid_template_columns": null,
      "grid_template_rows": null,
      "height": null,
      "justify_content": null,
      "justify_items": null,
      "left": null,
      "margin": null,
      "max_height": null,
      "max_width": null,
      "min_height": null,
      "min_width": null,
      "object_fit": null,
      "object_position": null,
      "order": null,
      "overflow": null,
      "overflow_x": null,
      "overflow_y": null,
      "padding": null,
      "right": null,
      "top": null,
      "visibility": null,
      "width": null
     }
    },
    "54d65145ad394f2c87a90e261677f32b": {
     "model_module": "@jupyter-widgets/controls",
     "model_module_version": "1.5.0",
     "model_name": "FloatProgressModel",
     "state": {
      "_dom_classes": [],
      "_model_module": "@jupyter-widgets/controls",
      "_model_module_version": "1.5.0",
      "_model_name": "FloatProgressModel",
      "_view_count": null,
      "_view_module": "@jupyter-widgets/controls",
      "_view_module_version": "1.5.0",
      "_view_name": "ProgressView",
      "bar_style": "success",
      "description": "",
      "description_tooltip": null,
      "layout": "IPY_MODEL_a0d76c86d1134f1499635b9ac8060808",
      "max": 2301,
      "min": 0,
      "orientation": "horizontal",
      "style": "IPY_MODEL_734d37cfc6cf470da494439db51cd41f",
      "value": 2301
     }
    },
    "5933c72a748b4db58078f517db5c5120": {
     "model_module": "@jupyter-widgets/controls",
     "model_module_version": "1.5.0",
     "model_name": "ProgressStyleModel",
     "state": {
      "_model_module": "@jupyter-widgets/controls",
      "_model_module_version": "1.5.0",
      "_model_name": "ProgressStyleModel",
      "_view_count": null,
      "_view_module": "@jupyter-widgets/base",
      "_view_module_version": "1.2.0",
      "_view_name": "StyleView",
      "bar_color": null,
      "description_width": ""
     }
    },
    "5c9bf5a6a48b46ae83bef0e7365262d2": {
     "model_module": "@jupyter-widgets/controls",
     "model_module_version": "1.5.0",
     "model_name": "DescriptionStyleModel",
     "state": {
      "_model_module": "@jupyter-widgets/controls",
      "_model_module_version": "1.5.0",
      "_model_name": "DescriptionStyleModel",
      "_view_count": null,
      "_view_module": "@jupyter-widgets/base",
      "_view_module_version": "1.2.0",
      "_view_name": "StyleView",
      "description_width": ""
     }
    },
    "5e1988dc726b441ebc1d264a98b83fbc": {
     "model_module": "@jupyter-widgets/base",
     "model_module_version": "1.2.0",
     "model_name": "LayoutModel",
     "state": {
      "_model_module": "@jupyter-widgets/base",
      "_model_module_version": "1.2.0",
      "_model_name": "LayoutModel",
      "_view_count": null,
      "_view_module": "@jupyter-widgets/base",
      "_view_module_version": "1.2.0",
      "_view_name": "LayoutView",
      "align_content": null,
      "align_items": null,
      "align_self": null,
      "border": null,
      "bottom": null,
      "display": null,
      "flex": null,
      "flex_flow": null,
      "grid_area": null,
      "grid_auto_columns": null,
      "grid_auto_flow": null,
      "grid_auto_rows": null,
      "grid_column": null,
      "grid_gap": null,
      "grid_row": null,
      "grid_template_areas": null,
      "grid_template_columns": null,
      "grid_template_rows": null,
      "height": null,
      "justify_content": null,
      "justify_items": null,
      "left": null,
      "margin": null,
      "max_height": null,
      "max_width": null,
      "min_height": null,
      "min_width": null,
      "object_fit": null,
      "object_position": null,
      "order": null,
      "overflow": null,
      "overflow_x": null,
      "overflow_y": null,
      "padding": null,
      "right": null,
      "top": null,
      "visibility": null,
      "width": null
     }
    },
    "61901e9df7054796a6a34be9548813ea": {
     "model_module": "@jupyter-widgets/controls",
     "model_module_version": "1.5.0",
     "model_name": "FloatProgressModel",
     "state": {
      "_dom_classes": [],
      "_model_module": "@jupyter-widgets/controls",
      "_model_module_version": "1.5.0",
      "_model_name": "FloatProgressModel",
      "_view_count": null,
      "_view_module": "@jupyter-widgets/controls",
      "_view_module_version": "1.5.0",
      "_view_name": "ProgressView",
      "bar_style": "success",
      "description": "",
      "description_tooltip": null,
      "layout": "IPY_MODEL_ce17653680e442bb9f9c65f4bfd6bf64",
      "max": 498818054,
      "min": 0,
      "orientation": "horizontal",
      "style": "IPY_MODEL_aa44ef44dd3647f3a1a2a33e27731f7f",
      "value": 498818054
     }
    },
    "67d51db274314a808b2eff100eabd69d": {
     "model_module": "@jupyter-widgets/base",
     "model_module_version": "1.2.0",
     "model_name": "LayoutModel",
     "state": {
      "_model_module": "@jupyter-widgets/base",
      "_model_module_version": "1.2.0",
      "_model_name": "LayoutModel",
      "_view_count": null,
      "_view_module": "@jupyter-widgets/base",
      "_view_module_version": "1.2.0",
      "_view_name": "LayoutView",
      "align_content": null,
      "align_items": null,
      "align_self": null,
      "border": null,
      "bottom": null,
      "display": null,
      "flex": null,
      "flex_flow": null,
      "grid_area": null,
      "grid_auto_columns": null,
      "grid_auto_flow": null,
      "grid_auto_rows": null,
      "grid_column": null,
      "grid_gap": null,
      "grid_row": null,
      "grid_template_areas": null,
      "grid_template_columns": null,
      "grid_template_rows": null,
      "height": null,
      "justify_content": null,
      "justify_items": null,
      "left": null,
      "margin": null,
      "max_height": null,
      "max_width": null,
      "min_height": null,
      "min_width": null,
      "object_fit": null,
      "object_position": null,
      "order": null,
      "overflow": null,
      "overflow_x": null,
      "overflow_y": null,
      "padding": null,
      "right": null,
      "top": null,
      "visibility": null,
      "width": null
     }
    },
    "69c3798eb1c64560b27ec43cfd9147a3": {
     "model_module": "@jupyter-widgets/base",
     "model_module_version": "1.2.0",
     "model_name": "LayoutModel",
     "state": {
      "_model_module": "@jupyter-widgets/base",
      "_model_module_version": "1.2.0",
      "_model_name": "LayoutModel",
      "_view_count": null,
      "_view_module": "@jupyter-widgets/base",
      "_view_module_version": "1.2.0",
      "_view_name": "LayoutView",
      "align_content": null,
      "align_items": null,
      "align_self": null,
      "border": null,
      "bottom": null,
      "display": null,
      "flex": null,
      "flex_flow": null,
      "grid_area": null,
      "grid_auto_columns": null,
      "grid_auto_flow": null,
      "grid_auto_rows": null,
      "grid_column": null,
      "grid_gap": null,
      "grid_row": null,
      "grid_template_areas": null,
      "grid_template_columns": null,
      "grid_template_rows": null,
      "height": null,
      "justify_content": null,
      "justify_items": null,
      "left": null,
      "margin": null,
      "max_height": null,
      "max_width": null,
      "min_height": null,
      "min_width": null,
      "object_fit": null,
      "object_position": null,
      "order": null,
      "overflow": null,
      "overflow_x": null,
      "overflow_y": null,
      "padding": null,
      "right": null,
      "top": null,
      "visibility": null,
      "width": null
     }
    },
    "6b2d2176afd643c796985f1353f36323": {
     "model_module": "@jupyter-widgets/base",
     "model_module_version": "1.2.0",
     "model_name": "LayoutModel",
     "state": {
      "_model_module": "@jupyter-widgets/base",
      "_model_module_version": "1.2.0",
      "_model_name": "LayoutModel",
      "_view_count": null,
      "_view_module": "@jupyter-widgets/base",
      "_view_module_version": "1.2.0",
      "_view_name": "LayoutView",
      "align_content": null,
      "align_items": null,
      "align_self": null,
      "border": null,
      "bottom": null,
      "display": null,
      "flex": null,
      "flex_flow": null,
      "grid_area": null,
      "grid_auto_columns": null,
      "grid_auto_flow": null,
      "grid_auto_rows": null,
      "grid_column": null,
      "grid_gap": null,
      "grid_row": null,
      "grid_template_areas": null,
      "grid_template_columns": null,
      "grid_template_rows": null,
      "height": null,
      "justify_content": null,
      "justify_items": null,
      "left": null,
      "margin": null,
      "max_height": null,
      "max_width": null,
      "min_height": null,
      "min_width": null,
      "object_fit": null,
      "object_position": null,
      "order": null,
      "overflow": null,
      "overflow_x": null,
      "overflow_y": null,
      "padding": null,
      "right": null,
      "top": null,
      "visibility": null,
      "width": null
     }
    },
    "6fa4b0b2b84942e8835a7a1aac1719f0": {
     "model_module": "@jupyter-widgets/controls",
     "model_module_version": "1.5.0",
     "model_name": "HTMLModel",
     "state": {
      "_dom_classes": [],
      "_model_module": "@jupyter-widgets/controls",
      "_model_module_version": "1.5.0",
      "_model_name": "HTMLModel",
      "_view_count": null,
      "_view_module": "@jupyter-widgets/controls",
      "_view_module_version": "1.5.0",
      "_view_name": "HTMLView",
      "description": "",
      "description_tooltip": null,
      "layout": "IPY_MODEL_e0818f0301bf484a93e0c100fbd4532c",
      "placeholder": "​",
      "style": "IPY_MODEL_4c2864afe996469cbc21a02e70d052e7",
      "value": "tf_model.h5: 100%"
     }
    },
    "7015ce22ed23485fbbb69008e43b54b5": {
     "model_module": "@jupyter-widgets/controls",
     "model_module_version": "1.5.0",
     "model_name": "HTMLModel",
     "state": {
      "_dom_classes": [],
      "_model_module": "@jupyter-widgets/controls",
      "_model_module_version": "1.5.0",
      "_model_name": "HTMLModel",
      "_view_count": null,
      "_view_module": "@jupyter-widgets/controls",
      "_view_module_version": "1.5.0",
      "_view_name": "HTMLView",
      "description": "",
      "description_tooltip": null,
      "layout": "IPY_MODEL_3eb333fe243c4d9f918e7f9009ac07d9",
      "placeholder": "​",
      "style": "IPY_MODEL_930c90c973954c05a1c020523c62ddb0",
      "value": "model.safetensors: 100%"
     }
    },
    "701e0f2fbad3463b9c66e8a7e4949144": {
     "model_module": "@jupyter-widgets/controls",
     "model_module_version": "1.5.0",
     "model_name": "DescriptionStyleModel",
     "state": {
      "_model_module": "@jupyter-widgets/controls",
      "_model_module_version": "1.5.0",
      "_model_name": "DescriptionStyleModel",
      "_view_count": null,
      "_view_module": "@jupyter-widgets/base",
      "_view_module_version": "1.2.0",
      "_view_name": "StyleView",
      "description_width": ""
     }
    },
    "71bd4a6b79df4352a3c3dc0314f3cb6a": {
     "model_module": "@jupyter-widgets/controls",
     "model_module_version": "1.5.0",
     "model_name": "ProgressStyleModel",
     "state": {
      "_model_module": "@jupyter-widgets/controls",
      "_model_module_version": "1.5.0",
      "_model_name": "ProgressStyleModel",
      "_view_count": null,
      "_view_module": "@jupyter-widgets/base",
      "_view_module_version": "1.2.0",
      "_view_name": "StyleView",
      "bar_color": null,
      "description_width": ""
     }
    },
    "71f0bbb111974222ad529d45a376760c": {
     "model_module": "@jupyter-widgets/controls",
     "model_module_version": "1.5.0",
     "model_name": "HBoxModel",
     "state": {
      "_dom_classes": [],
      "_model_module": "@jupyter-widgets/controls",
      "_model_module_version": "1.5.0",
      "_model_name": "HBoxModel",
      "_view_count": null,
      "_view_module": "@jupyter-widgets/controls",
      "_view_module_version": "1.5.0",
      "_view_name": "HBoxView",
      "box_style": "",
      "children": [
       "IPY_MODEL_13314386851f4744b4f72ff8437eed63",
       "IPY_MODEL_4884ad737f6b44d3880454f7f2211986",
       "IPY_MODEL_e5bc5e7f0a5e411c8df37659a67a07a0"
      ],
      "layout": "IPY_MODEL_e78e660f05ac4d6798124ec8e34f3477"
     }
    },
    "729406de6279478cac75ccb416ce32e3": {
     "model_module": "@jupyter-widgets/controls",
     "model_module_version": "1.5.0",
     "model_name": "HBoxModel",
     "state": {
      "_dom_classes": [],
      "_model_module": "@jupyter-widgets/controls",
      "_model_module_version": "1.5.0",
      "_model_name": "HBoxModel",
      "_view_count": null,
      "_view_module": "@jupyter-widgets/controls",
      "_view_module_version": "1.5.0",
      "_view_name": "HBoxView",
      "box_style": "",
      "children": [
       "IPY_MODEL_7333fc5f3900426bb7d7434e5eb022eb",
       "IPY_MODEL_0c1bf462bbd546b79fde5184783b20ca",
       "IPY_MODEL_fc2a3ed815b547509babfe56b6b0028c"
      ],
      "layout": "IPY_MODEL_012301170183417b8ef37fc3be9a83a5"
     }
    },
    "7333fc5f3900426bb7d7434e5eb022eb": {
     "model_module": "@jupyter-widgets/controls",
     "model_module_version": "1.5.0",
     "model_name": "HTMLModel",
     "state": {
      "_dom_classes": [],
      "_model_module": "@jupyter-widgets/controls",
      "_model_module_version": "1.5.0",
      "_model_name": "HTMLModel",
      "_view_count": null,
      "_view_module": "@jupyter-widgets/controls",
      "_view_module_version": "1.5.0",
      "_view_name": "HTMLView",
      "description": "",
      "description_tooltip": null,
      "layout": "IPY_MODEL_35f31858d8874821bcaa11016848b20a",
      "placeholder": "​",
      "style": "IPY_MODEL_982671eca74a4ca0b2d088547299cc8f",
      "value": "Generating validation split: 100%"
     }
    },
    "734d37cfc6cf470da494439db51cd41f": {
     "model_module": "@jupyter-widgets/controls",
     "model_module_version": "1.5.0",
     "model_name": "ProgressStyleModel",
     "state": {
      "_model_module": "@jupyter-widgets/controls",
      "_model_module_version": "1.5.0",
      "_model_name": "ProgressStyleModel",
      "_view_count": null,
      "_view_module": "@jupyter-widgets/base",
      "_view_module_version": "1.2.0",
      "_view_name": "StyleView",
      "bar_color": null,
      "description_width": ""
     }
    },
    "73a210ccae5347c08bff5b756e6ad935": {
     "model_module": "@jupyter-widgets/base",
     "model_module_version": "1.2.0",
     "model_name": "LayoutModel",
     "state": {
      "_model_module": "@jupyter-widgets/base",
      "_model_module_version": "1.2.0",
      "_model_name": "LayoutModel",
      "_view_count": null,
      "_view_module": "@jupyter-widgets/base",
      "_view_module_version": "1.2.0",
      "_view_name": "LayoutView",
      "align_content": null,
      "align_items": null,
      "align_self": null,
      "border": null,
      "bottom": null,
      "display": null,
      "flex": null,
      "flex_flow": null,
      "grid_area": null,
      "grid_auto_columns": null,
      "grid_auto_flow": null,
      "grid_auto_rows": null,
      "grid_column": null,
      "grid_gap": null,
      "grid_row": null,
      "grid_template_areas": null,
      "grid_template_columns": null,
      "grid_template_rows": null,
      "height": null,
      "justify_content": null,
      "justify_items": null,
      "left": null,
      "margin": null,
      "max_height": null,
      "max_width": null,
      "min_height": null,
      "min_width": null,
      "object_fit": null,
      "object_position": null,
      "order": null,
      "overflow": null,
      "overflow_x": null,
      "overflow_y": null,
      "padding": null,
      "right": null,
      "top": null,
      "visibility": null,
      "width": null
     }
    },
    "73db15a993774ae1bda701fe24873603": {
     "model_module": "@jupyter-widgets/controls",
     "model_module_version": "1.5.0",
     "model_name": "DescriptionStyleModel",
     "state": {
      "_model_module": "@jupyter-widgets/controls",
      "_model_module_version": "1.5.0",
      "_model_name": "DescriptionStyleModel",
      "_view_count": null,
      "_view_module": "@jupyter-widgets/base",
      "_view_module_version": "1.2.0",
      "_view_name": "StyleView",
      "description_width": ""
     }
    },
    "748e0715760d4d15b208c0aeb2b04356": {
     "model_module": "@jupyter-widgets/controls",
     "model_module_version": "1.5.0",
     "model_name": "ProgressStyleModel",
     "state": {
      "_model_module": "@jupyter-widgets/controls",
      "_model_module_version": "1.5.0",
      "_model_name": "ProgressStyleModel",
      "_view_count": null,
      "_view_module": "@jupyter-widgets/base",
      "_view_module_version": "1.2.0",
      "_view_name": "StyleView",
      "bar_color": null,
      "description_width": ""
     }
    },
    "7570723a96df45679a13d7c438d466e5": {
     "model_module": "@jupyter-widgets/controls",
     "model_module_version": "1.5.0",
     "model_name": "HTMLModel",
     "state": {
      "_dom_classes": [],
      "_model_module": "@jupyter-widgets/controls",
      "_model_module_version": "1.5.0",
      "_model_name": "HTMLModel",
      "_view_count": null,
      "_view_module": "@jupyter-widgets/controls",
      "_view_module_version": "1.5.0",
      "_view_name": "HTMLView",
      "description": "",
      "description_tooltip": null,
      "layout": "IPY_MODEL_f5d04592b62d4a6e97e25ba5e9a32326",
      "placeholder": "​",
      "style": "IPY_MODEL_a91f49931eea4d92b6c1d2b20c4aefcf",
      "value": " 868k/868k [00:00&lt;00:00, 9.38MB/s]"
     }
    },
    "773270defbfd42e4a1284281bf9fc528": {
     "model_module": "@jupyter-widgets/controls",
     "model_module_version": "1.5.0",
     "model_name": "DescriptionStyleModel",
     "state": {
      "_model_module": "@jupyter-widgets/controls",
      "_model_module_version": "1.5.0",
      "_model_name": "DescriptionStyleModel",
      "_view_count": null,
      "_view_module": "@jupyter-widgets/base",
      "_view_module_version": "1.2.0",
      "_view_name": "StyleView",
      "description_width": ""
     }
    },
    "7a4c4bd7ff3f4283a519f54189e63345": {
     "model_module": "@jupyter-widgets/base",
     "model_module_version": "1.2.0",
     "model_name": "LayoutModel",
     "state": {
      "_model_module": "@jupyter-widgets/base",
      "_model_module_version": "1.2.0",
      "_model_name": "LayoutModel",
      "_view_count": null,
      "_view_module": "@jupyter-widgets/base",
      "_view_module_version": "1.2.0",
      "_view_name": "LayoutView",
      "align_content": null,
      "align_items": null,
      "align_self": null,
      "border": null,
      "bottom": null,
      "display": null,
      "flex": null,
      "flex_flow": null,
      "grid_area": null,
      "grid_auto_columns": null,
      "grid_auto_flow": null,
      "grid_auto_rows": null,
      "grid_column": null,
      "grid_gap": null,
      "grid_row": null,
      "grid_template_areas": null,
      "grid_template_columns": null,
      "grid_template_rows": null,
      "height": null,
      "justify_content": null,
      "justify_items": null,
      "left": null,
      "margin": null,
      "max_height": null,
      "max_width": null,
      "min_height": null,
      "min_width": null,
      "object_fit": null,
      "object_position": null,
      "order": null,
      "overflow": null,
      "overflow_x": null,
      "overflow_y": null,
      "padding": null,
      "right": null,
      "top": null,
      "visibility": null,
      "width": null
     }
    },
    "7a64ed0166b945a2ae0ddb9ff89bbd56": {
     "model_module": "@jupyter-widgets/controls",
     "model_module_version": "1.5.0",
     "model_name": "HBoxModel",
     "state": {
      "_dom_classes": [],
      "_model_module": "@jupyter-widgets/controls",
      "_model_module_version": "1.5.0",
      "_model_name": "HBoxModel",
      "_view_count": null,
      "_view_module": "@jupyter-widgets/controls",
      "_view_module_version": "1.5.0",
      "_view_name": "HBoxView",
      "box_style": "",
      "children": [
       "IPY_MODEL_a51747d13e7b465581f777211ec9549b",
       "IPY_MODEL_f4b74ca0fa154f43b9f789ab34852d4e",
       "IPY_MODEL_b4c3c15330494d79ab5b4e8c6551a3fe"
      ],
      "layout": "IPY_MODEL_036ad7eb94674978b468a920b137909f"
     }
    },
    "7ade5986f8eb43d298f2f80a410e88f4": {
     "model_module": "@jupyter-widgets/controls",
     "model_module_version": "1.5.0",
     "model_name": "HBoxModel",
     "state": {
      "_dom_classes": [],
      "_model_module": "@jupyter-widgets/controls",
      "_model_module_version": "1.5.0",
      "_model_name": "HBoxModel",
      "_view_count": null,
      "_view_module": "@jupyter-widgets/controls",
      "_view_module_version": "1.5.0",
      "_view_name": "HBoxView",
      "box_style": "",
      "children": [
       "IPY_MODEL_8b74eb2e3ad5402ba998263b43ed7221",
       "IPY_MODEL_0e3d20c7cf384d60b15b9d4494fd76da",
       "IPY_MODEL_bb143befcde24ea9a23603167220d146"
      ],
      "layout": "IPY_MODEL_a4d7313eb964445d9bdc2799a703e5f9"
     }
    },
    "7b621ddc28824e0a9f44e5ed8b07929d": {
     "model_module": "@jupyter-widgets/controls",
     "model_module_version": "1.5.0",
     "model_name": "HTMLModel",
     "state": {
      "_dom_classes": [],
      "_model_module": "@jupyter-widgets/controls",
      "_model_module_version": "1.5.0",
      "_model_name": "HTMLModel",
      "_view_count": null,
      "_view_module": "@jupyter-widgets/controls",
      "_view_module_version": "1.5.0",
      "_view_name": "HTMLView",
      "description": "",
      "description_tooltip": null,
      "layout": "IPY_MODEL_ebf45b42aa1a48a69981ed743e1ffd4c",
      "placeholder": "​",
      "style": "IPY_MODEL_fbb555562628439a8688074da28c6cd6",
      "value": " 2301/2301 [00:00&lt;00:00, 67147.38 examples/s]"
     }
    },
    "7c4ff144e1ec4fa7801584bdab170860": {
     "model_module": "@jupyter-widgets/base",
     "model_module_version": "1.2.0",
     "model_name": "LayoutModel",
     "state": {
      "_model_module": "@jupyter-widgets/base",
      "_model_module_version": "1.2.0",
      "_model_name": "LayoutModel",
      "_view_count": null,
      "_view_module": "@jupyter-widgets/base",
      "_view_module_version": "1.2.0",
      "_view_name": "LayoutView",
      "align_content": null,
      "align_items": null,
      "align_self": null,
      "border": null,
      "bottom": null,
      "display": null,
      "flex": null,
      "flex_flow": null,
      "grid_area": null,
      "grid_auto_columns": null,
      "grid_auto_flow": null,
      "grid_auto_rows": null,
      "grid_column": null,
      "grid_gap": null,
      "grid_row": null,
      "grid_template_areas": null,
      "grid_template_columns": null,
      "grid_template_rows": null,
      "height": null,
      "justify_content": null,
      "justify_items": null,
      "left": null,
      "margin": null,
      "max_height": null,
      "max_width": null,
      "min_height": null,
      "min_width": null,
      "object_fit": null,
      "object_position": null,
      "order": null,
      "overflow": null,
      "overflow_x": null,
      "overflow_y": null,
      "padding": null,
      "right": null,
      "top": null,
      "visibility": null,
      "width": null
     }
    },
    "7eeabaf6d2294f78ba25024c4c025222": {
     "model_module": "@jupyter-widgets/controls",
     "model_module_version": "1.5.0",
     "model_name": "HTMLModel",
     "state": {
      "_dom_classes": [],
      "_model_module": "@jupyter-widgets/controls",
      "_model_module_version": "1.5.0",
      "_model_name": "HTMLModel",
      "_view_count": null,
      "_view_module": "@jupyter-widgets/controls",
      "_view_module_version": "1.5.0",
      "_view_name": "HTMLView",
      "description": "",
      "description_tooltip": null,
      "layout": "IPY_MODEL_107ccf5cc7334b8b8bc9b684d58d116d",
      "placeholder": "​",
      "style": "IPY_MODEL_3c7bd57877c041e385120fdd35f4e946",
      "value": " 239/239 [00:00&lt;00:00, 9.32kB/s]"
     }
    },
    "80632368dcbc4e7c9df13677020d6bfe": {
     "model_module": "@jupyter-widgets/controls",
     "model_module_version": "1.5.0",
     "model_name": "HTMLModel",
     "state": {
      "_dom_classes": [],
      "_model_module": "@jupyter-widgets/controls",
      "_model_module_version": "1.5.0",
      "_model_name": "HTMLModel",
      "_view_count": null,
      "_view_module": "@jupyter-widgets/controls",
      "_view_module_version": "1.5.0",
      "_view_name": "HTMLView",
      "description": "",
      "description_tooltip": null,
      "layout": "IPY_MODEL_47184205021b4764a19048fa29f31fc4",
      "placeholder": "​",
      "style": "IPY_MODEL_d9e4b06d0ce84d3dbc0ce308ca91c87d",
      "value": "special_tokens_map.json: 100%"
     }
    },
    "81c392bd546145eabd2bd1ff0b246911": {
     "model_module": "@jupyter-widgets/controls",
     "model_module_version": "1.5.0",
     "model_name": "DescriptionStyleModel",
     "state": {
      "_model_module": "@jupyter-widgets/controls",
      "_model_module_version": "1.5.0",
      "_model_name": "DescriptionStyleModel",
      "_view_count": null,
      "_view_module": "@jupyter-widgets/base",
      "_view_module_version": "1.2.0",
      "_view_name": "StyleView",
      "description_width": ""
     }
    },
    "84a0d6b56e0c427e9968a1d36cdc2757": {
     "model_module": "@jupyter-widgets/base",
     "model_module_version": "1.2.0",
     "model_name": "LayoutModel",
     "state": {
      "_model_module": "@jupyter-widgets/base",
      "_model_module_version": "1.2.0",
      "_model_name": "LayoutModel",
      "_view_count": null,
      "_view_module": "@jupyter-widgets/base",
      "_view_module_version": "1.2.0",
      "_view_name": "LayoutView",
      "align_content": null,
      "align_items": null,
      "align_self": null,
      "border": null,
      "bottom": null,
      "display": null,
      "flex": null,
      "flex_flow": null,
      "grid_area": null,
      "grid_auto_columns": null,
      "grid_auto_flow": null,
      "grid_auto_rows": null,
      "grid_column": null,
      "grid_gap": null,
      "grid_row": null,
      "grid_template_areas": null,
      "grid_template_columns": null,
      "grid_template_rows": null,
      "height": null,
      "justify_content": null,
      "justify_items": null,
      "left": null,
      "margin": null,
      "max_height": null,
      "max_width": null,
      "min_height": null,
      "min_width": null,
      "object_fit": null,
      "object_position": null,
      "order": null,
      "overflow": null,
      "overflow_x": null,
      "overflow_y": null,
      "padding": null,
      "right": null,
      "top": null,
      "visibility": null,
      "width": null
     }
    },
    "88119943611e42cc941b9a2c0ad3aaca": {
     "model_module": "@jupyter-widgets/controls",
     "model_module_version": "1.5.0",
     "model_name": "FloatProgressModel",
     "state": {
      "_dom_classes": [],
      "_model_module": "@jupyter-widgets/controls",
      "_model_module_version": "1.5.0",
      "_model_name": "FloatProgressModel",
      "_view_count": null,
      "_view_module": "@jupyter-widgets/controls",
      "_view_module_version": "1.5.0",
      "_view_name": "ProgressView",
      "bar_style": "success",
      "description": "",
      "description_tooltip": null,
      "layout": "IPY_MODEL_ae2b27727f834fa89a535760e750e2c9",
      "max": 239,
      "min": 0,
      "orientation": "horizontal",
      "style": "IPY_MODEL_71bd4a6b79df4352a3c3dc0314f3cb6a",
      "value": 239
     }
    },
    "8b74eb2e3ad5402ba998263b43ed7221": {
     "model_module": "@jupyter-widgets/controls",
     "model_module_version": "1.5.0",
     "model_name": "HTMLModel",
     "state": {
      "_dom_classes": [],
      "_model_module": "@jupyter-widgets/controls",
      "_model_module_version": "1.5.0",
      "_model_name": "HTMLModel",
      "_view_count": null,
      "_view_module": "@jupyter-widgets/controls",
      "_view_module_version": "1.5.0",
      "_view_name": "HTMLView",
      "description": "",
      "description_tooltip": null,
      "layout": "IPY_MODEL_67d51db274314a808b2eff100eabd69d",
      "placeholder": "​",
      "style": "IPY_MODEL_a6f1ba2ab1274c26816f4070d355a996",
      "value": "tf_model.h5: 100%"
     }
    },
    "8e33c271de1744bc8d0b6f67c1101dcc": {
     "model_module": "@jupyter-widgets/base",
     "model_module_version": "1.2.0",
     "model_name": "LayoutModel",
     "state": {
      "_model_module": "@jupyter-widgets/base",
      "_model_module_version": "1.2.0",
      "_model_name": "LayoutModel",
      "_view_count": null,
      "_view_module": "@jupyter-widgets/base",
      "_view_module_version": "1.2.0",
      "_view_name": "LayoutView",
      "align_content": null,
      "align_items": null,
      "align_self": null,
      "border": null,
      "bottom": null,
      "display": null,
      "flex": null,
      "flex_flow": null,
      "grid_area": null,
      "grid_auto_columns": null,
      "grid_auto_flow": null,
      "grid_auto_rows": null,
      "grid_column": null,
      "grid_gap": null,
      "grid_row": null,
      "grid_template_areas": null,
      "grid_template_columns": null,
      "grid_template_rows": null,
      "height": null,
      "justify_content": null,
      "justify_items": null,
      "left": null,
      "margin": null,
      "max_height": null,
      "max_width": null,
      "min_height": null,
      "min_width": null,
      "object_fit": null,
      "object_position": null,
      "order": null,
      "overflow": null,
      "overflow_x": null,
      "overflow_y": null,
      "padding": null,
      "right": null,
      "top": null,
      "visibility": null,
      "width": null
     }
    },
    "8fac088734b84efa967ebe5b6cd9e7a1": {
     "model_module": "@jupyter-widgets/controls",
     "model_module_version": "1.5.0",
     "model_name": "HTMLModel",
     "state": {
      "_dom_classes": [],
      "_model_module": "@jupyter-widgets/controls",
      "_model_module_version": "1.5.0",
      "_model_name": "HTMLModel",
      "_view_count": null,
      "_view_module": "@jupyter-widgets/controls",
      "_view_module_version": "1.5.0",
      "_view_name": "HTMLView",
      "description": "",
      "description_tooltip": null,
      "layout": "IPY_MODEL_69c3798eb1c64560b27ec43cfd9147a3",
      "placeholder": "​",
      "style": "IPY_MODEL_773270defbfd42e4a1284281bf9fc528",
      "value": "config.json: 100%"
     }
    },
    "930c90c973954c05a1c020523c62ddb0": {
     "model_module": "@jupyter-widgets/controls",
     "model_module_version": "1.5.0",
     "model_name": "DescriptionStyleModel",
     "state": {
      "_model_module": "@jupyter-widgets/controls",
      "_model_module_version": "1.5.0",
      "_model_name": "DescriptionStyleModel",
      "_view_count": null,
      "_view_module": "@jupyter-widgets/base",
      "_view_module_version": "1.2.0",
      "_view_name": "StyleView",
      "description_width": ""
     }
    },
    "95c0b6d3e81c40aeb219f2482894976a": {
     "model_module": "@jupyter-widgets/controls",
     "model_module_version": "1.5.0",
     "model_name": "DescriptionStyleModel",
     "state": {
      "_model_module": "@jupyter-widgets/controls",
      "_model_module_version": "1.5.0",
      "_model_name": "DescriptionStyleModel",
      "_view_count": null,
      "_view_module": "@jupyter-widgets/base",
      "_view_module_version": "1.2.0",
      "_view_name": "StyleView",
      "description_width": ""
     }
    },
    "9741ed78934c4298a2034a7ec7365148": {
     "model_module": "@jupyter-widgets/base",
     "model_module_version": "1.2.0",
     "model_name": "LayoutModel",
     "state": {
      "_model_module": "@jupyter-widgets/base",
      "_model_module_version": "1.2.0",
      "_model_name": "LayoutModel",
      "_view_count": null,
      "_view_module": "@jupyter-widgets/base",
      "_view_module_version": "1.2.0",
      "_view_name": "LayoutView",
      "align_content": null,
      "align_items": null,
      "align_self": null,
      "border": null,
      "bottom": null,
      "display": null,
      "flex": null,
      "flex_flow": null,
      "grid_area": null,
      "grid_auto_columns": null,
      "grid_auto_flow": null,
      "grid_auto_rows": null,
      "grid_column": null,
      "grid_gap": null,
      "grid_row": null,
      "grid_template_areas": null,
      "grid_template_columns": null,
      "grid_template_rows": null,
      "height": null,
      "justify_content": null,
      "justify_items": null,
      "left": null,
      "margin": null,
      "max_height": null,
      "max_width": null,
      "min_height": null,
      "min_width": null,
      "object_fit": null,
      "object_position": null,
      "order": null,
      "overflow": null,
      "overflow_x": null,
      "overflow_y": null,
      "padding": null,
      "right": null,
      "top": null,
      "visibility": null,
      "width": null
     }
    },
    "982671eca74a4ca0b2d088547299cc8f": {
     "model_module": "@jupyter-widgets/controls",
     "model_module_version": "1.5.0",
     "model_name": "DescriptionStyleModel",
     "state": {
      "_model_module": "@jupyter-widgets/controls",
      "_model_module_version": "1.5.0",
      "_model_name": "DescriptionStyleModel",
      "_view_count": null,
      "_view_module": "@jupyter-widgets/base",
      "_view_module_version": "1.2.0",
      "_view_name": "StyleView",
      "description_width": ""
     }
    },
    "98e5e4c1ef214179bcd5a6e6f3b9632d": {
     "model_module": "@jupyter-widgets/controls",
     "model_module_version": "1.5.0",
     "model_name": "HBoxModel",
     "state": {
      "_dom_classes": [],
      "_model_module": "@jupyter-widgets/controls",
      "_model_module_version": "1.5.0",
      "_model_name": "HBoxModel",
      "_view_count": null,
      "_view_module": "@jupyter-widgets/controls",
      "_view_module_version": "1.5.0",
      "_view_name": "HBoxView",
      "box_style": "",
      "children": [
       "IPY_MODEL_482795395a764b0b8ac6167c358c2bf8",
       "IPY_MODEL_d4bb70f128f64cdd9339e4f3cb83f3b4",
       "IPY_MODEL_7570723a96df45679a13d7c438d466e5"
      ],
      "layout": "IPY_MODEL_6b2d2176afd643c796985f1353f36323"
     }
    },
    "99137314159f482494398c83a08af801": {
     "model_module": "@jupyter-widgets/base",
     "model_module_version": "1.2.0",
     "model_name": "LayoutModel",
     "state": {
      "_model_module": "@jupyter-widgets/base",
      "_model_module_version": "1.2.0",
      "_model_name": "LayoutModel",
      "_view_count": null,
      "_view_module": "@jupyter-widgets/base",
      "_view_module_version": "1.2.0",
      "_view_name": "LayoutView",
      "align_content": null,
      "align_items": null,
      "align_self": null,
      "border": null,
      "bottom": null,
      "display": null,
      "flex": null,
      "flex_flow": null,
      "grid_area": null,
      "grid_auto_columns": null,
      "grid_auto_flow": null,
      "grid_auto_rows": null,
      "grid_column": null,
      "grid_gap": null,
      "grid_row": null,
      "grid_template_areas": null,
      "grid_template_columns": null,
      "grid_template_rows": null,
      "height": null,
      "justify_content": null,
      "justify_items": null,
      "left": null,
      "margin": null,
      "max_height": null,
      "max_width": null,
      "min_height": null,
      "min_width": null,
      "object_fit": null,
      "object_position": null,
      "order": null,
      "overflow": null,
      "overflow_x": null,
      "overflow_y": null,
      "padding": null,
      "right": null,
      "top": null,
      "visibility": null,
      "width": null
     }
    },
    "99a31e2a373f4a1fa93a2bf9f01edbf1": {
     "model_module": "@jupyter-widgets/base",
     "model_module_version": "1.2.0",
     "model_name": "LayoutModel",
     "state": {
      "_model_module": "@jupyter-widgets/base",
      "_model_module_version": "1.2.0",
      "_model_name": "LayoutModel",
      "_view_count": null,
      "_view_module": "@jupyter-widgets/base",
      "_view_module_version": "1.2.0",
      "_view_name": "LayoutView",
      "align_content": null,
      "align_items": null,
      "align_self": null,
      "border": null,
      "bottom": null,
      "display": null,
      "flex": null,
      "flex_flow": null,
      "grid_area": null,
      "grid_auto_columns": null,
      "grid_auto_flow": null,
      "grid_auto_rows": null,
      "grid_column": null,
      "grid_gap": null,
      "grid_row": null,
      "grid_template_areas": null,
      "grid_template_columns": null,
      "grid_template_rows": null,
      "height": null,
      "justify_content": null,
      "justify_items": null,
      "left": null,
      "margin": null,
      "max_height": null,
      "max_width": null,
      "min_height": null,
      "min_width": null,
      "object_fit": null,
      "object_position": null,
      "order": null,
      "overflow": null,
      "overflow_x": null,
      "overflow_y": null,
      "padding": null,
      "right": null,
      "top": null,
      "visibility": null,
      "width": null
     }
    },
    "9c0d494c3b66400dbb73992139f46098": {
     "model_module": "@jupyter-widgets/controls",
     "model_module_version": "1.5.0",
     "model_name": "HTMLModel",
     "state": {
      "_dom_classes": [],
      "_model_module": "@jupyter-widgets/controls",
      "_model_module_version": "1.5.0",
      "_model_name": "HTMLModel",
      "_view_count": null,
      "_view_module": "@jupyter-widgets/controls",
      "_view_module_version": "1.5.0",
      "_view_name": "HTMLView",
      "description": "",
      "description_tooltip": null,
      "layout": "IPY_MODEL_fd8d30cbdcc1416bb322284af4ed38fd",
      "placeholder": "​",
      "style": "IPY_MODEL_1762b922710e42bd8e326eac2cef3b67",
      "value": "vocab.json: 100%"
     }
    },
    "9c4dd747532a42c5ba7fd15ba1f8d867": {
     "model_module": "@jupyter-widgets/controls",
     "model_module_version": "1.5.0",
     "model_name": "HBoxModel",
     "state": {
      "_dom_classes": [],
      "_model_module": "@jupyter-widgets/controls",
      "_model_module_version": "1.5.0",
      "_model_name": "HBoxModel",
      "_view_count": null,
      "_view_module": "@jupyter-widgets/controls",
      "_view_module_version": "1.5.0",
      "_view_name": "HBoxView",
      "box_style": "",
      "children": [
       "IPY_MODEL_6fa4b0b2b84942e8835a7a1aac1719f0",
       "IPY_MODEL_1b4801b125c045f5964ae26f748356ad",
       "IPY_MODEL_097731e7177e4c379d94dc873e6f2cfb"
      ],
      "layout": "IPY_MODEL_bb4f0e5976e44126846f833b7c625f04"
     }
    },
    "9c71be3221174cb7bb0e189f345b28d9": {
     "model_module": "@jupyter-widgets/base",
     "model_module_version": "1.2.0",
     "model_name": "LayoutModel",
     "state": {
      "_model_module": "@jupyter-widgets/base",
      "_model_module_version": "1.2.0",
      "_model_name": "LayoutModel",
      "_view_count": null,
      "_view_module": "@jupyter-widgets/base",
      "_view_module_version": "1.2.0",
      "_view_name": "LayoutView",
      "align_content": null,
      "align_items": null,
      "align_self": null,
      "border": null,
      "bottom": null,
      "display": null,
      "flex": null,
      "flex_flow": null,
      "grid_area": null,
      "grid_auto_columns": null,
      "grid_auto_flow": null,
      "grid_auto_rows": null,
      "grid_column": null,
      "grid_gap": null,
      "grid_row": null,
      "grid_template_areas": null,
      "grid_template_columns": null,
      "grid_template_rows": null,
      "height": null,
      "justify_content": null,
      "justify_items": null,
      "left": null,
      "margin": null,
      "max_height": null,
      "max_width": null,
      "min_height": null,
      "min_width": null,
      "object_fit": null,
      "object_position": null,
      "order": null,
      "overflow": null,
      "overflow_x": null,
      "overflow_y": null,
      "padding": null,
      "right": null,
      "top": null,
      "visibility": null,
      "width": null
     }
    },
    "9ea59faa0bd9499f8c7cca5daf9b76e6": {
     "model_module": "@jupyter-widgets/controls",
     "model_module_version": "1.5.0",
     "model_name": "HBoxModel",
     "state": {
      "_dom_classes": [],
      "_model_module": "@jupyter-widgets/controls",
      "_model_module_version": "1.5.0",
      "_model_name": "HBoxModel",
      "_view_count": null,
      "_view_module": "@jupyter-widgets/controls",
      "_view_module_version": "1.5.0",
      "_view_name": "HBoxView",
      "box_style": "",
      "children": [
       "IPY_MODEL_29c4fec6dab24c939932e910db29f9ff",
       "IPY_MODEL_c735bcf28dde4305a1642a2bdbf3dfcb",
       "IPY_MODEL_f5970bf0a69842e692041a7a2c21dfb1"
      ],
      "layout": "IPY_MODEL_5e1988dc726b441ebc1d264a98b83fbc"
     }
    },
    "9f268b0b6b0e4fcd8fb497200501657e": {
     "model_module": "@jupyter-widgets/controls",
     "model_module_version": "1.5.0",
     "model_name": "HTMLModel",
     "state": {
      "_dom_classes": [],
      "_model_module": "@jupyter-widgets/controls",
      "_model_module_version": "1.5.0",
      "_model_name": "HTMLModel",
      "_view_count": null,
      "_view_module": "@jupyter-widgets/controls",
      "_view_module_version": "1.5.0",
      "_view_name": "HTMLView",
      "description": "",
      "description_tooltip": null,
      "layout": "IPY_MODEL_291d8a08fcad4e9994e13dab3e486087",
      "placeholder": "​",
      "style": "IPY_MODEL_e6d225c5ce5e4ef3aabd109001e9f86d",
      "value": " 481/481 [00:00&lt;00:00, 13.4kB/s]"
     }
    },
    "a0d76c86d1134f1499635b9ac8060808": {
     "model_module": "@jupyter-widgets/base",
     "model_module_version": "1.2.0",
     "model_name": "LayoutModel",
     "state": {
      "_model_module": "@jupyter-widgets/base",
      "_model_module_version": "1.2.0",
      "_model_name": "LayoutModel",
      "_view_count": null,
      "_view_module": "@jupyter-widgets/base",
      "_view_module_version": "1.2.0",
      "_view_name": "LayoutView",
      "align_content": null,
      "align_items": null,
      "align_self": null,
      "border": null,
      "bottom": null,
      "display": null,
      "flex": null,
      "flex_flow": null,
      "grid_area": null,
      "grid_auto_columns": null,
      "grid_auto_flow": null,
      "grid_auto_rows": null,
      "grid_column": null,
      "grid_gap": null,
      "grid_row": null,
      "grid_template_areas": null,
      "grid_template_columns": null,
      "grid_template_rows": null,
      "height": null,
      "justify_content": null,
      "justify_items": null,
      "left": null,
      "margin": null,
      "max_height": null,
      "max_width": null,
      "min_height": null,
      "min_width": null,
      "object_fit": null,
      "object_position": null,
      "order": null,
      "overflow": null,
      "overflow_x": null,
      "overflow_y": null,
      "padding": null,
      "right": null,
      "top": null,
      "visibility": null,
      "width": null
     }
    },
    "a0d8645b72804cb48ce5be6a17095b2f": {
     "model_module": "@jupyter-widgets/controls",
     "model_module_version": "1.5.0",
     "model_name": "DescriptionStyleModel",
     "state": {
      "_model_module": "@jupyter-widgets/controls",
      "_model_module_version": "1.5.0",
      "_model_name": "DescriptionStyleModel",
      "_view_count": null,
      "_view_module": "@jupyter-widgets/base",
      "_view_module_version": "1.2.0",
      "_view_name": "StyleView",
      "description_width": ""
     }
    },
    "a1bdc584870c4feb9142d25fff2f42ed": {
     "model_module": "@jupyter-widgets/controls",
     "model_module_version": "1.5.0",
     "model_name": "DescriptionStyleModel",
     "state": {
      "_model_module": "@jupyter-widgets/controls",
      "_model_module_version": "1.5.0",
      "_model_name": "DescriptionStyleModel",
      "_view_count": null,
      "_view_module": "@jupyter-widgets/base",
      "_view_module_version": "1.2.0",
      "_view_name": "StyleView",
      "description_width": ""
     }
    },
    "a4029f83f1294ca981a62817ac835484": {
     "model_module": "@jupyter-widgets/base",
     "model_module_version": "1.2.0",
     "model_name": "LayoutModel",
     "state": {
      "_model_module": "@jupyter-widgets/base",
      "_model_module_version": "1.2.0",
      "_model_name": "LayoutModel",
      "_view_count": null,
      "_view_module": "@jupyter-widgets/base",
      "_view_module_version": "1.2.0",
      "_view_name": "LayoutView",
      "align_content": null,
      "align_items": null,
      "align_self": null,
      "border": null,
      "bottom": null,
      "display": null,
      "flex": null,
      "flex_flow": null,
      "grid_area": null,
      "grid_auto_columns": null,
      "grid_auto_flow": null,
      "grid_auto_rows": null,
      "grid_column": null,
      "grid_gap": null,
      "grid_row": null,
      "grid_template_areas": null,
      "grid_template_columns": null,
      "grid_template_rows": null,
      "height": null,
      "justify_content": null,
      "justify_items": null,
      "left": null,
      "margin": null,
      "max_height": null,
      "max_width": null,
      "min_height": null,
      "min_width": null,
      "object_fit": null,
      "object_position": null,
      "order": null,
      "overflow": null,
      "overflow_x": null,
      "overflow_y": null,
      "padding": null,
      "right": null,
      "top": null,
      "visibility": null,
      "width": null
     }
    },
    "a4d7313eb964445d9bdc2799a703e5f9": {
     "model_module": "@jupyter-widgets/base",
     "model_module_version": "1.2.0",
     "model_name": "LayoutModel",
     "state": {
      "_model_module": "@jupyter-widgets/base",
      "_model_module_version": "1.2.0",
      "_model_name": "LayoutModel",
      "_view_count": null,
      "_view_module": "@jupyter-widgets/base",
      "_view_module_version": "1.2.0",
      "_view_name": "LayoutView",
      "align_content": null,
      "align_items": null,
      "align_self": null,
      "border": null,
      "bottom": null,
      "display": null,
      "flex": null,
      "flex_flow": null,
      "grid_area": null,
      "grid_auto_columns": null,
      "grid_auto_flow": null,
      "grid_auto_rows": null,
      "grid_column": null,
      "grid_gap": null,
      "grid_row": null,
      "grid_template_areas": null,
      "grid_template_columns": null,
      "grid_template_rows": null,
      "height": null,
      "justify_content": null,
      "justify_items": null,
      "left": null,
      "margin": null,
      "max_height": null,
      "max_width": null,
      "min_height": null,
      "min_width": null,
      "object_fit": null,
      "object_position": null,
      "order": null,
      "overflow": null,
      "overflow_x": null,
      "overflow_y": null,
      "padding": null,
      "right": null,
      "top": null,
      "visibility": null,
      "width": null
     }
    },
    "a51747d13e7b465581f777211ec9549b": {
     "model_module": "@jupyter-widgets/controls",
     "model_module_version": "1.5.0",
     "model_name": "HTMLModel",
     "state": {
      "_dom_classes": [],
      "_model_module": "@jupyter-widgets/controls",
      "_model_module_version": "1.5.0",
      "_model_name": "HTMLModel",
      "_view_count": null,
      "_view_module": "@jupyter-widgets/controls",
      "_view_module_version": "1.5.0",
      "_view_name": "HTMLView",
      "description": "",
      "description_tooltip": null,
      "layout": "IPY_MODEL_52f2023f766144c493c01cb4d5584bea",
      "placeholder": "​",
      "style": "IPY_MODEL_17f1c3680b77467787907339c85483a2",
      "value": "Downloading data: 100%"
     }
    },
    "a6ce855654cc4ca295ce3689984ac226": {
     "model_module": "@jupyter-widgets/controls",
     "model_module_version": "1.5.0",
     "model_name": "DescriptionStyleModel",
     "state": {
      "_model_module": "@jupyter-widgets/controls",
      "_model_module_version": "1.5.0",
      "_model_name": "DescriptionStyleModel",
      "_view_count": null,
      "_view_module": "@jupyter-widgets/base",
      "_view_module_version": "1.2.0",
      "_view_name": "StyleView",
      "description_width": ""
     }
    },
    "a6f1ba2ab1274c26816f4070d355a996": {
     "model_module": "@jupyter-widgets/controls",
     "model_module_version": "1.5.0",
     "model_name": "DescriptionStyleModel",
     "state": {
      "_model_module": "@jupyter-widgets/controls",
      "_model_module_version": "1.5.0",
      "_model_name": "DescriptionStyleModel",
      "_view_count": null,
      "_view_module": "@jupyter-widgets/base",
      "_view_module_version": "1.2.0",
      "_view_name": "StyleView",
      "description_width": ""
     }
    },
    "a8ef9d5768834aca9163503da575c31e": {
     "model_module": "@jupyter-widgets/base",
     "model_module_version": "1.2.0",
     "model_name": "LayoutModel",
     "state": {
      "_model_module": "@jupyter-widgets/base",
      "_model_module_version": "1.2.0",
      "_model_name": "LayoutModel",
      "_view_count": null,
      "_view_module": "@jupyter-widgets/base",
      "_view_module_version": "1.2.0",
      "_view_name": "LayoutView",
      "align_content": null,
      "align_items": null,
      "align_self": null,
      "border": null,
      "bottom": null,
      "display": null,
      "flex": null,
      "flex_flow": null,
      "grid_area": null,
      "grid_auto_columns": null,
      "grid_auto_flow": null,
      "grid_auto_rows": null,
      "grid_column": null,
      "grid_gap": null,
      "grid_row": null,
      "grid_template_areas": null,
      "grid_template_columns": null,
      "grid_template_rows": null,
      "height": null,
      "justify_content": null,
      "justify_items": null,
      "left": null,
      "margin": null,
      "max_height": null,
      "max_width": null,
      "min_height": null,
      "min_width": null,
      "object_fit": null,
      "object_position": null,
      "order": null,
      "overflow": null,
      "overflow_x": null,
      "overflow_y": null,
      "padding": null,
      "right": null,
      "top": null,
      "visibility": null,
      "width": null
     }
    },
    "a91f49931eea4d92b6c1d2b20c4aefcf": {
     "model_module": "@jupyter-widgets/controls",
     "model_module_version": "1.5.0",
     "model_name": "DescriptionStyleModel",
     "state": {
      "_model_module": "@jupyter-widgets/controls",
      "_model_module_version": "1.5.0",
      "_model_name": "DescriptionStyleModel",
      "_view_count": null,
      "_view_module": "@jupyter-widgets/base",
      "_view_module_version": "1.2.0",
      "_view_name": "StyleView",
      "description_width": ""
     }
    },
    "a95a061a749a4738973ff8e037064e45": {
     "model_module": "@jupyter-widgets/base",
     "model_module_version": "1.2.0",
     "model_name": "LayoutModel",
     "state": {
      "_model_module": "@jupyter-widgets/base",
      "_model_module_version": "1.2.0",
      "_model_name": "LayoutModel",
      "_view_count": null,
      "_view_module": "@jupyter-widgets/base",
      "_view_module_version": "1.2.0",
      "_view_name": "LayoutView",
      "align_content": null,
      "align_items": null,
      "align_self": null,
      "border": null,
      "bottom": null,
      "display": null,
      "flex": null,
      "flex_flow": null,
      "grid_area": null,
      "grid_auto_columns": null,
      "grid_auto_flow": null,
      "grid_auto_rows": null,
      "grid_column": null,
      "grid_gap": null,
      "grid_row": null,
      "grid_template_areas": null,
      "grid_template_columns": null,
      "grid_template_rows": null,
      "height": null,
      "justify_content": null,
      "justify_items": null,
      "left": null,
      "margin": null,
      "max_height": null,
      "max_width": null,
      "min_height": null,
      "min_width": null,
      "object_fit": null,
      "object_position": null,
      "order": null,
      "overflow": null,
      "overflow_x": null,
      "overflow_y": null,
      "padding": null,
      "right": null,
      "top": null,
      "visibility": null,
      "width": null
     }
    },
    "aa119beb93a2460997327b0718bc23b2": {
     "model_module": "@jupyter-widgets/controls",
     "model_module_version": "1.5.0",
     "model_name": "ProgressStyleModel",
     "state": {
      "_model_module": "@jupyter-widgets/controls",
      "_model_module_version": "1.5.0",
      "_model_name": "ProgressStyleModel",
      "_view_count": null,
      "_view_module": "@jupyter-widgets/base",
      "_view_module_version": "1.2.0",
      "_view_name": "StyleView",
      "bar_color": null,
      "description_width": ""
     }
    },
    "aa44ef44dd3647f3a1a2a33e27731f7f": {
     "model_module": "@jupyter-widgets/controls",
     "model_module_version": "1.5.0",
     "model_name": "ProgressStyleModel",
     "state": {
      "_model_module": "@jupyter-widgets/controls",
      "_model_module_version": "1.5.0",
      "_model_name": "ProgressStyleModel",
      "_view_count": null,
      "_view_module": "@jupyter-widgets/base",
      "_view_module_version": "1.2.0",
      "_view_name": "StyleView",
      "bar_color": null,
      "description_width": ""
     }
    },
    "aae8849e337343f3af0ecf16e3af771c": {
     "model_module": "@jupyter-widgets/controls",
     "model_module_version": "1.5.0",
     "model_name": "ProgressStyleModel",
     "state": {
      "_model_module": "@jupyter-widgets/controls",
      "_model_module_version": "1.5.0",
      "_model_name": "ProgressStyleModel",
      "_view_count": null,
      "_view_module": "@jupyter-widgets/base",
      "_view_module_version": "1.2.0",
      "_view_name": "StyleView",
      "bar_color": null,
      "description_width": ""
     }
    },
    "ad9364544e214b8483520020a3b87df2": {
     "model_module": "@jupyter-widgets/base",
     "model_module_version": "1.2.0",
     "model_name": "LayoutModel",
     "state": {
      "_model_module": "@jupyter-widgets/base",
      "_model_module_version": "1.2.0",
      "_model_name": "LayoutModel",
      "_view_count": null,
      "_view_module": "@jupyter-widgets/base",
      "_view_module_version": "1.2.0",
      "_view_name": "LayoutView",
      "align_content": null,
      "align_items": null,
      "align_self": null,
      "border": null,
      "bottom": null,
      "display": null,
      "flex": null,
      "flex_flow": null,
      "grid_area": null,
      "grid_auto_columns": null,
      "grid_auto_flow": null,
      "grid_auto_rows": null,
      "grid_column": null,
      "grid_gap": null,
      "grid_row": null,
      "grid_template_areas": null,
      "grid_template_columns": null,
      "grid_template_rows": null,
      "height": null,
      "justify_content": null,
      "justify_items": null,
      "left": null,
      "margin": null,
      "max_height": null,
      "max_width": null,
      "min_height": null,
      "min_width": null,
      "object_fit": null,
      "object_position": null,
      "order": null,
      "overflow": null,
      "overflow_x": null,
      "overflow_y": null,
      "padding": null,
      "right": null,
      "top": null,
      "visibility": null,
      "width": null
     }
    },
    "ae2b27727f834fa89a535760e750e2c9": {
     "model_module": "@jupyter-widgets/base",
     "model_module_version": "1.2.0",
     "model_name": "LayoutModel",
     "state": {
      "_model_module": "@jupyter-widgets/base",
      "_model_module_version": "1.2.0",
      "_model_name": "LayoutModel",
      "_view_count": null,
      "_view_module": "@jupyter-widgets/base",
      "_view_module_version": "1.2.0",
      "_view_name": "LayoutView",
      "align_content": null,
      "align_items": null,
      "align_self": null,
      "border": null,
      "bottom": null,
      "display": null,
      "flex": null,
      "flex_flow": null,
      "grid_area": null,
      "grid_auto_columns": null,
      "grid_auto_flow": null,
      "grid_auto_rows": null,
      "grid_column": null,
      "grid_gap": null,
      "grid_row": null,
      "grid_template_areas": null,
      "grid_template_columns": null,
      "grid_template_rows": null,
      "height": null,
      "justify_content": null,
      "justify_items": null,
      "left": null,
      "margin": null,
      "max_height": null,
      "max_width": null,
      "min_height": null,
      "min_width": null,
      "object_fit": null,
      "object_position": null,
      "order": null,
      "overflow": null,
      "overflow_x": null,
      "overflow_y": null,
      "padding": null,
      "right": null,
      "top": null,
      "visibility": null,
      "width": null
     }
    },
    "b0c8e56800b9475f9af282e1c4a15edb": {
     "model_module": "@jupyter-widgets/controls",
     "model_module_version": "1.5.0",
     "model_name": "HTMLModel",
     "state": {
      "_dom_classes": [],
      "_model_module": "@jupyter-widgets/controls",
      "_model_module_version": "1.5.0",
      "_model_name": "HTMLModel",
      "_view_count": null,
      "_view_module": "@jupyter-widgets/controls",
      "_view_module_version": "1.5.0",
      "_view_name": "HTMLView",
      "description": "",
      "description_tooltip": null,
      "layout": "IPY_MODEL_9741ed78934c4298a2034a7ec7365148",
      "placeholder": "​",
      "style": "IPY_MODEL_f8970e3c49144308809264350121230b",
      "value": "config.json: 100%"
     }
    },
    "b4c3c15330494d79ab5b4e8c6551a3fe": {
     "model_module": "@jupyter-widgets/controls",
     "model_module_version": "1.5.0",
     "model_name": "HTMLModel",
     "state": {
      "_dom_classes": [],
      "_model_module": "@jupyter-widgets/controls",
      "_model_module_version": "1.5.0",
      "_model_name": "HTMLModel",
      "_view_count": null,
      "_view_module": "@jupyter-widgets/controls",
      "_view_module_version": "1.5.0",
      "_view_name": "HTMLView",
      "description": "",
      "description_tooltip": null,
      "layout": "IPY_MODEL_e5b7fe1e3cf544a093c3bbc1f075545a",
      "placeholder": "​",
      "style": "IPY_MODEL_c1e07d59106544bdbd0cde97380c88db",
      "value": " 94.9k/94.9k [00:00&lt;00:00, 1.53MB/s]"
     }
    },
    "b9927b1560b64f99b476d9d6a348450d": {
     "model_module": "@jupyter-widgets/base",
     "model_module_version": "1.2.0",
     "model_name": "LayoutModel",
     "state": {
      "_model_module": "@jupyter-widgets/base",
      "_model_module_version": "1.2.0",
      "_model_name": "LayoutModel",
      "_view_count": null,
      "_view_module": "@jupyter-widgets/base",
      "_view_module_version": "1.2.0",
      "_view_name": "LayoutView",
      "align_content": null,
      "align_items": null,
      "align_self": null,
      "border": null,
      "bottom": null,
      "display": null,
      "flex": null,
      "flex_flow": null,
      "grid_area": null,
      "grid_auto_columns": null,
      "grid_auto_flow": null,
      "grid_auto_rows": null,
      "grid_column": null,
      "grid_gap": null,
      "grid_row": null,
      "grid_template_areas": null,
      "grid_template_columns": null,
      "grid_template_rows": null,
      "height": null,
      "justify_content": null,
      "justify_items": null,
      "left": null,
      "margin": null,
      "max_height": null,
      "max_width": null,
      "min_height": null,
      "min_width": null,
      "object_fit": null,
      "object_position": null,
      "order": null,
      "overflow": null,
      "overflow_x": null,
      "overflow_y": null,
      "padding": null,
      "right": null,
      "top": null,
      "visibility": null,
      "width": null
     }
    },
    "bb143befcde24ea9a23603167220d146": {
     "model_module": "@jupyter-widgets/controls",
     "model_module_version": "1.5.0",
     "model_name": "HTMLModel",
     "state": {
      "_dom_classes": [],
      "_model_module": "@jupyter-widgets/controls",
      "_model_module_version": "1.5.0",
      "_model_name": "HTMLModel",
      "_view_count": null,
      "_view_module": "@jupyter-widgets/controls",
      "_view_module_version": "1.5.0",
      "_view_name": "HTMLView",
      "description": "",
      "description_tooltip": null,
      "layout": "IPY_MODEL_eaaa06fde1f1413dbcf7a4887c2c68f7",
      "placeholder": "​",
      "style": "IPY_MODEL_506aaed4a06943e999eaeb7fc0739007",
      "value": " 501M/501M [00:06&lt;00:00, 88.0MB/s]"
     }
    },
    "bb4f0e5976e44126846f833b7c625f04": {
     "model_module": "@jupyter-widgets/base",
     "model_module_version": "1.2.0",
     "model_name": "LayoutModel",
     "state": {
      "_model_module": "@jupyter-widgets/base",
      "_model_module_version": "1.2.0",
      "_model_name": "LayoutModel",
      "_view_count": null,
      "_view_module": "@jupyter-widgets/base",
      "_view_module_version": "1.2.0",
      "_view_name": "LayoutView",
      "align_content": null,
      "align_items": null,
      "align_self": null,
      "border": null,
      "bottom": null,
      "display": null,
      "flex": null,
      "flex_flow": null,
      "grid_area": null,
      "grid_auto_columns": null,
      "grid_auto_flow": null,
      "grid_auto_rows": null,
      "grid_column": null,
      "grid_gap": null,
      "grid_row": null,
      "grid_template_areas": null,
      "grid_template_columns": null,
      "grid_template_rows": null,
      "height": null,
      "justify_content": null,
      "justify_items": null,
      "left": null,
      "margin": null,
      "max_height": null,
      "max_width": null,
      "min_height": null,
      "min_width": null,
      "object_fit": null,
      "object_position": null,
      "order": null,
      "overflow": null,
      "overflow_x": null,
      "overflow_y": null,
      "padding": null,
      "right": null,
      "top": null,
      "visibility": null,
      "width": null
     }
    },
    "bd0557bac9d5452f87b259bc6dec8cd2": {
     "model_module": "@jupyter-widgets/controls",
     "model_module_version": "1.5.0",
     "model_name": "DescriptionStyleModel",
     "state": {
      "_model_module": "@jupyter-widgets/controls",
      "_model_module_version": "1.5.0",
      "_model_name": "DescriptionStyleModel",
      "_view_count": null,
      "_view_module": "@jupyter-widgets/base",
      "_view_module_version": "1.2.0",
      "_view_name": "StyleView",
      "description_width": ""
     }
    },
    "c1e07d59106544bdbd0cde97380c88db": {
     "model_module": "@jupyter-widgets/controls",
     "model_module_version": "1.5.0",
     "model_name": "DescriptionStyleModel",
     "state": {
      "_model_module": "@jupyter-widgets/controls",
      "_model_module_version": "1.5.0",
      "_model_name": "DescriptionStyleModel",
      "_view_count": null,
      "_view_module": "@jupyter-widgets/base",
      "_view_module_version": "1.2.0",
      "_view_name": "StyleView",
      "description_width": ""
     }
    },
    "c49a1bc3b6534ab09da19c16fa3569e4": {
     "model_module": "@jupyter-widgets/base",
     "model_module_version": "1.2.0",
     "model_name": "LayoutModel",
     "state": {
      "_model_module": "@jupyter-widgets/base",
      "_model_module_version": "1.2.0",
      "_model_name": "LayoutModel",
      "_view_count": null,
      "_view_module": "@jupyter-widgets/base",
      "_view_module_version": "1.2.0",
      "_view_name": "LayoutView",
      "align_content": null,
      "align_items": null,
      "align_self": null,
      "border": null,
      "bottom": null,
      "display": null,
      "flex": null,
      "flex_flow": null,
      "grid_area": null,
      "grid_auto_columns": null,
      "grid_auto_flow": null,
      "grid_auto_rows": null,
      "grid_column": null,
      "grid_gap": null,
      "grid_row": null,
      "grid_template_areas": null,
      "grid_template_columns": null,
      "grid_template_rows": null,
      "height": null,
      "justify_content": null,
      "justify_items": null,
      "left": null,
      "margin": null,
      "max_height": null,
      "max_width": null,
      "min_height": null,
      "min_width": null,
      "object_fit": null,
      "object_position": null,
      "order": null,
      "overflow": null,
      "overflow_x": null,
      "overflow_y": null,
      "padding": null,
      "right": null,
      "top": null,
      "visibility": null,
      "width": null
     }
    },
    "c735bcf28dde4305a1642a2bdbf3dfcb": {
     "model_module": "@jupyter-widgets/controls",
     "model_module_version": "1.5.0",
     "model_name": "FloatProgressModel",
     "state": {
      "_dom_classes": [],
      "_model_module": "@jupyter-widgets/controls",
      "_model_module_version": "1.5.0",
      "_model_name": "FloatProgressModel",
      "_view_count": null,
      "_view_module": "@jupyter-widgets/controls",
      "_view_module_version": "1.5.0",
      "_view_name": "ProgressView",
      "bar_style": "success",
      "description": "",
      "description_tooltip": null,
      "layout": "IPY_MODEL_2a314420428a4ce68ee073a113a1865e",
      "max": 8404,
      "min": 0,
      "orientation": "horizontal",
      "style": "IPY_MODEL_cb1f8f1990674960b54a418a6b943bf4",
      "value": 8404
     }
    },
    "c94b65298dd946a48513680ee2f7d51b": {
     "model_module": "@jupyter-widgets/base",
     "model_module_version": "1.2.0",
     "model_name": "LayoutModel",
     "state": {
      "_model_module": "@jupyter-widgets/base",
      "_model_module_version": "1.2.0",
      "_model_name": "LayoutModel",
      "_view_count": null,
      "_view_module": "@jupyter-widgets/base",
      "_view_module_version": "1.2.0",
      "_view_name": "LayoutView",
      "align_content": null,
      "align_items": null,
      "align_self": null,
      "border": null,
      "bottom": null,
      "display": null,
      "flex": null,
      "flex_flow": null,
      "grid_area": null,
      "grid_auto_columns": null,
      "grid_auto_flow": null,
      "grid_auto_rows": null,
      "grid_column": null,
      "grid_gap": null,
      "grid_row": null,
      "grid_template_areas": null,
      "grid_template_columns": null,
      "grid_template_rows": null,
      "height": null,
      "justify_content": null,
      "justify_items": null,
      "left": null,
      "margin": null,
      "max_height": null,
      "max_width": null,
      "min_height": null,
      "min_width": null,
      "object_fit": null,
      "object_position": null,
      "order": null,
      "overflow": null,
      "overflow_x": null,
      "overflow_y": null,
      "padding": null,
      "right": null,
      "top": null,
      "visibility": null,
      "width": null
     }
    },
    "ca55578fb1e34028af4b62f202f0c052": {
     "model_module": "@jupyter-widgets/base",
     "model_module_version": "1.2.0",
     "model_name": "LayoutModel",
     "state": {
      "_model_module": "@jupyter-widgets/base",
      "_model_module_version": "1.2.0",
      "_model_name": "LayoutModel",
      "_view_count": null,
      "_view_module": "@jupyter-widgets/base",
      "_view_module_version": "1.2.0",
      "_view_name": "LayoutView",
      "align_content": null,
      "align_items": null,
      "align_self": null,
      "border": null,
      "bottom": null,
      "display": null,
      "flex": null,
      "flex_flow": null,
      "grid_area": null,
      "grid_auto_columns": null,
      "grid_auto_flow": null,
      "grid_auto_rows": null,
      "grid_column": null,
      "grid_gap": null,
      "grid_row": null,
      "grid_template_areas": null,
      "grid_template_columns": null,
      "grid_template_rows": null,
      "height": null,
      "justify_content": null,
      "justify_items": null,
      "left": null,
      "margin": null,
      "max_height": null,
      "max_width": null,
      "min_height": null,
      "min_width": null,
      "object_fit": null,
      "object_position": null,
      "order": null,
      "overflow": null,
      "overflow_x": null,
      "overflow_y": null,
      "padding": null,
      "right": null,
      "top": null,
      "visibility": null,
      "width": null
     }
    },
    "cb1f8f1990674960b54a418a6b943bf4": {
     "model_module": "@jupyter-widgets/controls",
     "model_module_version": "1.5.0",
     "model_name": "ProgressStyleModel",
     "state": {
      "_model_module": "@jupyter-widgets/controls",
      "_model_module_version": "1.5.0",
      "_model_name": "ProgressStyleModel",
      "_view_count": null,
      "_view_module": "@jupyter-widgets/base",
      "_view_module_version": "1.2.0",
      "_view_name": "StyleView",
      "bar_color": null,
      "description_width": ""
     }
    },
    "cc1490fef2964807b77fbdda5976e7a8": {
     "model_module": "@jupyter-widgets/base",
     "model_module_version": "1.2.0",
     "model_name": "LayoutModel",
     "state": {
      "_model_module": "@jupyter-widgets/base",
      "_model_module_version": "1.2.0",
      "_model_name": "LayoutModel",
      "_view_count": null,
      "_view_module": "@jupyter-widgets/base",
      "_view_module_version": "1.2.0",
      "_view_name": "LayoutView",
      "align_content": null,
      "align_items": null,
      "align_self": null,
      "border": null,
      "bottom": null,
      "display": null,
      "flex": null,
      "flex_flow": null,
      "grid_area": null,
      "grid_auto_columns": null,
      "grid_auto_flow": null,
      "grid_auto_rows": null,
      "grid_column": null,
      "grid_gap": null,
      "grid_row": null,
      "grid_template_areas": null,
      "grid_template_columns": null,
      "grid_template_rows": null,
      "height": null,
      "justify_content": null,
      "justify_items": null,
      "left": null,
      "margin": null,
      "max_height": null,
      "max_width": null,
      "min_height": null,
      "min_width": null,
      "object_fit": null,
      "object_position": null,
      "order": null,
      "overflow": null,
      "overflow_x": null,
      "overflow_y": null,
      "padding": null,
      "right": null,
      "top": null,
      "visibility": null,
      "width": null
     }
    },
    "ce17653680e442bb9f9c65f4bfd6bf64": {
     "model_module": "@jupyter-widgets/base",
     "model_module_version": "1.2.0",
     "model_name": "LayoutModel",
     "state": {
      "_model_module": "@jupyter-widgets/base",
      "_model_module_version": "1.2.0",
      "_model_name": "LayoutModel",
      "_view_count": null,
      "_view_module": "@jupyter-widgets/base",
      "_view_module_version": "1.2.0",
      "_view_name": "LayoutView",
      "align_content": null,
      "align_items": null,
      "align_self": null,
      "border": null,
      "bottom": null,
      "display": null,
      "flex": null,
      "flex_flow": null,
      "grid_area": null,
      "grid_auto_columns": null,
      "grid_auto_flow": null,
      "grid_auto_rows": null,
      "grid_column": null,
      "grid_gap": null,
      "grid_row": null,
      "grid_template_areas": null,
      "grid_template_columns": null,
      "grid_template_rows": null,
      "height": null,
      "justify_content": null,
      "justify_items": null,
      "left": null,
      "margin": null,
      "max_height": null,
      "max_width": null,
      "min_height": null,
      "min_width": null,
      "object_fit": null,
      "object_position": null,
      "order": null,
      "overflow": null,
      "overflow_x": null,
      "overflow_y": null,
      "padding": null,
      "right": null,
      "top": null,
      "visibility": null,
      "width": null
     }
    },
    "d1eeb8e55938403093083455a633b45a": {
     "model_module": "@jupyter-widgets/controls",
     "model_module_version": "1.5.0",
     "model_name": "HBoxModel",
     "state": {
      "_dom_classes": [],
      "_model_module": "@jupyter-widgets/controls",
      "_model_module_version": "1.5.0",
      "_model_name": "HBoxModel",
      "_view_count": null,
      "_view_module": "@jupyter-widgets/controls",
      "_view_module_version": "1.5.0",
      "_view_name": "HBoxView",
      "box_style": "",
      "children": [
       "IPY_MODEL_9c0d494c3b66400dbb73992139f46098",
       "IPY_MODEL_f84583fe125e4bcca143ff4ac47bf35e",
       "IPY_MODEL_f584fa16b1ba48fc8ff6d4c4ff8b9dbd"
      ],
      "layout": "IPY_MODEL_c94b65298dd946a48513680ee2f7d51b"
     }
    },
    "d247e2738a5e423cb06dd55693d449d0": {
     "model_module": "@jupyter-widgets/base",
     "model_module_version": "1.2.0",
     "model_name": "LayoutModel",
     "state": {
      "_model_module": "@jupyter-widgets/base",
      "_model_module_version": "1.2.0",
      "_model_name": "LayoutModel",
      "_view_count": null,
      "_view_module": "@jupyter-widgets/base",
      "_view_module_version": "1.2.0",
      "_view_name": "LayoutView",
      "align_content": null,
      "align_items": null,
      "align_self": null,
      "border": null,
      "bottom": null,
      "display": null,
      "flex": null,
      "flex_flow": null,
      "grid_area": null,
      "grid_auto_columns": null,
      "grid_auto_flow": null,
      "grid_auto_rows": null,
      "grid_column": null,
      "grid_gap": null,
      "grid_row": null,
      "grid_template_areas": null,
      "grid_template_columns": null,
      "grid_template_rows": null,
      "height": null,
      "justify_content": null,
      "justify_items": null,
      "left": null,
      "margin": null,
      "max_height": null,
      "max_width": null,
      "min_height": null,
      "min_width": null,
      "object_fit": null,
      "object_position": null,
      "order": null,
      "overflow": null,
      "overflow_x": null,
      "overflow_y": null,
      "padding": null,
      "right": null,
      "top": null,
      "visibility": null,
      "width": null
     }
    },
    "d3e3a6557cf3498bbb6654c3a4fa6582": {
     "model_module": "@jupyter-widgets/controls",
     "model_module_version": "1.5.0",
     "model_name": "HBoxModel",
     "state": {
      "_dom_classes": [],
      "_model_module": "@jupyter-widgets/controls",
      "_model_module_version": "1.5.0",
      "_model_name": "HBoxModel",
      "_view_count": null,
      "_view_module": "@jupyter-widgets/controls",
      "_view_module_version": "1.5.0",
      "_view_name": "HBoxView",
      "box_style": "",
      "children": [
       "IPY_MODEL_7015ce22ed23485fbbb69008e43b54b5",
       "IPY_MODEL_61901e9df7054796a6a34be9548813ea",
       "IPY_MODEL_1b9a780788ee4b60a488604ce41f4856"
      ],
      "layout": "IPY_MODEL_84a0d6b56e0c427e9968a1d36cdc2757"
     }
    },
    "d4bb70f128f64cdd9339e4f3cb83f3b4": {
     "model_module": "@jupyter-widgets/controls",
     "model_module_version": "1.5.0",
     "model_name": "FloatProgressModel",
     "state": {
      "_dom_classes": [],
      "_model_module": "@jupyter-widgets/controls",
      "_model_module_version": "1.5.0",
      "_model_name": "FloatProgressModel",
      "_view_count": null,
      "_view_module": "@jupyter-widgets/controls",
      "_view_module_version": "1.5.0",
      "_view_name": "ProgressView",
      "bar_style": "success",
      "description": "",
      "description_tooltip": null,
      "layout": "IPY_MODEL_99a31e2a373f4a1fa93a2bf9f01edbf1",
      "max": 868285,
      "min": 0,
      "orientation": "horizontal",
      "style": "IPY_MODEL_748e0715760d4d15b208c0aeb2b04356",
      "value": 868285
     }
    },
    "d9e4b06d0ce84d3dbc0ce308ca91c87d": {
     "model_module": "@jupyter-widgets/controls",
     "model_module_version": "1.5.0",
     "model_name": "DescriptionStyleModel",
     "state": {
      "_model_module": "@jupyter-widgets/controls",
      "_model_module_version": "1.5.0",
      "_model_name": "DescriptionStyleModel",
      "_view_count": null,
      "_view_module": "@jupyter-widgets/base",
      "_view_module_version": "1.2.0",
      "_view_name": "StyleView",
      "description_width": ""
     }
    },
    "e0818f0301bf484a93e0c100fbd4532c": {
     "model_module": "@jupyter-widgets/base",
     "model_module_version": "1.2.0",
     "model_name": "LayoutModel",
     "state": {
      "_model_module": "@jupyter-widgets/base",
      "_model_module_version": "1.2.0",
      "_model_name": "LayoutModel",
      "_view_count": null,
      "_view_module": "@jupyter-widgets/base",
      "_view_module_version": "1.2.0",
      "_view_name": "LayoutView",
      "align_content": null,
      "align_items": null,
      "align_self": null,
      "border": null,
      "bottom": null,
      "display": null,
      "flex": null,
      "flex_flow": null,
      "grid_area": null,
      "grid_auto_columns": null,
      "grid_auto_flow": null,
      "grid_auto_rows": null,
      "grid_column": null,
      "grid_gap": null,
      "grid_row": null,
      "grid_template_areas": null,
      "grid_template_columns": null,
      "grid_template_rows": null,
      "height": null,
      "justify_content": null,
      "justify_items": null,
      "left": null,
      "margin": null,
      "max_height": null,
      "max_width": null,
      "min_height": null,
      "min_width": null,
      "object_fit": null,
      "object_position": null,
      "order": null,
      "overflow": null,
      "overflow_x": null,
      "overflow_y": null,
      "padding": null,
      "right": null,
      "top": null,
      "visibility": null,
      "width": null
     }
    },
    "e27c4ef4abaf40c2b07b5af4d541bc3f": {
     "model_module": "@jupyter-widgets/controls",
     "model_module_version": "1.5.0",
     "model_name": "FloatProgressModel",
     "state": {
      "_dom_classes": [],
      "_model_module": "@jupyter-widgets/controls",
      "_model_module_version": "1.5.0",
      "_model_name": "FloatProgressModel",
      "_view_count": null,
      "_view_module": "@jupyter-widgets/controls",
      "_view_module_version": "1.5.0",
      "_view_name": "ProgressView",
      "bar_style": "success",
      "description": "",
      "description_tooltip": null,
      "layout": "IPY_MODEL_c49a1bc3b6534ab09da19c16fa3569e4",
      "max": 929,
      "min": 0,
      "orientation": "horizontal",
      "style": "IPY_MODEL_e4081f4f68634ad5b63ef590594566f2",
      "value": 929
     }
    },
    "e4081f4f68634ad5b63ef590594566f2": {
     "model_module": "@jupyter-widgets/controls",
     "model_module_version": "1.5.0",
     "model_name": "ProgressStyleModel",
     "state": {
      "_model_module": "@jupyter-widgets/controls",
      "_model_module_version": "1.5.0",
      "_model_name": "ProgressStyleModel",
      "_view_count": null,
      "_view_module": "@jupyter-widgets/base",
      "_view_module_version": "1.2.0",
      "_view_name": "StyleView",
      "bar_color": null,
      "description_width": ""
     }
    },
    "e5b7fe1e3cf544a093c3bbc1f075545a": {
     "model_module": "@jupyter-widgets/base",
     "model_module_version": "1.2.0",
     "model_name": "LayoutModel",
     "state": {
      "_model_module": "@jupyter-widgets/base",
      "_model_module_version": "1.2.0",
      "_model_name": "LayoutModel",
      "_view_count": null,
      "_view_module": "@jupyter-widgets/base",
      "_view_module_version": "1.2.0",
      "_view_name": "LayoutView",
      "align_content": null,
      "align_items": null,
      "align_self": null,
      "border": null,
      "bottom": null,
      "display": null,
      "flex": null,
      "flex_flow": null,
      "grid_area": null,
      "grid_auto_columns": null,
      "grid_auto_flow": null,
      "grid_auto_rows": null,
      "grid_column": null,
      "grid_gap": null,
      "grid_row": null,
      "grid_template_areas": null,
      "grid_template_columns": null,
      "grid_template_rows": null,
      "height": null,
      "justify_content": null,
      "justify_items": null,
      "left": null,
      "margin": null,
      "max_height": null,
      "max_width": null,
      "min_height": null,
      "min_width": null,
      "object_fit": null,
      "object_position": null,
      "order": null,
      "overflow": null,
      "overflow_x": null,
      "overflow_y": null,
      "padding": null,
      "right": null,
      "top": null,
      "visibility": null,
      "width": null
     }
    },
    "e5bc5e7f0a5e411c8df37659a67a07a0": {
     "model_module": "@jupyter-widgets/controls",
     "model_module_version": "1.5.0",
     "model_name": "HTMLModel",
     "state": {
      "_dom_classes": [],
      "_model_module": "@jupyter-widgets/controls",
      "_model_module_version": "1.5.0",
      "_model_name": "HTMLModel",
      "_view_count": null,
      "_view_module": "@jupyter-widgets/controls",
      "_view_module_version": "1.5.0",
      "_view_name": "HTMLView",
      "description": "",
      "description_tooltip": null,
      "layout": "IPY_MODEL_a8ef9d5768834aca9163503da575c31e",
      "placeholder": "​",
      "style": "IPY_MODEL_a0d8645b72804cb48ce5be6a17095b2f",
      "value": " 456k/456k [00:00&lt;00:00, 21.5MB/s]"
     }
    },
    "e5ea1d94c8ca40aaa1d9565be143eca2": {
     "model_module": "@jupyter-widgets/controls",
     "model_module_version": "1.5.0",
     "model_name": "ProgressStyleModel",
     "state": {
      "_model_module": "@jupyter-widgets/controls",
      "_model_module_version": "1.5.0",
      "_model_name": "ProgressStyleModel",
      "_view_count": null,
      "_view_module": "@jupyter-widgets/base",
      "_view_module_version": "1.2.0",
      "_view_name": "StyleView",
      "bar_color": null,
      "description_width": ""
     }
    },
    "e6d225c5ce5e4ef3aabd109001e9f86d": {
     "model_module": "@jupyter-widgets/controls",
     "model_module_version": "1.5.0",
     "model_name": "DescriptionStyleModel",
     "state": {
      "_model_module": "@jupyter-widgets/controls",
      "_model_module_version": "1.5.0",
      "_model_name": "DescriptionStyleModel",
      "_view_count": null,
      "_view_module": "@jupyter-widgets/base",
      "_view_module_version": "1.2.0",
      "_view_name": "StyleView",
      "description_width": ""
     }
    },
    "e7460a5a65b34bd28ffefbc8c8c17b79": {
     "model_module": "@jupyter-widgets/controls",
     "model_module_version": "1.5.0",
     "model_name": "HTMLModel",
     "state": {
      "_dom_classes": [],
      "_model_module": "@jupyter-widgets/controls",
      "_model_module_version": "1.5.0",
      "_model_name": "HTMLModel",
      "_view_count": null,
      "_view_module": "@jupyter-widgets/controls",
      "_view_module_version": "1.5.0",
      "_view_name": "HTMLView",
      "description": "",
      "description_tooltip": null,
      "layout": "IPY_MODEL_1ead8799c33e40dc94b9fc0db592579f",
      "placeholder": "​",
      "style": "IPY_MODEL_a1bdc584870c4feb9142d25fff2f42ed",
      "value": " 725/725 [00:00&lt;00:00, 16.8kB/s]"
     }
    },
    "e78e660f05ac4d6798124ec8e34f3477": {
     "model_module": "@jupyter-widgets/base",
     "model_module_version": "1.2.0",
     "model_name": "LayoutModel",
     "state": {
      "_model_module": "@jupyter-widgets/base",
      "_model_module_version": "1.2.0",
      "_model_name": "LayoutModel",
      "_view_count": null,
      "_view_module": "@jupyter-widgets/base",
      "_view_module_version": "1.2.0",
      "_view_name": "LayoutView",
      "align_content": null,
      "align_items": null,
      "align_self": null,
      "border": null,
      "bottom": null,
      "display": null,
      "flex": null,
      "flex_flow": null,
      "grid_area": null,
      "grid_auto_columns": null,
      "grid_auto_flow": null,
      "grid_auto_rows": null,
      "grid_column": null,
      "grid_gap": null,
      "grid_row": null,
      "grid_template_areas": null,
      "grid_template_columns": null,
      "grid_template_rows": null,
      "height": null,
      "justify_content": null,
      "justify_items": null,
      "left": null,
      "margin": null,
      "max_height": null,
      "max_width": null,
      "min_height": null,
      "min_width": null,
      "object_fit": null,
      "object_position": null,
      "order": null,
      "overflow": null,
      "overflow_x": null,
      "overflow_y": null,
      "padding": null,
      "right": null,
      "top": null,
      "visibility": null,
      "width": null
     }
    },
    "e87b2bd9a2ed42759ef716c07a882ad5": {
     "model_module": "@jupyter-widgets/base",
     "model_module_version": "1.2.0",
     "model_name": "LayoutModel",
     "state": {
      "_model_module": "@jupyter-widgets/base",
      "_model_module_version": "1.2.0",
      "_model_name": "LayoutModel",
      "_view_count": null,
      "_view_module": "@jupyter-widgets/base",
      "_view_module_version": "1.2.0",
      "_view_name": "LayoutView",
      "align_content": null,
      "align_items": null,
      "align_self": null,
      "border": null,
      "bottom": null,
      "display": null,
      "flex": null,
      "flex_flow": null,
      "grid_area": null,
      "grid_auto_columns": null,
      "grid_auto_flow": null,
      "grid_auto_rows": null,
      "grid_column": null,
      "grid_gap": null,
      "grid_row": null,
      "grid_template_areas": null,
      "grid_template_columns": null,
      "grid_template_rows": null,
      "height": null,
      "justify_content": null,
      "justify_items": null,
      "left": null,
      "margin": null,
      "max_height": null,
      "max_width": null,
      "min_height": null,
      "min_width": null,
      "object_fit": null,
      "object_position": null,
      "order": null,
      "overflow": null,
      "overflow_x": null,
      "overflow_y": null,
      "padding": null,
      "right": null,
      "top": null,
      "visibility": null,
      "width": null
     }
    },
    "eaaa06fde1f1413dbcf7a4887c2c68f7": {
     "model_module": "@jupyter-widgets/base",
     "model_module_version": "1.2.0",
     "model_name": "LayoutModel",
     "state": {
      "_model_module": "@jupyter-widgets/base",
      "_model_module_version": "1.2.0",
      "_model_name": "LayoutModel",
      "_view_count": null,
      "_view_module": "@jupyter-widgets/base",
      "_view_module_version": "1.2.0",
      "_view_name": "LayoutView",
      "align_content": null,
      "align_items": null,
      "align_self": null,
      "border": null,
      "bottom": null,
      "display": null,
      "flex": null,
      "flex_flow": null,
      "grid_area": null,
      "grid_auto_columns": null,
      "grid_auto_flow": null,
      "grid_auto_rows": null,
      "grid_column": null,
      "grid_gap": null,
      "grid_row": null,
      "grid_template_areas": null,
      "grid_template_columns": null,
      "grid_template_rows": null,
      "height": null,
      "justify_content": null,
      "justify_items": null,
      "left": null,
      "margin": null,
      "max_height": null,
      "max_width": null,
      "min_height": null,
      "min_width": null,
      "object_fit": null,
      "object_position": null,
      "order": null,
      "overflow": null,
      "overflow_x": null,
      "overflow_y": null,
      "padding": null,
      "right": null,
      "top": null,
      "visibility": null,
      "width": null
     }
    },
    "ebf45b42aa1a48a69981ed743e1ffd4c": {
     "model_module": "@jupyter-widgets/base",
     "model_module_version": "1.2.0",
     "model_name": "LayoutModel",
     "state": {
      "_model_module": "@jupyter-widgets/base",
      "_model_module_version": "1.2.0",
      "_model_name": "LayoutModel",
      "_view_count": null,
      "_view_module": "@jupyter-widgets/base",
      "_view_module_version": "1.2.0",
      "_view_name": "LayoutView",
      "align_content": null,
      "align_items": null,
      "align_self": null,
      "border": null,
      "bottom": null,
      "display": null,
      "flex": null,
      "flex_flow": null,
      "grid_area": null,
      "grid_auto_columns": null,
      "grid_auto_flow": null,
      "grid_auto_rows": null,
      "grid_column": null,
      "grid_gap": null,
      "grid_row": null,
      "grid_template_areas": null,
      "grid_template_columns": null,
      "grid_template_rows": null,
      "height": null,
      "justify_content": null,
      "justify_items": null,
      "left": null,
      "margin": null,
      "max_height": null,
      "max_width": null,
      "min_height": null,
      "min_width": null,
      "object_fit": null,
      "object_position": null,
      "order": null,
      "overflow": null,
      "overflow_x": null,
      "overflow_y": null,
      "padding": null,
      "right": null,
      "top": null,
      "visibility": null,
      "width": null
     }
    },
    "f187fec9a45744cdaf9a805e7648a95b": {
     "model_module": "@jupyter-widgets/controls",
     "model_module_version": "1.5.0",
     "model_name": "FloatProgressModel",
     "state": {
      "_dom_classes": [],
      "_model_module": "@jupyter-widgets/controls",
      "_model_module_version": "1.5.0",
      "_model_name": "FloatProgressModel",
      "_view_count": null,
      "_view_module": "@jupyter-widgets/controls",
      "_view_module_version": "1.5.0",
      "_view_name": "ProgressView",
      "bar_style": "success",
      "description": "",
      "description_tooltip": null,
      "layout": "IPY_MODEL_4b11cd49b28a4194bbd494ee8e7d0461",
      "max": 481,
      "min": 0,
      "orientation": "horizontal",
      "style": "IPY_MODEL_e5ea1d94c8ca40aaa1d9565be143eca2",
      "value": 481
     }
    },
    "f272ebd214f143579a747d37f06f8578": {
     "model_module": "@jupyter-widgets/controls",
     "model_module_version": "1.5.0",
     "model_name": "HBoxModel",
     "state": {
      "_dom_classes": [],
      "_model_module": "@jupyter-widgets/controls",
      "_model_module_version": "1.5.0",
      "_model_name": "HBoxModel",
      "_view_count": null,
      "_view_module": "@jupyter-widgets/controls",
      "_view_module_version": "1.5.0",
      "_view_name": "HBoxView",
      "box_style": "",
      "children": [
       "IPY_MODEL_3b76aca2cab644f4adb0a9c24b33865d",
       "IPY_MODEL_4f658c94ca774adeb6c27f0b8d68b368",
       "IPY_MODEL_f8d2fab6726a49e8b8443783f5f20911"
      ],
      "layout": "IPY_MODEL_4f240765e11f47e5b8110c3cb2f81b35"
     }
    },
    "f4b74ca0fa154f43b9f789ab34852d4e": {
     "model_module": "@jupyter-widgets/controls",
     "model_module_version": "1.5.0",
     "model_name": "FloatProgressModel",
     "state": {
      "_dom_classes": [],
      "_model_module": "@jupyter-widgets/controls",
      "_model_module_version": "1.5.0",
      "_model_name": "FloatProgressModel",
      "_view_count": null,
      "_view_module": "@jupyter-widgets/controls",
      "_view_module_version": "1.5.0",
      "_view_name": "ProgressView",
      "bar_style": "success",
      "description": "",
      "description_tooltip": null,
      "layout": "IPY_MODEL_197cc63ffeb0453fba7730a9b8bd531d",
      "max": 94897,
      "min": 0,
      "orientation": "horizontal",
      "style": "IPY_MODEL_536d0694580e46ad9356586aea88627d",
      "value": 94897
     }
    },
    "f584fa16b1ba48fc8ff6d4c4ff8b9dbd": {
     "model_module": "@jupyter-widgets/controls",
     "model_module_version": "1.5.0",
     "model_name": "HTMLModel",
     "state": {
      "_dom_classes": [],
      "_model_module": "@jupyter-widgets/controls",
      "_model_module_version": "1.5.0",
      "_model_name": "HTMLModel",
      "_view_count": null,
      "_view_module": "@jupyter-widgets/controls",
      "_view_module_version": "1.5.0",
      "_view_name": "HTMLView",
      "description": "",
      "description_tooltip": null,
      "layout": "IPY_MODEL_7c4ff144e1ec4fa7801584bdab170860",
      "placeholder": "​",
      "style": "IPY_MODEL_47be54d96a3f4661932853c10d75608c",
      "value": " 899k/899k [00:00&lt;00:00, 8.49MB/s]"
     }
    },
    "f5970bf0a69842e692041a7a2c21dfb1": {
     "model_module": "@jupyter-widgets/controls",
     "model_module_version": "1.5.0",
     "model_name": "HTMLModel",
     "state": {
      "_dom_classes": [],
      "_model_module": "@jupyter-widgets/controls",
      "_model_module_version": "1.5.0",
      "_model_name": "HTMLModel",
      "_view_count": null,
      "_view_module": "@jupyter-widgets/controls",
      "_view_module_version": "1.5.0",
      "_view_name": "HTMLView",
      "description": "",
      "description_tooltip": null,
      "layout": "IPY_MODEL_e87b2bd9a2ed42759ef716c07a882ad5",
      "placeholder": "​",
      "style": "IPY_MODEL_3ded0e0a04d848288c4e07fb2ccb0b18",
      "value": " 8404/8404 [00:00&lt;00:00, 89631.73 examples/s]"
     }
    },
    "f5d04592b62d4a6e97e25ba5e9a32326": {
     "model_module": "@jupyter-widgets/base",
     "model_module_version": "1.2.0",
     "model_name": "LayoutModel",
     "state": {
      "_model_module": "@jupyter-widgets/base",
      "_model_module_version": "1.2.0",
      "_model_name": "LayoutModel",
      "_view_count": null,
      "_view_module": "@jupyter-widgets/base",
      "_view_module_version": "1.2.0",
      "_view_name": "LayoutView",
      "align_content": null,
      "align_items": null,
      "align_self": null,
      "border": null,
      "bottom": null,
      "display": null,
      "flex": null,
      "flex_flow": null,
      "grid_area": null,
      "grid_auto_columns": null,
      "grid_auto_flow": null,
      "grid_auto_rows": null,
      "grid_column": null,
      "grid_gap": null,
      "grid_row": null,
      "grid_template_areas": null,
      "grid_template_columns": null,
      "grid_template_rows": null,
      "height": null,
      "justify_content": null,
      "justify_items": null,
      "left": null,
      "margin": null,
      "max_height": null,
      "max_width": null,
      "min_height": null,
      "min_width": null,
      "object_fit": null,
      "object_position": null,
      "order": null,
      "overflow": null,
      "overflow_x": null,
      "overflow_y": null,
      "padding": null,
      "right": null,
      "top": null,
      "visibility": null,
      "width": null
     }
    },
    "f84583fe125e4bcca143ff4ac47bf35e": {
     "model_module": "@jupyter-widgets/controls",
     "model_module_version": "1.5.0",
     "model_name": "FloatProgressModel",
     "state": {
      "_dom_classes": [],
      "_model_module": "@jupyter-widgets/controls",
      "_model_module_version": "1.5.0",
      "_model_name": "FloatProgressModel",
      "_view_count": null,
      "_view_module": "@jupyter-widgets/controls",
      "_view_module_version": "1.5.0",
      "_view_name": "ProgressView",
      "bar_style": "success",
      "description": "",
      "description_tooltip": null,
      "layout": "IPY_MODEL_2302c713309f4c3fa71b517321a62356",
      "max": 898822,
      "min": 0,
      "orientation": "horizontal",
      "style": "IPY_MODEL_2e1af413cfb048d3bd738f0a2d56d5c2",
      "value": 898822
     }
    },
    "f8970e3c49144308809264350121230b": {
     "model_module": "@jupyter-widgets/controls",
     "model_module_version": "1.5.0",
     "model_name": "DescriptionStyleModel",
     "state": {
      "_model_module": "@jupyter-widgets/controls",
      "_model_module_version": "1.5.0",
      "_model_name": "DescriptionStyleModel",
      "_view_count": null,
      "_view_module": "@jupyter-widgets/base",
      "_view_module_version": "1.2.0",
      "_view_name": "StyleView",
      "description_width": ""
     }
    },
    "f8d2fab6726a49e8b8443783f5f20911": {
     "model_module": "@jupyter-widgets/controls",
     "model_module_version": "1.5.0",
     "model_name": "HTMLModel",
     "state": {
      "_dom_classes": [],
      "_model_module": "@jupyter-widgets/controls",
      "_model_module_version": "1.5.0",
      "_model_name": "HTMLModel",
      "_view_count": null,
      "_view_module": "@jupyter-widgets/controls",
      "_view_module_version": "1.5.0",
      "_view_name": "HTMLView",
      "description": "",
      "description_tooltip": null,
      "layout": "IPY_MODEL_8e33c271de1744bc8d0b6f67c1101dcc",
      "placeholder": "​",
      "style": "IPY_MODEL_a6ce855654cc4ca295ce3689984ac226",
      "value": " 300k/300k [00:00&lt;00:00, 4.38MB/s]"
     }
    },
    "fbb555562628439a8688074da28c6cd6": {
     "model_module": "@jupyter-widgets/controls",
     "model_module_version": "1.5.0",
     "model_name": "DescriptionStyleModel",
     "state": {
      "_model_module": "@jupyter-widgets/controls",
      "_model_module_version": "1.5.0",
      "_model_name": "DescriptionStyleModel",
      "_view_count": null,
      "_view_module": "@jupyter-widgets/base",
      "_view_module_version": "1.2.0",
      "_view_name": "StyleView",
      "description_width": ""
     }
    },
    "fc2a3ed815b547509babfe56b6b0028c": {
     "model_module": "@jupyter-widgets/controls",
     "model_module_version": "1.5.0",
     "model_name": "HTMLModel",
     "state": {
      "_dom_classes": [],
      "_model_module": "@jupyter-widgets/controls",
      "_model_module_version": "1.5.0",
      "_model_name": "HTMLModel",
      "_view_count": null,
      "_view_module": "@jupyter-widgets/controls",
      "_view_module_version": "1.5.0",
      "_view_name": "HTMLView",
      "description": "",
      "description_tooltip": null,
      "layout": "IPY_MODEL_4d35111788134cb39ed708ac586b83eb",
      "placeholder": "​",
      "style": "IPY_MODEL_73db15a993774ae1bda701fe24873603",
      "value": " 933/933 [00:00&lt;00:00, 26601.09 examples/s]"
     }
    },
    "fd4b212ac7d94f5fb1f1d92a27f65a01": {
     "model_module": "@jupyter-widgets/base",
     "model_module_version": "1.2.0",
     "model_name": "LayoutModel",
     "state": {
      "_model_module": "@jupyter-widgets/base",
      "_model_module_version": "1.2.0",
      "_model_name": "LayoutModel",
      "_view_count": null,
      "_view_module": "@jupyter-widgets/base",
      "_view_module_version": "1.2.0",
      "_view_name": "LayoutView",
      "align_content": null,
      "align_items": null,
      "align_self": null,
      "border": null,
      "bottom": null,
      "display": null,
      "flex": null,
      "flex_flow": null,
      "grid_area": null,
      "grid_auto_columns": null,
      "grid_auto_flow": null,
      "grid_auto_rows": null,
      "grid_column": null,
      "grid_gap": null,
      "grid_row": null,
      "grid_template_areas": null,
      "grid_template_columns": null,
      "grid_template_rows": null,
      "height": null,
      "justify_content": null,
      "justify_items": null,
      "left": null,
      "margin": null,
      "max_height": null,
      "max_width": null,
      "min_height": null,
      "min_width": null,
      "object_fit": null,
      "object_position": null,
      "order": null,
      "overflow": null,
      "overflow_x": null,
      "overflow_y": null,
      "padding": null,
      "right": null,
      "top": null,
      "visibility": null,
      "width": null
     }
    },
    "fd8d30cbdcc1416bb322284af4ed38fd": {
     "model_module": "@jupyter-widgets/base",
     "model_module_version": "1.2.0",
     "model_name": "LayoutModel",
     "state": {
      "_model_module": "@jupyter-widgets/base",
      "_model_module_version": "1.2.0",
      "_model_name": "LayoutModel",
      "_view_count": null,
      "_view_module": "@jupyter-widgets/base",
      "_view_module_version": "1.2.0",
      "_view_name": "LayoutView",
      "align_content": null,
      "align_items": null,
      "align_self": null,
      "border": null,
      "bottom": null,
      "display": null,
      "flex": null,
      "flex_flow": null,
      "grid_area": null,
      "grid_auto_columns": null,
      "grid_auto_flow": null,
      "grid_auto_rows": null,
      "grid_column": null,
      "grid_gap": null,
      "grid_row": null,
      "grid_template_areas": null,
      "grid_template_columns": null,
      "grid_template_rows": null,
      "height": null,
      "justify_content": null,
      "justify_items": null,
      "left": null,
      "margin": null,
      "max_height": null,
      "max_width": null,
      "min_height": null,
      "min_width": null,
      "object_fit": null,
      "object_position": null,
      "order": null,
      "overflow": null,
      "overflow_x": null,
      "overflow_y": null,
      "padding": null,
      "right": null,
      "top": null,
      "visibility": null,
      "width": null
     }
    }
   }
  }
 },
 "nbformat": 4,
 "nbformat_minor": 4
}
